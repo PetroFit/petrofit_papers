{
 "cells": [
  {
   "cell_type": "markdown",
   "id": "3e52c34d",
   "metadata": {},
   "source": [
    "# Fitting\n",
    "\n",
    "\n",
    "Most galaxy light profiles can be well described by PSF convolved models like the Sersic profile. PetroFit uses the `astropy` `modeling` and `fitting` sub-modules to provide tools to preform two dimensional fits of galaxy light profiles.  To this end, we use the PetroFit ` PSFModel` class, which applies PSF convolution to and handles oversampling for `astropy` based models.  \n",
    "\n",
    "In this section, we demonstrate the basics of light profile modeling on a galaxy using a single component Sersic profile. We also demonstrate how the `photometry` and `petrosian` PetroFit sub-models can be used to improve the initial guesses of the Sersic parameters."
   ]
  },
  {
   "cell_type": "markdown",
   "id": "a68cbd8e",
   "metadata": {},
   "source": [
    "## Loading Example Data\n",
    "\n",
    "The following data is a cutout of a group of bright galaxies in Abell 2744. The original data was aquired by the [Hubble Frontier Fields](https://frontierfields.org) team via the WFC3 instrument in the `F105W` filter and can be dirctly downloaded from the [Mikulski Archive for Space Telescopes](https://archive.stsci.edu/pub/hlsp/frontier/abell2744/images/hst/v1.0/hlsp_frontier_hst_wfc3-60mas_abell2744_f105w_v1.0_drz.fits). \n",
    "\n",
    "### Loading Image \n",
    "We first use `astropy`'s ``CCDData`` to load the example data and visualize it through `matplotlib`."
   ]
  },
  {
   "cell_type": "code",
   "execution_count": null,
   "id": "f1bedfcd",
   "metadata": {},
   "outputs": [],
   "source": [
    "%matplotlib inline\n",
    "\n",
    "from matplotlib import pyplot as plt\n",
    "\n",
    "plt.rcParams['figure.figsize'] = [10, 10]\n",
    "plt.rcParams['image.origin'] = 'lower'\n",
    "#plt.rcParams.update({'font.size': 17})\n",
    "\n",
    "SMALL_SIZE = 15\n",
    "MEDIUM_SIZE = 18\n",
    "BIGGER_SIZE = 20\n",
    "\n",
    "#plt.rc('font', size=SMALL_SIZE)          # controls default text sizes\n",
    "plt.rc('axes', titlesize=BIGGER_SIZE)     # fontsize of the axes title\n",
    "plt.rc('axes', labelsize=BIGGER_SIZE)    # fontsize of the x and y labels\n",
    "plt.rc('xtick', labelsize=BIGGER_SIZE)    # fontsize of the tick labels\n",
    "plt.rc('ytick', labelsize=BIGGER_SIZE)    # fontsize of the tick labels\n",
    "plt.rc('legend', fontsize=SMALL_SIZE)    # legend fontsize\n",
    "plt.rc('figure', titlesize=BIGGER_SIZE)  # fontsize of the figure title\n",
    "\n",
    "def savefig(filename):\n",
    "    plt.savefig(\"plots/\"+filename, dpi=70, bbox_inches = 'tight', pad_inches = 0.1)"
   ]
  },
  {
   "cell_type": "code",
   "execution_count": null,
   "id": "91575418",
   "metadata": {},
   "outputs": [],
   "source": [
    "from astropy.nddata import CCDData, Cutout2D\n",
    "from astropy.io import fits \n",
    "from astropy import units as u \n",
    "\n",
    "url = 'https://archive.stsci.edu/pub/hlsp/frontier/abell2744/images/hst/v1.0/hlsp_frontier_hst_wfc3-60mas_abell2744_f105w_v1.0_drz.fits'\n",
    "\n",
    "image_data = CCDData.read(url, cache=True)\n",
    "rms_data = fits.getdata(url.replace('drz', 'rms'))"
   ]
  },
  {
   "cell_type": "code",
   "execution_count": null,
   "id": "7aca84a3",
   "metadata": {},
   "outputs": [],
   "source": [
    "from astropy.coordinates import SkyCoord\n",
    "\n",
    "targ_x, targ_y = image_data.wcs.world_to_pixel(SkyCoord(3.596248*u.deg,  -30.388517*u.deg))"
   ]
  },
  {
   "cell_type": "code",
   "execution_count": null,
   "id": "61dd85a2",
   "metadata": {},
   "outputs": [],
   "source": [
    "from astropy import units as u \n",
    "\n",
    "image = Cutout2D(image_data, position=(targ_x-1, targ_y), size=150, copy=True, wcs=image_data.wcs)\n",
    "rms =  Cutout2D(rms_data, position=(targ_x-1, targ_y), size=150, copy=True)"
   ]
  },
  {
   "cell_type": "code",
   "execution_count": null,
   "id": "ffb27660",
   "metadata": {
    "scrolled": false
   },
   "outputs": [],
   "source": [
    "import numpy as np\n",
    "\n",
    "\n",
    "vmax = 0.05 # Use the image std as max and min of all plots \n",
    "vmin = - vmax \n",
    "\n",
    "plt.imshow(image.data, vmin=vmin, vmax=vmax)\n",
    "plt.title(\"Galaxy in Abell 2744\")\n",
    "plt.xlabel(\"Pixels\")\n",
    "plt.ylabel(\"Pixels\")\n",
    "plt.show()"
   ]
  },
  {
   "cell_type": "code",
   "execution_count": null,
   "id": "c8a14d5d",
   "metadata": {},
   "outputs": [],
   "source": [
    "from petrofit.fitting import fit_background\n",
    "import numpy as np \n",
    "\n",
    "def calc_bg(target_image):\n",
    "    fig, axs = plt.subplots(1,3)\n",
    "    x_arr = np.linspace(0, target_cutout_size, target_cutout_size+1)[:-1]\n",
    "    x_grid, y_grid = np.meshgrid(x_arr, x_arr)\n",
    "    \n",
    "    bg_image = fit_background(target_image, sigma=3.0)[0](x_grid, y_grid)\n",
    "    \n",
    "    plt.sca(axs[0])\n",
    "    plt.imshow(bg_image)\n",
    "    \n",
    "    plt.sca(axs[1])\n",
    "    plt.imshow(bg_image, vmax=vmax, vmin=vmin)\n",
    "    \n",
    "    plt.sca(axs[2])\n",
    "    plt.imshow(target_image-bg_image, vmax=vmax, vmin=vmin)\n",
    "    \n",
    "    return bg_image\n",
    "\n",
    "target_cutout_size = len(image.data)\n",
    "bg = calc_bg(image.data)\n",
    "image.data = image.data - bg "
   ]
  },
  {
   "cell_type": "code",
   "execution_count": null,
   "id": "241ae7ac",
   "metadata": {},
   "outputs": [],
   "source": [
    "image_header = image_data.header.copy()\n",
    "image_header.update(image.wcs.to_header())\n",
    "image_header.update({\n",
    "    'EXPTIME' : 1.0,\n",
    "    'RDNOISE' : image_header['READNSEC'], \n",
    "    'GAIN' : image_header['CCDGAIN']})\n",
    "fits.writeto('./comparisons/bg_subtracted_abell2744_test_image.fits', image.data, header=image_header, overwrite=True)\n",
    "\n",
    "rms_header = fits.getheader(url.replace('drz', 'rms'))\n",
    "rms_header.update(image.wcs.to_header())\n",
    "fits.writeto('./comparisons/bg_subtracted_abell2744_test_rms.fits', rms.data, header=rms_header, overwrite=True)\n",
    "\n"
   ]
  },
  {
   "cell_type": "markdown",
   "id": "2b76dbf6",
   "metadata": {},
   "source": [
    "## Make Source Catalog \n",
    "\n",
    "We will use the sigma clipped std as a threshold at the segmentation and deblending steps.\n"
   ]
  },
  {
   "cell_type": "code",
   "execution_count": null,
   "id": "b5d8bba9",
   "metadata": {},
   "outputs": [],
   "source": [
    "from astropy.stats import sigma_clipped_stats\n",
    "image_mean, image_median, image_stddev = sigma_clipped_stats(image.data, sigma=3)"
   ]
  },
  {
   "cell_type": "markdown",
   "id": "14f99306",
   "metadata": {},
   "source": [
    "Here we identity sources in the input image."
   ]
  },
  {
   "cell_type": "code",
   "execution_count": null,
   "id": "648a41a2",
   "metadata": {},
   "outputs": [],
   "source": [
    "from petrofit.segmentation import make_catalog, plot_segments, masked_segm_image\n",
    "\n",
    "threshold = image_stddev * 2\n",
    "\n",
    "# Define smoothing kernel\n",
    "kernel_size = 3\n",
    "fwhm = 3\n",
    "\n",
    "# Min Source size (area)\n",
    "npixels = 2**2\n",
    "\n",
    "\n",
    "cat, segm, segm_deblend = make_catalog(    \n",
    "    image.data, \n",
    "    threshold=threshold, \n",
    "    deblend=True,                 \n",
    "    kernel_size=kernel_size,                  \n",
    "    fwhm=fwhm, \n",
    "    npixels=npixels,\n",
    "    contrast=0.00,\n",
    "    plot=True, vmax=vmax, vmin=vmin\n",
    ")\n",
    "\n",
    "plt.show()\n",
    "\n",
    "# Display source properties\n",
    "print(\"Num of Targets:\", len(cat))"
   ]
  },
  {
   "cell_type": "markdown",
   "id": "8d1050fc",
   "metadata": {},
   "source": [
    "## Single Source Photometry \n",
    "\n",
    "\n",
    "Here we pick a galaxy that can be modeled using a single Sersic model, the galaxy in the middle looks like an elliptical galaxy that can be well described by such a profile. To make sure we selected the right galaxy, we use the `plot_target` function to plot a cutout of the source. "
   ]
  },
  {
   "cell_type": "code",
   "execution_count": null,
   "id": "5c2384e9",
   "metadata": {},
   "outputs": [],
   "source": [
    "from petrofit.photometry import order_cat\n",
    "from petrofit.utils import plot_target\n",
    "\n",
    "# Sort and select object of interest in the catalog\n",
    "sorted_idx_list = order_cat(cat, key='area', reverse=True)\n",
    "idx = sorted_idx_list[2] # index 0 is largest \n",
    "source = cat[idx]  # get source from the catalog \n",
    "\n",
    "plot_target(\n",
    "    position=(source.maxval_xindex, source.maxval_yindex), \n",
    "    image=image.data, \n",
    "    size=75, \n",
    "    vmax=vmax, \n",
    "    vmin=vmin\n",
    ")"
   ]
  },
  {
   "cell_type": "code",
   "execution_count": null,
   "id": "aa4d35c9",
   "metadata": {},
   "outputs": [],
   "source": [
    "pixel_mask = masked_segm_image(source, np.zeros_like(image.data), segm_deblend)\n",
    "pixel_mask[np.where(np.isnan(pixel_mask))] = 1\n",
    "plt.imshow(pixel_mask)\n",
    "\n",
    "fits.writeto('./comparisons/bg_subtracted_abell2744_test_mask.fits', pixel_mask, overwrite=True)"
   ]
  },
  {
   "cell_type": "markdown",
   "id": "9d172029",
   "metadata": {},
   "source": [
    "After selecting the source, we define a radius list for the aperture photometry. Once `r_list` is defined, we run the `source_photometry` step."
   ]
  },
  {
   "cell_type": "code",
   "execution_count": null,
   "id": "2c1a6837",
   "metadata": {},
   "outputs": [],
   "source": [
    "from petrofit.photometry import make_radius_list\n",
    "from petrofit.photometry import source_photometry\n",
    "\n",
    "max_pix = 70\n",
    "\n",
    "r_list = make_radius_list(\n",
    "    max_pix=max_pix, # Max pixel to go up to\n",
    "    n=max_pix # the number of radii to produce \n",
    ")\n",
    "\n",
    "print(\"len(r_list) = {}\".format(len(r_list)))\n",
    "\n",
    "\n",
    "# Photomerty \n",
    "flux_arr, area_arr, error_arr = source_photometry(\n",
    "    \n",
    "    # Inputs \n",
    "    source, # Source (`photutils.segmentation.catalog.SourceCatalog`)\n",
    "    image.data, # Image as 2D array \n",
    "    segm_deblend, # Deblended segmentation map of image\n",
    "    r_list, # list of aperture radii\n",
    "    \n",
    "    error=rms.data,\n",
    "    \n",
    "    # Options \n",
    "    cutout_size=max(r_list)*2, # Cutout out size, set to double the max radius  \n",
    "    bkg_sub=True, # Subtract background  \n",
    "    sigma=3, sigma_type='clip', # Fit a 2D plane to pixels within 1 sigma of the mean\n",
    "    plot=True, vmax=vmax, vmin=vmin, # Show plot with max and min defined above\n",
    ")\n"
   ]
  },
  {
   "cell_type": "markdown",
   "id": "d167e5fa",
   "metadata": {},
   "source": [
    "## Petrosian Profile \n",
    "\n",
    " \n",
    "We use the photometry that we obtained to construct a `Petrosian` profile of the galaxy. This will allow us to estimate the parameters of the galaxies Sersic profile. We also initialize a `PetrosianCorrection` which we can use to estimate the Sersic index (`n`) and `r_eff` (half light radius). The correction grid we use for `PetrosianCorrection` was created specifically for this dataset using the PSF above. \n"
   ]
  },
  {
   "cell_type": "code",
   "execution_count": null,
   "id": "e2161ce6",
   "metadata": {},
   "outputs": [],
   "source": [
    "from petrofit.petrosian import Petrosian, PetrosianCorrection\n",
    "\n",
    "p = Petrosian(r_list, area_arr, flux_arr)\n",
    "\n",
    "pc = PetrosianCorrection(\"example_correction_gid.yaml\")"
   ]
  },
  {
   "cell_type": "markdown",
   "id": "bdcaebb5",
   "metadata": {},
   "source": [
    "Next we compute and apply the epsilon that produces the correct `r_total_flux` and create a new corrected Petrosian profile (`corrected_p`). To compute `corrected_epsilon` we use the uncorrected ` r_half_light` and `C2080`."
   ]
  },
  {
   "cell_type": "code",
   "execution_count": null,
   "id": "42ff7344",
   "metadata": {},
   "outputs": [],
   "source": [
    "corrected_epsilon = pc.estimate_epsilon(\n",
    "    p.r_half_light,\n",
    "    p.concentration_index()[-1]\n",
    "\n",
    ")\n",
    "\n",
    "corrected_p = Petrosian(r_list, area_arr, flux_arr, uncertainties=error_arr,\n",
    "                        epsilon=corrected_epsilon)"
   ]
  },
  {
   "cell_type": "markdown",
   "id": "8cb7fca8",
   "metadata": {},
   "source": [
    "Galaxies with a high Sersic index (high concentration) have `r_total_flux`s that extend much further than we can possibly measure. If the corrected `r_total_flux` is out of the photometric range (i.e ` r_total_flux > max_pix `), we would be unable to measure the flux at `r_total_flux` (the total flux), which also means that we would be unable to measure the Petrosian radius (`np.nan` is returned). If the corrected ` r_total_flux` is out of range and we feel like the photometry data range goes far out enough to estimate the total flux, we can set `epsilon` to a value that will result in a ` r_total_flux`  equal to the last photometry radius."
   ]
  },
  {
   "cell_type": "code",
   "execution_count": null,
   "id": "6f0d4ee3",
   "metadata": {},
   "outputs": [],
   "source": [
    "max_photometry_r =  max(corrected_p.r_list)\n",
    "\n",
    "if corrected_p.total_flux > max_photometry_r:\n",
    "    print(\"Truncation was applied\")\n",
    "    truncated_epsilon = max_photometry_r / corrected_p.r_petrosian\n",
    "    corrected_p.epsilon = truncated_epsilon\n",
    "else:\n",
    "    print(\"Truncation was not needed\")\n",
    "\n",
    "# Print Radii\n",
    "print('total_flux = ', corrected_p.total_flux)\n",
    "print('max_photometry_r = ', max_photometry_r)\n",
    "\n",
    "# Plot Petrosian \n",
    "corrected_p.plot(plot_r=True, plot_normalized_flux=True)\n",
    "plt.show()"
   ]
  },
  {
   "cell_type": "markdown",
   "id": "ab39545f",
   "metadata": {},
   "source": [
    "## Estimating  Sersic Parameters \n",
    "\n",
    "`astropy`’s `Sersic2D` implements this model and allows us to provide initial guesses for the Sersic parameters. Getting good estimates of these parameters is very important because the Levenberg-Marquardt algorithm is sensitive and may return parameters that correspond to a local minium. Because of this, we follow the steps below to estimate the Sersic parameters.\n",
    "\n",
    "The `Sersic2D` model has the following parameters:\n",
    "\n",
    "- [**amplitude**: Surface brightness at r_eff.](#Amplitude-at-r_eff)\n",
    "- [**r_eff**: Effective (half-light) radius.](#Half-Light-Radius-(r_eff))\n",
    "- [**n**: Sersic Index.](#Sersic-Index)\n",
    "- [**x_0 and y_0**: x and y position of the center.](#Center-Pixel)\n",
    "- [**ellip**:  Ellipticity of the profile.](#Ellipticity-and-Elongation)\n",
    "- [**theta**: Rotation angle in radians, counterclockwise from the positive x-axis.](#Source-Orientation)\n",
    "\n",
    "\n",
    "\n",
    "### Center Pixel\n",
    "\n",
    "We can use the `get_source_position` to find the max pixel position of the sourec in the image using the `SourceCatalog` object. Since this center is relative to the image, we save the result in `image_x_0` and `image_y_0`."
   ]
  },
  {
   "cell_type": "code",
   "execution_count": null,
   "id": "508cb6a9",
   "metadata": {},
   "outputs": [],
   "source": [
    "from petrofit.segmentation import get_source_position\n",
    "image_x_0, image_y_0 = get_source_position(source)\n",
    "\n",
    "print(image_x_0, image_y_0)"
   ]
  },
  {
   "cell_type": "markdown",
   "id": "29805c6d",
   "metadata": {},
   "source": [
    "###  Ellipticity and Elongation\n",
    "\n",
    "We pass the source's `SourceCatalog` object to the `get_source_ellip` and `get_source_elong` functions to find the source's light profile ellipticity and elongation respectively. These values are drived from the segmentation footprint of the source. "
   ]
  },
  {
   "cell_type": "code",
   "execution_count": null,
   "id": "4c3178e0",
   "metadata": {},
   "outputs": [],
   "source": [
    "from petrofit.segmentation import get_source_ellip\n",
    "ellip = get_source_ellip(source)\n",
    "\n",
    "from petrofit.segmentation import get_source_elong\n",
    "elong = get_source_elong(source)\n",
    "\n",
    "print(ellip)\n",
    "print(elong)"
   ]
  },
  {
   "cell_type": "markdown",
   "id": "2655cec5",
   "metadata": {},
   "source": [
    "### Source Orientation\n",
    "\n",
    "We pass the source's `SourceCatalog` object to the `get_source_theta` funciton to find the orientation of the light profile in radians, counterclockwise from the positive x-axis.. In some catalogs, this value is known as the position angle."
   ]
  },
  {
   "cell_type": "code",
   "execution_count": null,
   "id": "2c98ec68",
   "metadata": {},
   "outputs": [],
   "source": [
    "from petrofit.segmentation import get_source_theta\n",
    "theta = get_source_theta(source)\n",
    "\n",
    "print(theta)"
   ]
  },
  {
   "cell_type": "markdown",
   "id": "6dfa5518",
   "metadata": {},
   "source": [
    "### Sersic Index\n",
    "\n",
    "The PetroFit `PetrosianCorrection` contains a gird that maps the uncorrected (PSF convolved) Petrosian half-light radius and concentration index to an epsilon value that gives the correct Petrosian radii. This gird can also be used to map the uncorrected half-light radius and concentration index to a Sersic index. "
   ]
  },
  {
   "cell_type": "code",
   "execution_count": null,
   "id": "57ef0d9c",
   "metadata": {},
   "outputs": [],
   "source": [
    "n = pc.estimate_n(\n",
    "    p.r_half_light,\n",
    "    p.concentration_index()[-1]\n",
    ")\n",
    "\n",
    "print(n)"
   ]
  },
  {
   "cell_type": "markdown",
   "id": "881f2ffe",
   "metadata": {},
   "source": [
    "### Half Light Radius (r_eff)\n",
    "\n",
    "We use the corrected Petrosian to estimate the half light radius (`r_eff`)."
   ]
  },
  {
   "cell_type": "code",
   "execution_count": null,
   "id": "b0dec7fc",
   "metadata": {},
   "outputs": [],
   "source": [
    "r_eff = corrected_p.r_half_light\n",
    "\n",
    "print(r_eff)"
   ]
  },
  {
   "cell_type": "markdown",
   "id": "f1189983",
   "metadata": {},
   "source": [
    "### Amplitude at r_eff\n",
    "\n",
    "To find the flux at the half-light radius, we fit an elliptical isophot at `r_eff` using `photutils`’s `Ellipse` model. "
   ]
  },
  {
   "cell_type": "code",
   "execution_count": null,
   "id": "ffd2861a",
   "metadata": {},
   "outputs": [],
   "source": [
    "from photutils.isophote import EllipseGeometry, Ellipse\n",
    "\n",
    "# Define EllipseGeometry using ellip and theta\n",
    "g = EllipseGeometry(image_x_0, image_y_0, 1., ellip, theta)\n",
    "\n",
    "# Create Ellipse model \n",
    "ellipse = Ellipse(image.data, geometry=g)\n",
    "\n",
    "# Fit isophote at r_eff\n",
    "iso = ellipse.fit_isophote(r_eff)\n",
    "\n",
    "# Get flux at r_eff\n",
    "amplitude = iso.intens\n",
    "\n",
    "print(amplitude)"
   ]
  },
  {
   "cell_type": "markdown",
   "id": "f9e59d78",
   "metadata": {},
   "source": [
    "## Zoom and Mask Image\n",
    "\n",
    "Before we fit the image, it is important to mask all nearby sources to avoid interference and zoom in to avoid fitting irrelevant pixels (especially those outside of `r_total_flux`). For this example, we will mask nearby sources using the `masked_segm_image` function that masks pixels using source segmentation footprints and make a zoomed cutout using `astropy`’s `Cutout2D` function. We also make a second cutout (`fitting_image_unmasked`) of the same dimensions as the fitting image, but without masking nearby sources. We will subtract the fitted model from this unmasked image once the fitting is complete. \n",
    "\n",
    "We make a cutout of size `cutout_size` centered at he source, as we identified in the [finding center section](#Center-Pixel), and define a new center (`x_0` and `y_0`) that we will use in the `astropy` model. \n"
   ]
  },
  {
   "cell_type": "code",
   "execution_count": null,
   "id": "f4847bb3",
   "metadata": {},
   "outputs": [],
   "source": [
    "max(r_list)*2"
   ]
  },
  {
   "cell_type": "code",
   "execution_count": null,
   "id": "dbe30014",
   "metadata": {},
   "outputs": [],
   "source": [
    "from astropy.nddata import Cutout2D\n",
    "from petrofit.segmentation import masked_segm_image\n",
    "\n",
    "# Define cutout size \n",
    "cutout_size = 150 #max(r_list)*2\n",
    "\n",
    "# Make an image with all sources masked except `source`\n",
    "masked_image = masked_segm_image(source, image.data, segm_deblend, fill=None, mask_background=False)\n",
    "\n",
    "# Make cutouts \n",
    "fitting_image = Cutout2D(masked_image, (image_x_0, image_y_0), cutout_size, mode='partial', copy=True)\n",
    "fitting_image_unmasked = Cutout2D(image.data, (image_x_0, image_y_0), cutout_size, mode='partial', copy=True)\n",
    "\n",
    "# Define new center \n",
    "x_0 = y_0 = cutout_size / 2\n",
    "\n",
    "# Plot cutout that will be fit \n",
    "plt.imshow(fitting_image.data, vmin=vmin, vmax=vmax)\n",
    "plt.title(\"Galaxy in Abell 2744\")\n",
    "plt.xlabel(\"Pixels\")\n",
    "plt.ylabel(\"Pixels\")\n",
    "plt.show()"
   ]
  },
  {
   "cell_type": "markdown",
   "id": "33f984f4",
   "metadata": {},
   "source": [
    "## AstroPy Sersic Model\n",
    "\n",
    "We also define a set of `bounds`,  a dictionary of lower and upper bounds of parameters. Keys are parameter names. The values are a list or a tuple of length 2 giving the desired range for the parameter and a value of `None` means no bounds. For example, we restrain the fitter from exploring half-light radii that are negative by adding  `'r_eff': (0, None)`. We also restrict the center of the model to be within a range (`center_slack`) from the initial guess."
   ]
  },
  {
   "cell_type": "code",
   "execution_count": null,
   "id": "3cb0021c",
   "metadata": {},
   "outputs": [],
   "source": [
    "from astropy.modeling import models \n",
    "\n",
    "center_slack = 4\n",
    "\n",
    "sersic_model = models.Sersic2D(\n",
    "    \n",
    "        amplitude=amplitude,\n",
    "        r_eff=r_eff,\n",
    "        n=n,\n",
    "        x_0=x_0,\n",
    "        y_0=y_0,\n",
    "        ellip=ellip, \n",
    "        theta=theta,\n",
    "    \n",
    "        bounds = {\n",
    "            'amplitude': (0., None),\n",
    "            'r_eff': (0, None),\n",
    "            'n': (0, 10),\n",
    "            'ellip': (0, 1),\n",
    "            'theta': (-2*np.pi, 2*np.pi),\n",
    "            'x_0': (x_0 - center_slack/2, x_0 + center_slack/2),\n",
    "            'y_0': (y_0 - center_slack/2, y_0 + center_slack/2),\n",
    "        },\n",
    ")"
   ]
  },
  {
   "cell_type": "markdown",
   "id": "efbbdd0e",
   "metadata": {},
   "source": [
    "## PSFModel\n",
    "\n",
    "The `petrofit` `PSFModel` is a `Fittable2DModel` that adds PSF convolution and model to image sampling to `astropy` core models. `PSFModel` makes an image of the underlying model and samples it onto a grid. The model image is then convolved with a PSF if one is provided. Since `PSFModel` is a `Fittable2DModel`, it can be used to fit model images to data images. For example, we wrap an `astropy` `Sersic2D` model in this doc with  `PSFModel`, which produces an oversampled and PSF convolved version of the Sersic profile at each iteration of the Levenberg-Marquardt fitting algorithm."
   ]
  },
  {
   "cell_type": "markdown",
   "id": "84dec3c3",
   "metadata": {},
   "source": [
    "### PSF \n",
    "\n",
    "A Point Spread Function (PSF) describes how light from a point source is distributed on detector due to optical effects such as diffraction. Images or cutouts of stars are good approximations of PSFs because stars are single point sources and their images describe how their light is distributed on the detector. To make cutouts of stars in an image, use the ` astropy.nddata.Cutout2D` function.\n",
    "\n",
    "The following PSF is a cutout of a star in the Hubble Frontier Fields image of Abell 2744 (same dataset as the example image). Since we will be using the PSF image as a convolution kernel, it is **very important** that following requirements are satisfied:\n",
    "\n",
    "- The image of the PSF should be at the same resolution as the data.\n",
    "- The star or PSF is centered in the image.\n",
    "- The PSF image does not contain other sources. \n",
    "- The image is normalized so that the sum of the PSF image near or equal to 1.0. \n",
    "- The PSF image should have odd dimensions on each side (because it is a convolution kernel). \n"
   ]
  },
  {
   "cell_type": "code",
   "execution_count": null,
   "id": "8dc9f08a",
   "metadata": {},
   "outputs": [],
   "source": [
    "from astropy.io import fits\n",
    "\n",
    "# Load PSF image (2D array)\n",
    "PSF = fits.getdata('data/f105w_psf.fits.gz')\n",
    "\n",
    "# Normalize PSF \n",
    "PSF = PSF / PSF.sum()\n",
    "\n",
    "# Note that the PSF shape is odd on all sides\n",
    "print(\"PSF Shape = {}\".format(PSF.shape))\n",
    "\n",
    "# Plot PSF and use vmax and vmin to show difraction spikes\n",
    "plt.imshow(PSF, vmin=0, vmax=PSF.std()/10)\n",
    "plt.show()"
   ]
  },
  {
   "cell_type": "markdown",
   "id": "817344e0",
   "metadata": {},
   "source": [
    "### Oversampling \n",
    "\n",
    "One of the advantages of using `PSFModel` is its ability to sample models onto model images. Sometimes the models have regions that have to be oversampled to produce better estimates of the data.  `PSFModel` can oversample the entire model image or a specific pixel region of the image. The oversampling factor and region can be specified in the `oversample` key word argument when wrapping an `astropy` model or during run time by setting the `PSFModel.oversample` attribute. "
   ]
  },
  {
   "cell_type": "markdown",
   "id": "09315692",
   "metadata": {},
   "source": [
    "**Disable Oversampling (Defailt)**\n",
    "\n",
    "To disable oversampling, set the `oversampling` argument or attribute to `None`"
   ]
  },
  {
   "cell_type": "code",
   "execution_count": null,
   "id": "5b1918ae",
   "metadata": {},
   "outputs": [],
   "source": [
    "# Disable Oversampling\n",
    "oversample = None "
   ]
  },
  {
   "cell_type": "markdown",
   "id": "70d6d88a",
   "metadata": {},
   "source": [
    "**Oversample Entire Model Image**\n",
    "\n",
    "To oversample the image by a factor, you can pass a single integer value. For example:"
   ]
  },
  {
   "cell_type": "code",
   "execution_count": null,
   "id": "f7d7d660",
   "metadata": {},
   "outputs": [],
   "source": [
    "# Oversample the entire image by a factor of 4\n",
    "oversample = 4 "
   ]
  },
  {
   "cell_type": "markdown",
   "id": "a3565e79",
   "metadata": {},
   "source": [
    "**Oversample a Fixed Region**\n",
    "\n",
    "To oversample a fixed region of finite size, specify the center pixel, the length of the square region and thee oversampling factor. This means passing a tuple of `(center_x, center_y, box_length, oversample_factor)`. For example:"
   ]
  },
  {
   "cell_type": "code",
   "execution_count": null,
   "id": "1980fae8",
   "metadata": {},
   "outputs": [],
   "source": [
    "# Replace the pixel values in a box of \n",
    "# length 20 cented at (x=50, y=60) with a box of \n",
    "# the same size that has been oversampled by a factor of 5 \n",
    "# i.e (x=50 y=60, box_length=20, oversample_factor=5)\n",
    "\n",
    "oversample = (50, 60, 20, 5)"
   ]
  },
  {
   "cell_type": "markdown",
   "id": "ceac6bad",
   "metadata": {},
   "source": [
    "**Oversample a Moving Region**\n",
    "\n",
    "If the model is being fit, the center of the model is likely to move around. To account for this, we can specify the names of the model parameters that define the center of the box that we are interested in oversampling as strings. This means passing a tuple of `(model_param_x, model_param_y, box_length, oversample_factor)`. For example:"
   ]
  },
  {
   "cell_type": "code",
   "execution_count": null,
   "id": "b7a45dc2",
   "metadata": {},
   "outputs": [],
   "source": [
    "# Replace the pixel values in a box of \n",
    "# length 20 cented at (x=model.x_0, y=model.y_0) with a box of \n",
    "# the same size that has been oversampled by a factor of 5 \n",
    "# i.e (model.x_0, model.y_0, box_length=20, oversample_factor=5)\n",
    "\n",
    "oversample = ('x_0', 'y_0', 20, 5)"
   ]
  },
  {
   "cell_type": "markdown",
   "id": "f8a178f5",
   "metadata": {},
   "source": [
    "### Create PetroFit Model\n",
    "\n",
    "Now that we have an `astropy` model, PSF and oversampling rule, we can create a `PSFModel` model as follows:"
   ]
  },
  {
   "cell_type": "code",
   "execution_count": null,
   "id": "ef24ad08",
   "metadata": {},
   "outputs": [],
   "source": [
    "from petrofit.models import PSFModel\n",
    "\n",
    "psf_sersic_model = PSFModel.wrap(sersic_model, psf=PSF, oversample=oversample)"
   ]
  },
  {
   "cell_type": "markdown",
   "id": "1fe26506",
   "metadata": {},
   "source": [
    " The `PSFModel` etherates all of the parameters, fixed parameter rules and parameter bounds from the input `astropy` model. Notice that a new parameter, `psf_pa` is added to enable PSF rotation. "
   ]
  },
  {
   "cell_type": "code",
   "execution_count": null,
   "id": "31e610be",
   "metadata": {},
   "outputs": [],
   "source": [
    "print(psf_sersic_model.param_names)"
   ]
  },
  {
   "cell_type": "code",
   "execution_count": null,
   "id": "6e4bd2a9",
   "metadata": {},
   "outputs": [],
   "source": [
    "print(psf_sersic_model.bounds)"
   ]
  },
  {
   "cell_type": "markdown",
   "id": "a98e6f6e",
   "metadata": {},
   "source": [
    "### PSF Rotation \n",
    "\n",
    "`PSFModel` has the ability to rotate the PSF image until an optimal rotation angle is found. This is useful for when the PSF comes from a dataset where the orientation of the diffraction spikes are not the same as the image being fit. `psf_pa` is in degrees.\n",
    "\n",
    "To restrict the bounds of the rotation or disable the PSF rotation, you can set the psf_pa to fixed:"
   ]
  },
  {
   "cell_type": "code",
   "execution_count": null,
   "id": "8014d5a1",
   "metadata": {},
   "outputs": [],
   "source": [
    "# Limit PSF rotation to -5 to 5 degrees\n",
    "psf_sersic_model.bounds['psf_pa'] = (-5, 5)\n",
    "\n",
    "# To disable the PSF rotation, \n",
    "# you can set the psf_pa to fixed.\n",
    "psf_sersic_model.fixed['psf_pa'] = True"
   ]
  },
  {
   "cell_type": "markdown",
   "id": "63e5eaf2",
   "metadata": {},
   "source": [
    "### Accessing the Underlying Model \n",
    "\n",
    "At any point, a copy of the input model with the same parameter values as the corrosponding `PSFModel` can be accessed using the `PSFModel.model` attribute:"
   ]
  },
  {
   "cell_type": "code",
   "execution_count": null,
   "id": "68426b46",
   "metadata": {},
   "outputs": [],
   "source": [
    "psf_sersic_model.model"
   ]
  },
  {
   "cell_type": "markdown",
   "id": "f53b0ee0",
   "metadata": {},
   "source": [
    "## Fitting Models\n",
    "\n",
    "PetroFit uses the Levenberg-Marquardt algorithm to fit parametrized models. To achieve this, it uses `astropy` fitting and provides wrappers to fit models to images. One such function is `fit_model`, which takes any `Fittable2DModel` model and an image to fit, and returns a fitted copy of the model and the `fit_info` dictionary. If the image to be fit contains pixels that are set to `np.nan`, those pixels are ignored by the fitter. The `fit_model` function also allows us to define parameters, such as ` maxiter`, for the `astropy` fitter.\n",
    "\n",
    "To fit the galaxy we prepared with the `PSFModel` we constructed, we call the `fit_model` as follows: \n"
   ]
  },
  {
   "cell_type": "code",
   "execution_count": null,
   "id": "990fe9a4",
   "metadata": {},
   "outputs": [],
   "source": [
    "%%time\n",
    "\n",
    "from petrofit.fitting import fit_model\n",
    "\n",
    "fitted_model, fit_info = fit_model(\n",
    "    fitting_image.data, psf_sersic_model,\n",
    "    maxiter=10000,\n",
    "    epsilon=1.4901161193847656e-08,\n",
    "    acc=1e-09,\n",
    ")"
   ]
  },
  {
   "cell_type": "markdown",
   "id": "58e7d19c",
   "metadata": {},
   "source": [
    "That’s it! The retuned `fitted_model` is a copy of the input model (`psf_sersic_model`) but with the optimized parameter values. We can inspect the parameters of any `astropy` model using the  `print_model_params`:"
   ]
  },
  {
   "cell_type": "code",
   "execution_count": null,
   "id": "544b714d",
   "metadata": {},
   "outputs": [],
   "source": [
    "from petrofit.fitting import print_model_params\n",
    "\n",
    "print_model_params(fitted_model)"
   ]
  },
  {
   "cell_type": "markdown",
   "id": "92341da0",
   "metadata": {},
   "source": [
    "## Generate Model Image\n",
    "\n",
    "To generate a model image we use the `model_to_image` utility function. This function allows us to define the center of the model image and the side length of the image. \n",
    "\n",
    "In this case we will first create a model image that has the same size as the fitted image and subtract the model image from the unmasked fitting image."
   ]
  },
  {
   "cell_type": "code",
   "execution_count": null,
   "id": "0366378d",
   "metadata": {},
   "outputs": [],
   "source": [
    "from petrofit.fitting import model_to_image\n",
    "\n",
    "# Make Model Image \n",
    "# ----------------\n",
    "\n",
    "# Set the size of the model image equal to the fitted image\n",
    "fitted_image_size = fitting_image.data.shape[0]\n",
    "\n",
    "# Center the model image at the center of the fitted image\n",
    "# so the two images cover the same window \n",
    "fitted_image_center = fitted_image_size // 2 \n",
    "\n",
    "# Generate a model image from the model\n",
    "fitted_model_image = model_to_image(\n",
    "    x=fitted_image_center, \n",
    "    y=fitted_image_center, \n",
    "    size=fitted_image_size,\n",
    "    model=fitted_model\n",
    ")\n",
    "\n",
    "# Plot Model Image\n",
    "# ----------------\n",
    "\n",
    "fig, ax = plt.subplots(1, 3, figsize=[8*3.5, 8])\n",
    "\n",
    "# ax[0,0].imshow(fitting_image_unmasked.data, vmin=vmin, vmax=vmax)\n",
    "# ax[0,0].set_title(\"Hubble F105W Data\")\n",
    "\n",
    "ax[0].imshow(fitting_image_unmasked.data, vmin=vmin, vmax=vmax)\n",
    "plt.sca(ax[0])\n",
    "corrected_p.imshow((x_0, y_0), lw=2)\n",
    "ax[0].set_title(\"Hubble F105W Data and Petrosian Radii\")\n",
    "plt.legend()\n",
    "\n",
    "ax[1].imshow(fitted_model_image, vmin=vmin, vmax=vmax)\n",
    "ax[1].set_title(\"Fitted Sérsic Model\")\n",
    "\n",
    "ax[2].imshow(fitting_image_unmasked.data - fitted_model_image, vmin=vmin, vmax=vmax)\n",
    "ax[2].set_title(\"Residual\")\n",
    "\n",
    "plt.show()"
   ]
  },
  {
   "cell_type": "markdown",
   "id": "d5d03654",
   "metadata": {},
   "source": [
    "If we want to make a model image that we can subtract from the original data image, we just update the center of the model and generate a model image the same dimensions as the original image."
   ]
  },
  {
   "cell_type": "code",
   "execution_count": null,
   "id": "a09353ca",
   "metadata": {},
   "outputs": [],
   "source": [
    "from copy import deepcopy \n",
    "\n",
    "# Reposition the Model\n",
    "# --------------------\n",
    "\n",
    "# Copy the model before changing the parameters\n",
    "fitted_model_copy = deepcopy(fitted_model)\n",
    "\n",
    "# Change the frame of reference from the fitting \n",
    "# image to the original data coordinates. \n",
    "# Remember that (x_0, y_0) -> (image_x_0, image_y_0) \n",
    "fitted_model_copy.x_0 =  image_x_0 + (fitted_model.x_0 - x_0)\n",
    "fitted_model_copy.y_0 =  image_y_0 + (fitted_model.y_0 - y_0)\n",
    "\n",
    "# Make Model Image \n",
    "# ----------------\n",
    "\n",
    "# Set the size of the model image equal to the original image\n",
    "full_fitted_image_size = image.data.shape[0]\n",
    "\n",
    "# Center the model image at the center of the original image\n",
    "# so the two images cover the same window \n",
    "full_fitted_image_center = full_fitted_image_size // 2 \n",
    "\n",
    "# Generate a model image from the model\n",
    "full_fitted_model_image = model_to_image(\n",
    "    full_fitted_image_center, \n",
    "    full_fitted_image_center, \n",
    "    full_fitted_image_size, \n",
    "    fitted_model_copy\n",
    ")\n",
    "\n",
    "# Plot Model Image\n",
    "# ----------------\n",
    "\n",
    "fig, ax = plt.subplots(1, 3, figsize=[24, 12])\n",
    "\n",
    "ax[0].imshow(image.data, vmin=vmin, vmax=vmax)\n",
    "ax[0].set_title(\"Data\")\n",
    "\n",
    "ax[1].imshow(full_fitted_model_image, vmin=vmin, vmax=vmax)\n",
    "ax[1].set_title(\"Model\")\n",
    "\n",
    "ax[2].imshow(image.data - full_fitted_model_image, vmin=vmin, vmax=vmax)\n",
    "ax[2].set_title(\"Residual\")\n",
    "\n",
    "plt.show()"
   ]
  },
  {
   "cell_type": "markdown",
   "id": "be820294",
   "metadata": {},
   "source": [
    "## Estimated vs. Fitted Parameters\n",
    "\n",
    "In this section we compare the initial estimates that we derived purely from photometry vs. the parameters that were fit to the data. In the printout below, we see the fitted values in the first column and our initial guesses in the second column for each parameter."
   ]
  },
  {
   "cell_type": "code",
   "execution_count": null,
   "id": "029e4ac4",
   "metadata": {},
   "outputs": [],
   "source": [
    "assumptions = [\n",
    "    amplitude,\n",
    "    r_eff,\n",
    "    n,\n",
    "    x_0,\n",
    "    y_0,\n",
    "    ellip,\n",
    "    theta,\n",
    "    0 # psf_pa\n",
    "]\n",
    "\n",
    "print(\"fit\\tassum\\tparam_name\")\n",
    "for param_name, param_val, assumption in zip(fitted_model.param_names, fitted_model.parameters, assumptions):\n",
    "    print(\"{} & {:0.3f} & {:0.3f} \\\\\\\\\".format(param_name, assumption, param_val))"
   ]
  },
  {
   "cell_type": "markdown",
   "id": "49ef8b94",
   "metadata": {},
   "source": [
    "## Galaxy vs. Model Profiles \n",
    "\n",
    "Now that we have a model image, we can do photometry and compare the Petrosian measurements of the model to that of the original galaxy image. Since we know the exact postion of the target in the model image and because there are no intruding sourced, we can preform direct photometry using `photometry_step` function."
   ]
  },
  {
   "cell_type": "code",
   "execution_count": null,
   "id": "765cdcc6",
   "metadata": {},
   "outputs": [],
   "source": [
    "from petrofit.photometry import photometry_step\n",
    "\n",
    "model_position = (\n",
    "    fitted_model_copy.x_0.value,\n",
    "    fitted_model_copy.y_0.value)\n",
    "\n",
    "model_position = (image_x_0, image_y_0)\n",
    "model_elong = 1 / (1 - fitted_model_copy.ellip.value)\n",
    "\n",
    "model_theta = fitted_model_copy.theta.value\n",
    "\n",
    "max_pix = 70\n",
    "\n",
    "r_list = make_radius_list(\n",
    "    max_pix=max_pix, # Max pixel to go up to\n",
    "    n=max_pix # the number of radii to produce \n",
    ")\n",
    "\n",
    "print(\"len(r_list) = {}\".format(len(r_list)))\n",
    "\n",
    "\n",
    "# Photomerty \n",
    "model_flux_arr, model_area_arr, model_error_arr = source_photometry(\n",
    "    \n",
    "    # Inputs \n",
    "    source, # Source (`photutils.segmentation.catalog.SourceCatalog`)\n",
    "    full_fitted_model_image, # Image as 2D array \n",
    "    segm_deblend, # Deblended segmentation map of image\n",
    "    r_list, # list of aperture radii\n",
    "    \n",
    "    # Options \n",
    "    cutout_size=max(r_list)*2, # Cutout out size, set to double the max radius  \n",
    "    bkg_sub=True, # Subtract background  \n",
    "    sigma=3, sigma_type='clip', # Fit a 2D plane to pixels within 1 sigma of the mean\n",
    "    plot=True, vmax=vmax, vmin=vmin, # Show plot with max and min defined above\n",
    ")\n",
    "\n",
    "plt.title(\"Model Image\")\n",
    "plt.xlabel(\"Pixels\")\n",
    "plt.ylabel(\"Pixels\")\n",
    "plt.show()"
   ]
  },
  {
   "cell_type": "code",
   "execution_count": null,
   "id": "70f0a018",
   "metadata": {},
   "outputs": [],
   "source": [
    "# Plot Light profile \n",
    "plt.plot(r_list, flux_arr, label='Data')\n",
    "plt.plot(r_list, model_flux_arr, label='Model')\n",
    "\n",
    "plt.title(\"Light Profiles\")\n",
    "plt.xlabel(\"Aperture Radius [Pixels]\")\n",
    "plt.ylabel(\"Cumulative Flux  [{}]\".format(image))\n",
    "plt.legend()\n",
    "plt.show()"
   ]
  },
  {
   "cell_type": "markdown",
   "id": "d5f5b037",
   "metadata": {},
   "source": [
    "**Note:** The larger total flux in the image comes from a faint close negibor, see plot in next section "
   ]
  },
  {
   "cell_type": "code",
   "execution_count": null,
   "id": "ab634278",
   "metadata": {},
   "outputs": [],
   "source": [
    "# plt.plot(r_list, flux_arr / flux_arr.max())\n",
    "# plt.plot(r_list, model_flux_arr / flux_arr.max())\n",
    "\n",
    "# corrected_p.plot(plot_r=False, plot_normalized_flux=False)\n",
    "# model_corrected_p.plot(plot_r=False, plot_normalized_flux=False)\n",
    "# plt.title(\"Light Profiles\")\n",
    "# plt.xlabel(\"Aperture Radius [Pixels]\")\n",
    "# plt.gca().get_legend().remove()\n",
    "# plt.legend(['Data Normalized by Data Max', 'Model Normalized by Data Max'])\n",
    "# plt.show()"
   ]
  },
  {
   "cell_type": "markdown",
   "id": "0d874013",
   "metadata": {},
   "source": [
    "### Petrosian Radii Comparison\n",
    "\n",
    "We compare the Pertrosian profiles and radii of the two images."
   ]
  },
  {
   "cell_type": "code",
   "execution_count": null,
   "id": "350d3197",
   "metadata": {},
   "outputs": [],
   "source": [
    "model_p = Petrosian(r_list, model_area_arr, model_flux_arr)\n",
    "\n",
    "model_corrected_epsilon = pc.estimate_epsilon(\n",
    "    model_p.r_half_light,\n",
    "    model_p.concentration_index()[-1]\n",
    "\n",
    ")\n",
    "\n",
    "model_corrected_p = Petrosian(\n",
    "    r_list, model_area_arr, model_flux_arr, \n",
    "    epsilon=model_corrected_epsilon\n",
    ")\n",
    "\n",
    "\n",
    "# Plot Image \n",
    "plt.imshow(full_fitted_model_image, vmax=vmax, vmin=vmin)\n",
    "\n",
    "model_corrected_p.imshow(\n",
    "    position=model_position,\n",
    "    elong=model_elong, \n",
    "    theta=model_theta\n",
    ")\n",
    "\n",
    "plt.title(\"Model Image\")\n",
    "plt.xlabel(\"Pixels\")\n",
    "plt.ylabel(\"Pixels\")\n",
    "plt.legend()\n",
    "plt.show()"
   ]
  },
  {
   "cell_type": "code",
   "execution_count": null,
   "id": "ce40f7bf",
   "metadata": {},
   "outputs": [],
   "source": [
    "corrected_p.plot(plot_r=True, plot_normalized_flux=True)\n",
    "model_corrected_p.plot(plot_r=True, plot_normalized_flux=True)\n",
    "\n",
    "plt.gca().get_legend().remove()\n",
    "plt.show()"
   ]
  },
  {
   "cell_type": "code",
   "execution_count": null,
   "id": "a443d341",
   "metadata": {},
   "outputs": [],
   "source": [
    "print(\"Data r_total_flux = {}\".format(corrected_p.r_total_flux))\n",
    "print(\"Model r_total_flux= {}\".format(model_corrected_p.r_total_flux))"
   ]
  },
  {
   "cell_type": "code",
   "execution_count": null,
   "id": "b865eade",
   "metadata": {},
   "outputs": [],
   "source": [
    "print(\"Data r_half_light = {}\".format(corrected_p.r_half_light))\n",
    "print(\"Model r_half_light= {}\".format(model_corrected_p.r_half_light))"
   ]
  },
  {
   "cell_type": "code",
   "execution_count": null,
   "id": "90506cfa",
   "metadata": {},
   "outputs": [],
   "source": [
    "from petrofit.models import sersic_enclosed\n",
    "total_model_flux = sersic_enclosed(np.inf, amplitude=fitted_model.amplitude, r_eff=fitted_model.r_eff, n=fitted_model.n, ellip=fitted_model.ellip)\n",
    "total_model_flux"
   ]
  },
  {
   "cell_type": "code",
   "execution_count": null,
   "id": "15791acb",
   "metadata": {},
   "outputs": [],
   "source": [
    "corrected_p.total_flux"
   ]
  },
  {
   "cell_type": "code",
   "execution_count": null,
   "id": "12c5b17d",
   "metadata": {},
   "outputs": [],
   "source": [
    "from petrofit.photometry import flux_to_abmag\n",
    "flux_to_abmag(corrected_p.total_flux, image_data.header)"
   ]
  },
  {
   "cell_type": "code",
   "execution_count": null,
   "id": "9c4caa9e",
   "metadata": {},
   "outputs": [],
   "source": [
    "flux_to_abmag(float(total_model_flux),  image_data.header)"
   ]
  },
  {
   "cell_type": "code",
   "execution_count": null,
   "id": "633e1592",
   "metadata": {},
   "outputs": [],
   "source": [
    "model_corrected_p.total_flux"
   ]
  },
  {
   "cell_type": "code",
   "execution_count": null,
   "id": "4f86b939",
   "metadata": {},
   "outputs": [],
   "source": [
    "flux_to_abmag(float(model_corrected_p.total_flux),  image_data.header)"
   ]
  },
  {
   "cell_type": "code",
   "execution_count": null,
   "id": "c02c67b2",
   "metadata": {},
   "outputs": [],
   "source": [
    "model_corrected_p.total_flux / total_model_flux "
   ]
  },
  {
   "cell_type": "markdown",
   "id": "556d1281",
   "metadata": {},
   "source": [
    "### Total Flux Comparison\n",
    "\n",
    "Finally we compare the total Petrosian flux of the data vs the model:"
   ]
  },
  {
   "cell_type": "code",
   "execution_count": null,
   "id": "8ccf7c61",
   "metadata": {},
   "outputs": [],
   "source": [
    "print(\"Data Corrected Total Flux = {}\".format(corrected_p.total_flux * image_data.unit))\n",
    "print(\"Model Corrected Total Flux = {}\".format(model_corrected_p.total_flux * image_data.unit))"
   ]
  },
  {
   "cell_type": "code",
   "execution_count": null,
   "id": "8ad7946b",
   "metadata": {},
   "outputs": [],
   "source": [
    "from petrofit.photometry import flux_to_abmag\n",
    "print(\"Data Corrected AB mag =  {}\".format(flux_to_abmag(corrected_p.total_flux, image_data.header) ))\n",
    "print(\"Model Corrected AB mag = {}\".format(flux_to_abmag(model_corrected_p.total_flux, image_data.header) ))"
   ]
  },
  {
   "cell_type": "code",
   "execution_count": null,
   "id": "c4eb3777",
   "metadata": {},
   "outputs": [],
   "source": [
    "idx = abs(corrected_p.r_list - corrected_p.r_total_flux).argmin()\n",
    "print(error_arr[idx])\n",
    "flux_to_abmag(float(error_arr[idx]), image_data.header)"
   ]
  },
  {
   "cell_type": "code",
   "execution_count": null,
   "id": "59484db9",
   "metadata": {},
   "outputs": [],
   "source": [
    "m1 = flux_to_abmag(corrected_p.total_flux, image_data.header) \n",
    "m2 = flux_to_abmag(float(corrected_p.total_flux+error_arr[idx]), image_data.header) \n",
    "m3 = flux_to_abmag(float(corrected_p.total_flux-error_arr[idx]), image_data.header) \n",
    "mm = flux_to_abmag(model_corrected_p.total_flux, image_data.header)\n",
    "msm = flux_to_abmag(float(total_model_flux), image_data.header)\n",
    "m1 - m2, m1 - m3"
   ]
  },
  {
   "cell_type": "code",
   "execution_count": null,
   "id": "5f34e356",
   "metadata": {},
   "outputs": [],
   "source": [
    "msm"
   ]
  },
  {
   "cell_type": "code",
   "execution_count": null,
   "id": "3ced8295",
   "metadata": {},
   "outputs": [],
   "source": [
    " corrected_p.total_flux/ total_model_flux"
   ]
  },
  {
   "cell_type": "code",
   "execution_count": null,
   "id": "b8e447b6",
   "metadata": {},
   "outputs": [],
   "source": [
    "a1 = float(abs(m1 - mm))\n",
    "a2 = float(abs(m1 - m2))"
   ]
  },
  {
   "cell_type": "code",
   "execution_count": null,
   "id": "0a6597b2",
   "metadata": {},
   "outputs": [],
   "source": [
    "float(corrected_p.total_flux) - float(model_corrected_p.total_flux) , error_arr[idx]"
   ]
  },
  {
   "cell_type": "code",
   "execution_count": null,
   "id": "2e99f935",
   "metadata": {},
   "outputs": [],
   "source": [
    "a1, a2"
   ]
  },
  {
   "cell_type": "code",
   "execution_count": null,
   "id": "787ff331",
   "metadata": {},
   "outputs": [],
   "source": [
    "21.74256 - 21.74276"
   ]
  },
  {
   "cell_type": "code",
   "execution_count": null,
   "id": "a73e1acb",
   "metadata": {},
   "outputs": [],
   "source": [
    "raw_psf = fits.getdata('data/f105w_psf.fits.gz')"
   ]
  },
  {
   "cell_type": "code",
   "execution_count": null,
   "id": "f2467cd4",
   "metadata": {},
   "outputs": [],
   "source": [
    "import warnings\n",
    "\n",
    "import numpy as np\n",
    "\n",
    "from astropy.nddata import Cutout2D\n",
    "from astropy.stats import sigma_clipped_stats, sigma_clip\n",
    "from astropy.utils.exceptions import AstropyWarning\n",
    "\n",
    "from matplotlib import pyplot as plt\n",
    "\n",
    "from photutils import  EllipticalAnnulus, EllipticalAperture\n",
    "\n",
    "from petrofit.segmentation import masked_segm_image\n",
    "from petrofit.fitting import fit_plane, model_to_image\n",
    "from petrofit.segmentation import get_source_elong,  get_source_theta, get_source_position\n",
    "\n",
    "import numpy as np\n",
    "import matplotlib.pyplot as plt\n",
    "from mpl_toolkits.axes_grid1 import make_axes_locatable\n",
    "\n",
    "\n",
    "#plt.rc('font', size=SMALL_SIZE)          # controls default text sizes\n",
    "factor = 1.2\n",
    "plt.rc('axes', titlesize=BIGGER_SIZE*factor)     # fontsize of the axes title\n",
    "plt.rc('axes', labelsize=MEDIUM_SIZE*factor)    # fontsize of the x and y labels\n",
    "plt.rc('xtick', labelsize=MEDIUM_SIZE*factor)    # fontsize of the tick labels\n",
    "plt.rc('ytick', labelsize=MEDIUM_SIZE*factor)    # fontsize of the tick labels\n",
    "plt.rc('legend', fontsize=SMALL_SIZE*factor)    # legend fontsize\n",
    "plt.rc('figure', titlesize=BIGGER_SIZE*factor*2)  # fontsize of the figure title\n",
    "\n",
    "figsize = [8*4.2, 8*2]\n",
    "fig, ax = plt.subplots(2, 4, figsize=figsize)\n",
    "def source_photometry_plot(source, image, segm_deblend, r_list, error=None, cutout_size=None,\n",
    "                      bkg_sub=False, sigma=3.0, sigma_type='clip', method='exact', mask_background=False,\n",
    "                      plot=False, vmin=0, vmax=None, ):\n",
    "    \"\"\"\n",
    "    Aperture photometry on a PhotUtils `SourceProperties`.\n",
    "\n",
    "    Parameters\n",
    "    ----------\n",
    "    source : `photutils.segmentation.SourceProperties`\n",
    "        `SourceProperties` (an entry in a `SourceCatalog`)\n",
    "\n",
    "    image : 2D array\n",
    "        Image to preform photometry on.\n",
    "\n",
    "    segm_deblend : `SegmentationImage`\n",
    "        Segmentation map of the image.\n",
    "\n",
    "    r_list : list\n",
    "        List of aperture radii.\n",
    "\n",
    "    error : 2D array\n",
    "        Error image (optional).\n",
    "\n",
    "    cutout_size : int\n",
    "        Size of cutout.\n",
    "\n",
    "    bkg_sub : bool\n",
    "        If the code should subtract the background using the `sigma` provided.\n",
    "\n",
    "    sigma : float\n",
    "        The sigma value used to determine noise pixels. Once the pixels above this value are masked,\n",
    "        a 2D plane is fit to determine the background. The 2D plane model is then converted into an image and\n",
    "        subtracted from the cutout of the target source. see the `sigma_type` on how this value will be used.\n",
    "\n",
    "    sigma_type : {'clip', 'bound'}, optional\n",
    "        The meaning of the provided sigma.\n",
    "            * ``'clip'`` (default):\n",
    "                Uses `astropy.stats.sigma_clipping.sigma_clip` to clip at the provided `sigma` std value.\n",
    "                Note that `sigma` in this case is the number of stds above the mean.\n",
    "\n",
    "            * ``'bound'``:\n",
    "                After computing the mean of the image, clip at `mean - sigma` and `mean + sigma`.\n",
    "                Note that `sigma` in this case is a value and not the number of stds above the mean.\n",
    "\n",
    "\n",
    "    method : {'exact', 'center', 'subpixel'}, optional\n",
    "        The method used to determine the overlap of the aperture on\n",
    "        the pixel grid.  Not all options are available for all\n",
    "        aperture types.  Note that the more precise methods are\n",
    "        generally slower.  The following methods are available:\n",
    "\n",
    "            * ``'exact'`` (default):\n",
    "              The the exact fractional overlap of the aperture and\n",
    "              each pixel is calculated.  The returned mask will\n",
    "              contain values between 0 and 1.\n",
    "\n",
    "            * ``'center'``:\n",
    "              A pixel is considered to be entirely in or out of the\n",
    "              aperture depending on whether its center is in or out\n",
    "              of the aperture.  The returned mask will contain\n",
    "              values only of 0 (out) and 1 (in).\n",
    "\n",
    "            * ``'subpixel'``\n",
    "              A pixel is divided into subpixels (see the\n",
    "              ``subpixels`` keyword), each of which are considered\n",
    "              to be entirely in or out of the aperture depending on\n",
    "              whether its center is in or out of the aperture.  If\n",
    "              ``subpixels=1``, this method is equivalent to\n",
    "              ``'center'``.  The returned mask will contain values\n",
    "              between 0 and 1.\n",
    "\n",
    "    mask_background : bool\n",
    "        Should background pixels, that are not part of any source in the segmentation map, be included?\n",
    "        If False, only pixels inside the source's segmentation are unmasked.\n",
    "\n",
    "    plot : bool\n",
    "        Show plot of cutout and apertures.\n",
    "\n",
    "    vmin : int\n",
    "        Min value for plot.\n",
    "\n",
    "    vmax : int\n",
    "        Max value for plot.\n",
    "\n",
    "\n",
    "    Returns\n",
    "    -------\n",
    "\n",
    "    flux_arr, area_arr, error_arr : (numpy.array, numpy.array, numpy.array)\n",
    "        Tuple of arrays:\n",
    "\n",
    "            * `flux_arr`: Photometric sum in aperture.\n",
    "\n",
    "            * `area_arr`: Exact area of aperture.\n",
    "\n",
    "            * `error_arr`: if error map is provided, error of measurements.\n",
    "    \"\"\"\n",
    "\n",
    "    # Get source geometry\n",
    "    # -------------------\n",
    "    position = get_source_position(source)\n",
    "    elong = get_source_elong(source)\n",
    "    theta = get_source_theta(source)\n",
    "\n",
    "    if cutout_size is None:\n",
    "        cutout_size = np.ceil(max(r_list) * 3)\n",
    "\n",
    "    cutout_size = int(cutout_size)\n",
    "    if cutout_size % 2 == 1:\n",
    "        cutout_size += 1\n",
    "        \n",
    "    \n",
    "    if plot:\n",
    "        print(source.label)\n",
    "    \n",
    "        \n",
    "    plt.sca(ax[0,0])\n",
    "    plt.imshow(Cutout2D(image, position, cutout_size, mode='partial', fill_value=np.nan).data, vmin=vmin, vmax=vmax)\n",
    "    \n",
    "    plt.title(\"Hubble F105W Image\")\n",
    "    plt.xlabel(\"Pixels\")\n",
    "    plt.ylabel(\"Pixels\")\n",
    "\n",
    "    # Error cutout\n",
    "    # ------------\n",
    "    masked_err = None\n",
    "    if error is not None:\n",
    "        masked_err = Cutout2D(error, position, cutout_size, mode='partial', fill_value=np.nan).data\n",
    "\n",
    "    # Image Cutout\n",
    "    # ------------\n",
    "    full_masked_image = masked_segm_image(source, image, segm_deblend, fill=np.nan, mask_background=mask_background).data\n",
    "    masked_nan_image = Cutout2D(full_masked_image, position, cutout_size, mode='partial', fill_value=np.nan)\n",
    "    masked_image = masked_nan_image.data\n",
    "\n",
    "    # Cutout for Stats\n",
    "    # ----------------\n",
    "    # This cutout has all sources masked\n",
    "    stats_cutout_size = cutout_size  # max(source.bbox.ixmax - source.bbox.ixmin, source.bbox.iymax - source.bbox.iymin) * 2\n",
    "    full_bg_image = masked_segm_image(0, image, segm_deblend, fill=np.nan, mask_background=False).data\n",
    "    masked_stats_image = Cutout2D(full_bg_image, position, stats_cutout_size, mode='partial', fill_value=np.nan).data\n",
    "\n",
    "    # Subtract Mean Plane\n",
    "    # -------------------\n",
    "    if bkg_sub:\n",
    "        if len(np.where(~np.isnan(masked_stats_image))[0]) > 10:\n",
    "            with warnings.catch_warnings():\n",
    "\n",
    "                warnings.simplefilter('ignore', AstropyWarning)\n",
    "                if sigma_type.lower() == 'clip':\n",
    "                    fit_bg_image = masked_stats_image\n",
    "                    fit_bg_image = sigma_clip(fit_bg_image, sigma)\n",
    "\n",
    "                elif sigma_type.lower() == 'bound':\n",
    "                    mean, median, std = sigma_clipped_stats(masked_stats_image, sigma=3,\n",
    "                                                            mask=np.isnan(masked_stats_image.data))\n",
    "\n",
    "                    fit_bg_image = masked_stats_image\n",
    "                    fit_bg_image[np.where(fit_bg_image > mean + sigma)] = np.nan\n",
    "                    fit_bg_image[np.where(fit_bg_image < mean - sigma)] = np.nan\n",
    "                else:\n",
    "                    raise (\"background image masking sigma type not understood, try 'clip' or 'bound'\")\n",
    "\n",
    "                fitted_model, _ = fit_plane(fit_bg_image)\n",
    "\n",
    "                # plt.imshow(fit_bg_image, vmax=vmax, vmin=vmin)\n",
    "                # plt.show()\n",
    "                # plt.imshow(model_to_image(cutout_size // 2, cutout_size // 2, cutout_size, fitted_model), vmin=vmin, vmax=vmax)\n",
    "                # plt.show()\n",
    "                # plt.imshow(masked_image, vmin=vmin, vmax=vmax)\n",
    "                # plt.show()\n",
    "                # plt.imshow(masked_image-model_to_image(cutout_size // 2, cutout_size // 2, cutout_size, fitted_model), vmin=vmin, vmax=vmax)\n",
    "                # plt.show()\n",
    "\n",
    "                masked_image -= model_to_image(cutout_size // 2, cutout_size // 2, cutout_size, fitted_model)\n",
    "                if sigma_type.lower() == 'bound':\n",
    "                    masked_image = np.clip(masked_image, - sigma, np.inf)\n",
    "\n",
    "        elif plot:\n",
    "            print(\"bkg_sub: Not enough datapoints, did not subtract.\")\n",
    "\n",
    "    # Make mask\n",
    "    # ---------\n",
    "    mask = np.ones_like(masked_image)\n",
    "    mask[np.where(np.isnan(masked_image))] = 0\n",
    "    mask = mask.astype(bool)\n",
    "\n",
    "    position = np.array(masked_image.data.shape) / 2.\n",
    "\n",
    "    if plot:\n",
    "        plt.sca(ax[0,1])\n",
    "\n",
    "    flux_arr, area_arr, error_arr = photometry_step(position, r_list, masked_image, error=masked_err, mask=mask,\n",
    "                                                          elong=elong, theta=theta, plot=plot, vmin=vmin, vmax=vmax,\n",
    "                                                          method=method)\n",
    "    plt.title(\"Masked Image and Aperture Radii\")\n",
    "    if plot:\n",
    "        plt.sca(ax[0,2])\n",
    "        \n",
    "        #for r in r_list:\n",
    "        #    plt.axvline(r, c='gray')\n",
    "        #plt.axvline(r, c='gray', label='Aperture radii')\n",
    "        plt.scatter(r_list, flux_arr, linewidth=6, alpha=0.7)\n",
    "        plt.plot(r_list, flux_arr, c='blue', linewidth=2)\n",
    "        \n",
    "        plt.title(\"Curve of Growth\")\n",
    "        plt.xlabel(\"Radius in Pixels\")\n",
    "        plt.ylabel(\"Flux Enclosed [electron / s]\")\n",
    "        plt.legend()\n",
    "        \n",
    "\n",
    "\n",
    "# fig, ax = plt.subplots(1,2)\n",
    "\n",
    "# plt.sca(ax[0])\n",
    "\n",
    "# elong = get_source_elong(source)\n",
    "# theta = get_source_theta(source)\n",
    "\n",
    "# plt.imshow()\n",
    "\n",
    "# plt.sca(ax[1])\n",
    "# plt.plot(r_list, flux_arr, linewidth=3)\n",
    "\n",
    "# for r in r_list:\n",
    "#     plt.axvline(r, c='r', alpha=0.5)\n",
    "    \n",
    "    \n",
    "# Photomerty \n",
    "source_photometry_plot(\n",
    "    \n",
    "    # Inputs \n",
    "    source, # Source (`photutils.segmentation.catalog.SourceCatalog`)\n",
    "    image.data, # Image as 2D array \n",
    "    segm_deblend, # Deblended segmentation map of image\n",
    "    r_list, # list of aperture radii  \n",
    "    \n",
    "    # Options \n",
    "    cutout_size=max(r_list)*2, # Cutout out size, set to double the max radius  \n",
    "    bkg_sub=False, # Subtract background  \n",
    "    sigma=1, sigma_type='clip', # Fit a 2D plane to pixels within 1 sigma of the mean\n",
    "    plot=True, vmax=vmax, vmin=vmin, # Show plot with max and min defined above\n",
    ")\n",
    "\n",
    "\n",
    "im = ax[1,0].imshow(fitting_image_unmasked.data, vmin=vmin, vmax=vmax)\n",
    "plt.sca(ax[1,0])\n",
    "corrected_p.imshow((x_0, y_0), lw=2)\n",
    "ax[1,0].set_title(\"Corrected Petrosian Radii\")\n",
    "plt.legend()\n",
    "ax[1,0].set_xlabel(\"Pixels\")\n",
    "ax[1,0].set_ylabel(\"Pixels\")\n",
    "\n",
    "ax[1,1].imshow(fitted_model_image, vmin=vmin, vmax=vmax)\n",
    "ax[1,1].set_title(\"Fitted Sérsic Model\")\n",
    "ax[1,1].set_xlabel(\"Pixels\")\n",
    "ax[1,1].set_ylabel(\"Pixels\")\n",
    "\n",
    "ax[1,2].imshow(fitting_image_unmasked.data - fitted_model_image, vmin=vmin, vmax=vmax)\n",
    "ax[1,2].set_title(\"Residual\")\n",
    "ax[1,2].set_xlabel(\"Pixels\")\n",
    "ax[1,2].set_ylabel(\"Pixels\")\n",
    "\n",
    "\n",
    "\n",
    "\n",
    "plt.sca(ax[0,3])\n",
    "corrected_p.plot(plot_r=True, plot_normalized_flux=False)\n",
    "plt.xlabel(\"Radius in Pixels\")\n",
    "\n",
    "\n",
    "\n",
    "fig.subplots_adjust(right=0.84)\n",
    "cbar_ax = fig.add_axes([0.85, 0.12, 0.01, 0.76])\n",
    "cbar = fig.colorbar(im, cax=cbar_ax)\n",
    "cbar.ax.set_ylabel('Flux [electron / s]', rotation=90)\n",
    "\n",
    "\n",
    "\n",
    "plt.sca(ax[1,3])\n",
    "im2 = plt.imshow(PSF, vmin=0, vmax=PSF.std()/10, cmap='inferno')\n",
    "\n",
    "ax[1,3].set_title(\"Normalized PSF\")\n",
    "#ax[1,3].set_xlabel(\"Pixels\")\n",
    "ax[1,3].set_ylabel(\"Pixels\")\n",
    "ax[1,3].set_xticks([])\n",
    "divider = make_axes_locatable(ax[1,3])\n",
    "cax = divider.append_axes('bottom', size='5%', pad=0.1)\n",
    "\n",
    "cbar = fig.colorbar(im2, cax=cax, orientation='horizontal')\n",
    "#cbar.ax.set_xlabel('Normalized Pixel Values', rotation=0)\n",
    "\n",
    "savefig('single_galaxy.png')\n",
    "plt.show()\n",
    "\n",
    "#plt.rc('font', size=SMALL_SIZE)          # controls default text sizes\n",
    "plt.rc('axes', titlesize=BIGGER_SIZE)     # fontsize of the axes title\n",
    "plt.rc('axes', labelsize=BIGGER_SIZE)    # fontsize of the x and y labels\n",
    "plt.rc('xtick', labelsize=MEDIUM_SIZE)    # fontsize of the tick labels\n",
    "plt.rc('ytick', labelsize=MEDIUM_SIZE)    # fontsize of the tick labels\n",
    "plt.rc('legend', fontsize=SMALL_SIZE)    # legend fontsize\n",
    "plt.rc('figure', titlesize=BIGGER_SIZE)  # fontsize of the figure title\n",
    "\n",
    "\n"
   ]
  }
 ],
 "metadata": {
  "kernelspec": {
   "display_name": "Python 3 (ipykernel)",
   "language": "python",
   "name": "python3"
  },
  "language_info": {
   "codemirror_mode": {
    "name": "ipython",
    "version": 3
   },
   "file_extension": ".py",
   "mimetype": "text/x-python",
   "name": "python",
   "nbconvert_exporter": "python",
   "pygments_lexer": "ipython3",
   "version": "3.7.11"
  }
 },
 "nbformat": 4,
 "nbformat_minor": 5
}
