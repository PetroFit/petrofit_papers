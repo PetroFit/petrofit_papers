{
 "cells": [
  {
   "cell_type": "code",
   "execution_count": null,
   "id": "a2fcda7f",
   "metadata": {},
   "outputs": [],
   "source": [
    "import numpy as np\n",
    "\n",
    "import scipy.ndimage as ndi\n",
    "\n",
    "from astropy.visualization import simple_norm\n",
    "from astropy.modeling import models\n",
    "from astropy.convolution import convolve\n",
    "from astropy.nddata import CCDData\n",
    "from astropy.io import fits\n",
    "from astropy.stats import sigma_clipped_stats\n",
    "from astropy.table import Table\n",
    "from astropy.nddata import Cutout2D\n",
    "from astropy.modeling import models \n",
    "\n",
    "from photutils.isophote import EllipseGeometry, Ellipse\n",
    "\n",
    "from petrofit.segmentation import make_catalog, plot_segments, get_source_position, get_source_ellip, get_source_elong, get_source_theta\n",
    "from petrofit.photometry import make_radius_list, source_photometry, order_cat\n",
    "from petrofit.utils import plot_target\n",
    "from petrofit.petrosian import Petrosian, PetrosianCorrection\n",
    "from petrofit.segmentation import masked_segm_image\n",
    "from petrofit.models import sersic_enclosed_inv, sersic_enclosed, petrosian_profile\n",
    "from petrofit.models import PSFModel\n",
    "from petrofit.fitting import fit_model, model_to_image\n",
    "import photutils\n",
    "\n",
    "import time\n",
    "\n",
    "import statmorph"
   ]
  },
  {
   "cell_type": "code",
   "execution_count": null,
   "id": "f7d348df",
   "metadata": {},
   "outputs": [],
   "source": [
    "%matplotlib inline\n",
    "\n",
    "from matplotlib import pyplot as plt\n",
    "\n",
    "plt.rcParams['figure.figsize'] = [10, 10]\n",
    "plt.rcParams['image.origin'] = 'lower'\n",
    "#plt.rcParams.update({'font.size': 17})\n",
    "\n",
    "SMALL_SIZE = 15\n",
    "MEDIUM_SIZE = 18\n",
    "BIGGER_SIZE = 20\n",
    "\n",
    "#plt.rc('font', size=SMALL_SIZE)          # controls default text sizes\n",
    "plt.rc('axes', titlesize=BIGGER_SIZE)     # fontsize of the axes title\n",
    "plt.rc('axes', labelsize=BIGGER_SIZE)    # fontsize of the x and y labels\n",
    "plt.rc('xtick', labelsize=BIGGER_SIZE)    # fontsize of the tick labels\n",
    "plt.rc('ytick', labelsize=BIGGER_SIZE)    # fontsize of the tick labels\n",
    "plt.rc('legend', fontsize=SMALL_SIZE)    # legend fontsize\n",
    "plt.rc('figure', titlesize=BIGGER_SIZE)  # fontsize of the figure title\n",
    "\n",
    "def savefig(filename):\n",
    "    plt.savefig(\"..plots/\"+filename, dpi=70, bbox_inches = 'tight', pad_inches = 0.1)"
   ]
  },
  {
   "cell_type": "markdown",
   "id": "54e871b4",
   "metadata": {},
   "source": [
    "# Load GalFit Generated Images \n",
    "\n",
    "We run this notebook once (restated) for every `galfit_simulated_sersic_n*.fits` file manually. Paramteres, except for `input_file`, are not changed during each run. "
   ]
  },
  {
   "cell_type": "code",
   "execution_count": null,
   "id": "79096e16",
   "metadata": {},
   "outputs": [],
   "source": [
    "input_file = 'galfit_simulated_sersic_n0.5_psf.fits'"
   ]
  },
  {
   "cell_type": "code",
   "execution_count": null,
   "id": "4576448e",
   "metadata": {},
   "outputs": [],
   "source": [
    "fitting_image = CCDData.read(input_file, unit='electron / s')"
   ]
  },
  {
   "cell_type": "code",
   "execution_count": null,
   "id": "de8f34b8",
   "metadata": {},
   "outputs": [],
   "source": [
    "psf = None \n",
    "\n",
    "if True:\n",
    "    # Load PSF image (2D array)\n",
    "    psf = fits.getdata('f105_moffat_psf.fits.gz')\n",
    "    #psf = fits.getdata('../../../galfit/galfit-example/EXAMPLE/robel_test/psf.fits')\n",
    "\n",
    "    # Normalize PSF \n",
    "    psf = psf / psf.sum()\n",
    "\n",
    "    # Note that the PSF shape is odd on all sides\n",
    "    print(\"PSF Shape = {}\".format(psf.shape))\n",
    "\n",
    "    # Plot PSF and use vmax and vmin to show difraction spikes\n",
    "    plt.title('PSF')\n",
    "    plt.imshow(psf, vmin=0, vmax=psf.std()/10)\n",
    "    plt.show()"
   ]
  },
  {
   "cell_type": "code",
   "execution_count": null,
   "id": "bcb2bad6",
   "metadata": {},
   "outputs": [],
   "source": [
    "vmax = fitting_image.data.std()*3 # Use the image std as max and min of all plots \n",
    "vmin = - vmax "
   ]
  },
  {
   "cell_type": "code",
   "execution_count": null,
   "id": "8574bb25",
   "metadata": {},
   "outputs": [],
   "source": [
    "sigma_clipped_stats(fitting_image.data)"
   ]
  },
  {
   "cell_type": "code",
   "execution_count": null,
   "id": "dcb4ebd1",
   "metadata": {},
   "outputs": [],
   "source": [
    "#fitting_image.data += np.random.normal(loc=0, scale=7.746282e-07, size=fitting_image.data.shape)"
   ]
  },
  {
   "cell_type": "code",
   "execution_count": null,
   "id": "47b03646",
   "metadata": {},
   "outputs": [],
   "source": [
    "# Plot cutout that will be fit \n",
    "plt.imshow(fitting_image.data, vmin=vmin, vmax=vmax)\n",
    "plt.title(\"Galaxy\")\n",
    "plt.xlabel(\"Pixels\")\n",
    "plt.ylabel(\"Pixels\")\n",
    "plt.show()"
   ]
  },
  {
   "cell_type": "code",
   "execution_count": null,
   "id": "114a2095",
   "metadata": {},
   "outputs": [],
   "source": [
    "#fitting_image.header['BUNIT']"
   ]
  },
  {
   "cell_type": "code",
   "execution_count": null,
   "id": "5b6cab6e",
   "metadata": {},
   "outputs": [],
   "source": [
    "#fitting_image.header['EXPTIME'] # seconds"
   ]
  },
  {
   "cell_type": "code",
   "execution_count": null,
   "id": "8026b819",
   "metadata": {},
   "outputs": [],
   "source": [
    "gain = 1000.00#fitting_image.header['EXPTIME']\n",
    "gain "
   ]
  },
  {
   "cell_type": "markdown",
   "id": "c22d9091",
   "metadata": {},
   "source": [
    "# Segmentation "
   ]
  },
  {
   "cell_type": "code",
   "execution_count": null,
   "id": "8f4a7c99",
   "metadata": {},
   "outputs": [],
   "source": [
    "from petrofit.segmentation import make_catalog, plot_segments\n",
    "from astropy.stats import sigma_clipped_stats\n",
    "\n",
    "image_mean, image_median, image_stddev = sigma_clipped_stats(fitting_image.data, sigma=3)\n",
    "\n",
    "threshold = image_stddev * 2\n",
    "\n",
    "# Define smoothing kernel\n",
    "kernel_size = 3\n",
    "fwhm = 3\n",
    "\n",
    "# Min Source size (area)\n",
    "npixels = 2**2\n",
    "\n",
    "\n",
    "cat, segm, segm_deblend = make_catalog(    \n",
    "    fitting_image.data, \n",
    "    threshold=threshold, \n",
    "    deblend=True,                 \n",
    "    kernel_size=kernel_size,                  \n",
    "    fwhm=fwhm, \n",
    "    npixels=npixels,\n",
    "    contrast=0.00,\n",
    "    plot=True, vmax=vmax, vmin=vmin\n",
    ")\n",
    "\n",
    "plt.show()\n",
    "\n",
    "# Display source properties\n",
    "print(\"Num of Targets:\", len(cat))"
   ]
  },
  {
   "cell_type": "code",
   "execution_count": null,
   "id": "0030d9b4",
   "metadata": {},
   "outputs": [],
   "source": [
    "# Sort and select object of interest in the catalog\n",
    "sorted_idx_list = order_cat(cat, key='area', reverse=True)\n",
    "idx = sorted_idx_list[0] # index 0 is largest \n",
    "source = cat[idx]  # get source from the catalog \n",
    "\n",
    "plot_target(\n",
    "    position=(source.maxval_xindex, source.maxval_yindex), \n",
    "    image=fitting_image.data, \n",
    "    size=200, \n",
    "    vmax=vmax*10, \n",
    "    vmin=vmin\n",
    ")\n"
   ]
  },
  {
   "cell_type": "code",
   "execution_count": null,
   "id": "8ba42a18",
   "metadata": {},
   "outputs": [],
   "source": [
    "source.xcentroid, source.ycentroid"
   ]
  },
  {
   "cell_type": "markdown",
   "id": "db805e92",
   "metadata": {},
   "source": [
    "# StatMorph "
   ]
  },
  {
   "cell_type": "code",
   "execution_count": null,
   "id": "bdbc00c1",
   "metadata": {},
   "outputs": [],
   "source": [
    "start = time.time()\n",
    "source_morphs = statmorph.source_morphology(\n",
    "    fitting_image.data, segm_deblend, gain=gain, psf=psf)\n",
    "\n",
    "stat_morph_time = time.time() - start\n",
    "print('Time: %g s.' % (stat_morph_time))"
   ]
  },
  {
   "cell_type": "code",
   "execution_count": null,
   "id": "10115d94",
   "metadata": {},
   "outputs": [],
   "source": [
    "morph = source_morphs[idx]"
   ]
  },
  {
   "cell_type": "code",
   "execution_count": null,
   "id": "28863c57",
   "metadata": {},
   "outputs": [],
   "source": [
    "print('rpetro_ellip =', morph.rpetro_ellip)\n",
    "print('rhalf_ellip =', morph.rhalf_ellip)\n",
    "print('r20 =', morph.r20)\n",
    "print('r80 =', morph.r80)\n",
    "print('sersic_amplitude =', morph.sersic_amplitude)\n",
    "print('sersic_rhalf =', morph.sersic_rhalf)\n",
    "print('sersic_n =', morph.sersic_n)\n",
    "print('sersic_xc =', morph.sersic_xc)\n",
    "print('sersic_yc =', morph.sersic_yc)\n",
    "print('sersic_ellip =', morph.sersic_ellip)\n",
    "print('sersic_theta =', morph.sersic_theta)"
   ]
  },
  {
   "cell_type": "markdown",
   "id": "d5159e15",
   "metadata": {},
   "source": [
    "# PetroFit"
   ]
  },
  {
   "cell_type": "code",
   "execution_count": null,
   "id": "f1fa60a3",
   "metadata": {},
   "outputs": [],
   "source": [
    "def petrofit_source_morphology(source):\n",
    "    max_pix = max(fitting_image.shape)//2\n",
    "\n",
    "    r_list = make_radius_list(\n",
    "        max_pix=max_pix, # Max pixel to go up to\n",
    "        n=max_pix#min(max_pix, 1000) # the number of radii to produce \n",
    "    )\n",
    "\n",
    "    # Photomerty \n",
    "    flux_arr, area_arr, error_arr = source_photometry(\n",
    "\n",
    "        # Inputs \n",
    "        source, # Source (`photutils.segmentation.catalog.SourceCatalog`)\n",
    "        fitting_image.data, # Image as 2D array \n",
    "        segm_deblend, # Deblended segmentation map of image\n",
    "        r_list, # list of aperture radii\n",
    "\n",
    "        # Options \n",
    "        cutout_size=max(r_list)*2, # Cutout out size, set to double the max radius  \n",
    "        plot=False, \n",
    "    )\n",
    "\n",
    "    p = Petrosian(r_list, area_arr, flux_arr)\n",
    "\n",
    "    pc = PetrosianCorrection(\"./galfit_f105_moffat_psf_correction_gid.yaml\")\n",
    "\n",
    "    corrected_epsilon = pc.estimate_epsilon(\n",
    "        p.r_half_light,\n",
    "        p.concentration_index()[-1]\n",
    "\n",
    "    )\n",
    "\n",
    "    corrected_p = Petrosian(r_list, area_arr, flux_arr, uncertainties=error_arr,\n",
    "                            epsilon=corrected_epsilon)\n",
    "\n",
    "\n",
    "    image_x_0, image_y_0 = get_source_position(source)\n",
    "    x_0, y_0 = image_x_0, image_y_0\n",
    "    ellip = get_source_ellip(source)\n",
    "    elong = get_source_elong(source)\n",
    "    theta = get_source_theta(source)\n",
    "    n = pc.estimate_n(\n",
    "        p.r_half_light,\n",
    "        p.concentration_index()[-1]\n",
    "    )\n",
    "    r_eff = corrected_p.r_half_light\n",
    "    \n",
    "    amplitude = 0 \n",
    "    rhalf_ellip = 0\n",
    "    rpetro_ellip = 0 \n",
    "    \n",
    "    ellip_failed = False\n",
    "    try:\n",
    "        # Define EllipseGeometry using ellip and theta\n",
    "        g = EllipseGeometry(image_x_0, image_y_0, 1., ellip, theta)\n",
    "\n",
    "        # Create Ellipse model \n",
    "        ellipse = Ellipse(fitting_image.data, geometry=g)\n",
    "\n",
    "        # Fit isophote at r_eff\n",
    "        iso = ellipse.fit_isophote(r_eff)\n",
    "        \n",
    "        # Get flux at r_eff\n",
    "        amplitude = iso.intens\n",
    "        rhalf_ellip = iso.eps\n",
    "        \n",
    "        # Fit isophote at r_eff\n",
    "        iso_petro = ellipse.fit_isophote(corrected_p.r_petrosian)\n",
    "        rpetro_ellip = iso_petro.eps\n",
    "\n",
    "    except:\n",
    "        print('could n|ot calculate EllipseGeometry for source', source)\n",
    "        ellip_failed = True\n",
    "        \n",
    "    if ellip_failed or np.isnan(corrected_p.r_total_flux):\n",
    "        return corrected_p, p, image_x_0, image_y_0, ellip, elong, theta, n, r_eff, amplitude,rhalf_ellip,rpetro_ellip, None\n",
    "        \n",
    "        \n",
    "\n",
    "    model = None\n",
    "\n",
    "    \n",
    "    \n",
    "    center_slack = 4\n",
    "\n",
    "    sersic_model = models.Sersic2D(\n",
    "\n",
    "            amplitude=amplitude,\n",
    "            r_eff=r_eff,\n",
    "            n=n,\n",
    "            x_0=float(x_0),\n",
    "            y_0=float(y_0),\n",
    "            ellip=ellip, \n",
    "            theta=theta,\n",
    "\n",
    "            bounds = {\n",
    "                'amplitude': (1e-9, None),\n",
    "                'r_eff': (0, None),\n",
    "                'n': (0, 6),\n",
    "                'ellip': (0, 1),\n",
    "                'theta': (-2*np.pi, 2*np.pi),\n",
    "                'x_0': (x_0 - center_slack/2, x_0 + center_slack/2),\n",
    "                'y_0': (y_0 - center_slack/2, y_0 + center_slack/2),\n",
    "            },\n",
    "    )\n",
    "    \n",
    "    oversample = None\n",
    "    if n > 3:\n",
    "    \n",
    "        oversample = ('x_0', 'y_0', 50, 10)\n",
    "\n",
    "    print(repr(sersic_model))\n",
    "\n",
    "    psf_sersic_model = PSFModel.wrap(sersic_model, psf=psf, oversample=oversample)\n",
    "    psf_sersic_model.fixed['psf_pa'] = True\n",
    "    \n",
    "    print(psf_sersic_model)\n",
    "    masked_image = masked_segm_image(source, fitting_image.data, segm_deblend, fill=np.nan, mask_background=True)\n",
    "    print('fitting')\n",
    "\n",
    "    fitted_model, fit_info = fit_model(\n",
    "       fitting_image.data, psf_sersic_model,\n",
    "        maxiter=100000,\n",
    "        epsilon=1.4901161193847656e-08,\n",
    "        acc=1e-09,\n",
    "    )\n",
    "    \n",
    "\n",
    "    return corrected_p, p, image_x_0, image_y_0, ellip, elong, theta, n, r_eff, amplitude,rhalf_ellip,rpetro_ellip, fitted_model\n",
    "    "
   ]
  },
  {
   "cell_type": "code",
   "execution_count": null,
   "id": "56804012",
   "metadata": {},
   "outputs": [],
   "source": [
    "start = time.time()\n",
    "petro_morph = petrofit_source_morphology(source)\n",
    "cp, p, image_x_0, image_y_0, ellip, elong, theta, n, r_eff, amplitude,rhalf_ellip,rpetro_ellip, model = petro_morph \n",
    "petro_time = time.time() - start\n",
    "print('Time: %g s.' % (petro_time))"
   ]
  },
  {
   "cell_type": "markdown",
   "id": "c28dd556",
   "metadata": {},
   "source": [
    "# GalFit Params"
   ]
  },
  {
   "cell_type": "code",
   "execution_count": null,
   "id": "fb459381",
   "metadata": {},
   "outputs": [],
   "source": [
    "galfit_r_eff=15 \n",
    "galfit_n= float(input_file.split('_')[3].replace('n', ''))\n",
    "galfit_x_0=450\n",
    "galfit_y_0=450\n",
    "galfit_ellip=0\n",
    "galfit_theta=0\n",
    "galfit_total_mag = 26.563\n",
    "galfit_total_flux = 10**((galfit_total_mag - 26.563)/(2.5))\n",
    "\n",
    "galfit_amplitude = galfit_total_flux / sersic_enclosed(np.inf, 1., galfit_r_eff, galfit_n, ellip=galfit_ellip)\n",
    "\n",
    "\n",
    "sersic_model = models.Sersic2D(amplitude=galfit_amplitude, \n",
    "                               r_eff=galfit_r_eff, \n",
    "                               n=galfit_n, \n",
    "                               x_0=galfit_x_0, \n",
    "                               y_0=galfit_y_0, \n",
    "                               ellip=galfit_ellip, \n",
    "                               theta=galfit_theta)\n",
    "\n"
   ]
  },
  {
   "cell_type": "code",
   "execution_count": null,
   "id": "ed0ebce4",
   "metadata": {},
   "outputs": [],
   "source": [
    "sampler_r = np.arange(1, 100, 0.01)\n",
    "model_petro = petrosian_profile(sampler_r, r_eff=sersic_model.r_eff, n=sersic_model.n)\n",
    "\n",
    "sersic_petro = sampler_r[abs(0.2 - model_petro).argmin()]"
   ]
  },
  {
   "cell_type": "code",
   "execution_count": null,
   "id": "77b1c6e9",
   "metadata": {},
   "outputs": [],
   "source": [
    "f99 = sersic_enclosed(np.inf, sersic_model.amplitude, sersic_model.r_eff, sersic_model.n, ellip=sersic_model.ellip)  * 0.99\n",
    "r20 = sersic_enclosed_inv(f99*0.2/0.99, sersic_model.amplitude, sersic_model.r_eff, sersic_model.n, ellip=sersic_model.ellip)\n",
    "r80 = sersic_enclosed_inv(f99*0.8/0.99, sersic_model.amplitude, sersic_model.r_eff, sersic_model.n, ellip=sersic_model.ellip )\n",
    "f99, r20,  r80, 5*np.log10(r80/r20)"
   ]
  },
  {
   "cell_type": "code",
   "execution_count": null,
   "id": "82f09a88",
   "metadata": {},
   "outputs": [],
   "source": [
    "sersic_enclosed_inv(f99, sersic_model.amplitude, sersic_model.r_eff, sersic_model.n, ellip=sersic_model.ellip)\n"
   ]
  },
  {
   "cell_type": "code",
   "execution_count": null,
   "id": "98be4d24",
   "metadata": {},
   "outputs": [],
   "source": [
    "rows = ['amplitude', '$r_{eff}$', 'n', '$x_0$', '$y_0$', 'ellip', 'theta', '$r_{petro}$', '$r_{20}$', '$r_{80}$', '$C_{2080}$', 'Total Flux', 'Time']\n",
    "\n",
    "gf_inputs = [sersic_model.amplitude.value, sersic_model.r_eff.value, sersic_model.n.value, sersic_model.x_0.value, sersic_model.y_0.value, sersic_model.ellip.value, sersic_model.theta.value, sersic_petro, r20,  r80, 5*np.log10(r80/r20), f99, 0]\n",
    "sm_results = [morph.sersic_amplitude,  morph.sersic_rhalf,  morph.sersic_n,  morph.sersic_xc, morph.sersic_yc,  morph.sersic_ellip, morph.sersic_theta, morph.rpetro_ellip, morph.r20, morph.r80, morph.concentration, morph.flux_ellip, stat_morph_time]\n",
    "pf_results = [model.amplitude.value, model.r_eff.value, model.n.value, model.x_0.value, model.y_0.value, model.ellip.value, model.theta.value, cp.r_petrosian, cp.fraction_flux_to_r(0.2), cp.fraction_flux_to_r(0.8), cp.c2080, cp.total_flux, petro_time]\n",
    "\n",
    "gf_inputs = [float('{:0.4e}'.format(i)) for i in gf_inputs]\n",
    "sm_results = [float('{:0.4e}'.format(i)) for i in sm_results]\n",
    "pf_results = [float('{:0.4e}'.format(i)) for i in pf_results]\n",
    "\n",
    "t = Table(data=[rows, gf_inputs, pf_results, sm_results], names=['Values', 'GALFIT Inputs', 'PetroFit', 'statmorph'])\n",
    "t"
   ]
  },
  {
   "cell_type": "code",
   "execution_count": null,
   "id": "91b19f2f",
   "metadata": {},
   "outputs": [],
   "source": [
    "t.write(input_file.replace('.fits', '_comparison.csv'), overwrite=True)"
   ]
  },
  {
   "cell_type": "code",
   "execution_count": null,
   "id": "8d42e2e0",
   "metadata": {},
   "outputs": [],
   "source": []
  }
 ],
 "metadata": {
  "kernelspec": {
   "display_name": "Python 3 (ipykernel)",
   "language": "python",
   "name": "python3"
  },
  "language_info": {
   "codemirror_mode": {
    "name": "ipython",
    "version": 3
   },
   "file_extension": ".py",
   "mimetype": "text/x-python",
   "name": "python",
   "nbconvert_exporter": "python",
   "pygments_lexer": "ipython3",
   "version": "3.7.11"
  }
 },
 "nbformat": 4,
 "nbformat_minor": 5
}
