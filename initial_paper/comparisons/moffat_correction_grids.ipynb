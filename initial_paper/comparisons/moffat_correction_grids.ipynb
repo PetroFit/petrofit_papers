{
 "cells": [
  {
   "cell_type": "markdown",
   "id": "09eb9c87",
   "metadata": {},
   "source": [
    "# Correction Girds"
   ]
  },
  {
   "cell_type": "code",
   "execution_count": 1,
   "id": "cb595677",
   "metadata": {
    "nbsphinx": "hidden"
   },
   "outputs": [],
   "source": [
    "# Hidden cell\n",
    "\n",
    "%matplotlib inline"
   ]
  },
  {
   "cell_type": "markdown",
   "id": "8c20bce2",
   "metadata": {},
   "source": [
    "## Define Sampling Points \n",
    "\n",
    "The correction grid is generated along a set of half-light radii and Sersic indices. The generator loops through the Sersic indices for each half-light radius in the radius list. For this documentation we define a small set of values, with the Sersic indices of a Gaussian and de Vaucouleurs’ profile.\n"
   ]
  },
  {
   "cell_type": "code",
   "execution_count": 5,
   "id": "fcec33cc",
   "metadata": {},
   "outputs": [
    {
     "data": {
      "text/plain": [
       "array([0.2, 0.4, 0.6, 0.8, 1. , 1.2, 1.4, 1.6, 1.8, 2. , 2.2, 2.4, 2.6,\n",
       "       2.8, 3. , 3.2, 3.4, 3.6, 3.8, 4. , 4.2, 4.4, 4.6, 4.8, 5. , 5.2,\n",
       "       5.4, 5.6, 5.8])"
      ]
     },
     "execution_count": 5,
     "metadata": {},
     "output_type": "execute_result"
    }
   ],
   "source": [
    "import numpy as np \n",
    "\n",
    "r_eff_list = np.array([15, 20, 25, 50])\n",
    "n_list = np.arange(0.2, 6, 0.2)\n",
    "n_list"
   ]
  },
  {
   "cell_type": "markdown",
   "id": "8f5cf7ae",
   "metadata": {},
   "source": [
    "## Correction Grid\n",
    "\n",
    "We do a simple API call to generate the correction grid. We provide a PSF and oversampling rule as well. Oversampling becomes important for small half-light radii since the model needs to be sampled well in the center. \n",
    "\n"
   ]
  },
  {
   "cell_type": "markdown",
   "id": "ef5216be",
   "metadata": {},
   "source": [
    "### Load PSF \n",
    "\n",
    "We load an HST `F105W` PSF:"
   ]
  },
  {
   "cell_type": "code",
   "execution_count": 6,
   "id": "potential-princeton",
   "metadata": {},
   "outputs": [
    {
     "name": "stdout",
     "output_type": "stream",
     "text": [
      "PSF Shape = (55, 55)\n"
     ]
    },
    {
     "data": {
      "image/png": "[encoded data removed]",
      "text/plain": [
       "<Figure size 432x288 with 1 Axes>"
      ]
     },
     "metadata": {
      "needs_background": "light"
     },
     "output_type": "display_data"
    }
   ],
   "source": [
    "from astropy.io import fits\n",
    "\n",
    "from matplotlib import pyplot as plt\n",
    "\n",
    "# Load PSF image (2D array)\n",
    "PSF = fits.getdata('./f105_moffat_psf.fits.gz')\n",
    "\n",
    "\n",
    "# Normalize PSF \n",
    "PSF = PSF / PSF.sum()\n",
    "plt.axvline(max(PSF.shape)/2, c='w')\n",
    "# Note that the PSF shape is odd on all sides\n",
    "print(\"PSF Shape = {}\".format(PSF.shape))\n",
    "\n",
    "# Plot PSF and use vmax and vmin to show difraction spikes\n",
    "plt.imshow(PSF, vmin=0, vmax=5e-4)\n",
    "plt.show()"
   ]
  },
  {
   "cell_type": "markdown",
   "id": "562ba847",
   "metadata": {},
   "source": [
    "### Generate Correction Grid\n",
    "\n",
    "The `generate_petrosian_sersic_correction` grid follows the following steps to generate the correction grid:\n",
    "\n",
    "- Computes the total flux (`total_flux`) of an ideal Sersic profile with the sampling points using the ` petrofit.models. sersic_enclosed` function and setting the radius to `np.inf`.\n",
    "- Computes the radius equal to `total_flux * 0.99`.\n",
    "- Makes a PSF convolved Sersic Model image and measures the photometry. \n",
    "- Measures the uncorrected Petrosian radius (). \n",
    "- Computes the correct `epsilon` value as ` corrected_epsilon = r_total_flux / r_petrosian`.\n",
    "- It also saves other values, such as the uncorrected `C2080` which can be used to mapto the Sersic index."
   ]
  },
  {
   "cell_type": "code",
   "execution_count": 7,
   "id": "dedicated-helen",
   "metadata": {
    "scrolled": true
   },
   "outputs": [
    {
     "data": {
      "application/vnd.jupyter.widget-view+json": {
       "model_id": "aa9cb89c95444b20a2a4c5bcc7016a10",
       "version_major": 2,
       "version_minor": 0
      },
      "text/plain": [
       "FloatProgress(value=0.0)"
      ]
     },
     "metadata": {},
     "output_type": "display_data"
    },
    {
     "name": "stdout",
     "output_type": "stream",
     "text": [
      "\n",
      "galfit_f105_moffat_psf_correction_gid.yaml\n"
     ]
    }
   ],
   "source": [
    "from petrofit.correction import generate_petrosian_sersic_correction\n",
    "\n",
    "petrosian_grid = generate_petrosian_sersic_correction(\n",
    "    output_yaml_name='galfit_f105_moffat_psf_correction_gid.yaml',\n",
    "    psf=PSF,\n",
    "    r_eff_list=r_eff_list,\n",
    "    n_list=n_list,\n",
    "    oversample=('x_0', 'y_0', 20, 100),\n",
    "    plot=False,\n",
    ")"
   ]
  },
  {
   "cell_type": "code",
   "execution_count": 8,
   "id": "0f2d73ab",
   "metadata": {},
   "outputs": [
    {
     "data": {
      "application/vnd.jupyter.widget-view+json": {
       "model_id": "39b0b0ff91864825a0419af9e759413f",
       "version_major": 2,
       "version_minor": 0
      },
      "text/plain": [
       "FloatProgress(value=0.0)"
      ]
     },
     "metadata": {},
     "output_type": "display_data"
    },
    {
     "name": "stdout",
     "output_type": "stream",
     "text": [
      "\n",
      "galfit_no_psf_correction_gid.yaml\n"
     ]
    }
   ],
   "source": [
    "from petrofit.correction import generate_petrosian_sersic_correction\n",
    "\n",
    "petrosian_grid = generate_petrosian_sersic_correction(\n",
    "    output_yaml_name='galfit_no_psf_correction_gid.yaml',\n",
    "    psf=None,\n",
    "    r_eff_list=r_eff_list,\n",
    "    n_list=n_list,\n",
    "    oversample=('x_0', 'y_0', 20, 100),\n",
    "    plot=False,\n",
    "\n",
    ")"
   ]
  },
  {
   "cell_type": "markdown",
   "id": "85317016",
   "metadata": {},
   "source": [
    "## Test Grid\n",
    "\n",
    "We test the correction gird by loading it into a ` PetrosianCorrection` and using it estimate values.\n"
   ]
  },
  {
   "cell_type": "code",
   "execution_count": null,
   "id": "222dde66",
   "metadata": {},
   "outputs": [],
   "source": [
    "from petrofit.petrosian import PetrosianCorrection\n",
    "\n",
    "pc = PetrosianCorrection('temp/example_correction_gid.yaml')"
   ]
  },
  {
   "cell_type": "code",
   "execution_count": null,
   "id": "aecb98d8",
   "metadata": {
    "scrolled": true
   },
   "outputs": [],
   "source": [
    "corrected_epsilon = pc.estimate_epsilon(\n",
    "    r_hl_pet=15, \n",
    "    c2080pet=3,  \n",
    "    verbose=True\n",
    ")\n",
    "\n",
    "print(corrected_epsilon)"
   ]
  }
 ],
 "metadata": {
  "kernelspec": {
   "display_name": "Python 3 (ipykernel)",
   "language": "python",
   "name": "python3"
  },
  "language_info": {
   "codemirror_mode": {
    "name": "ipython",
    "version": 3
   },
   "file_extension": ".py",
   "mimetype": "text/x-python",
   "name": "python",
   "nbconvert_exporter": "python",
   "pygments_lexer": "ipython3",
   "version": "3.7.11"
  }
 },
 "nbformat": 4,
 "nbformat_minor": 5
}
