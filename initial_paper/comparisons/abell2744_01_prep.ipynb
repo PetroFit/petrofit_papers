{
 "cells": [
  {
   "cell_type": "code",
   "execution_count": null,
   "id": "f1bedfcd",
   "metadata": {},
   "outputs": [],
   "source": [
    "%matplotlib inline\n",
    "\n",
    "from matplotlib import pyplot as plt\n",
    "\n",
    "plt.rcParams['figure.figsize'] = [10, 10]\n",
    "plt.rcParams['image.origin'] = 'lower'\n",
    "#plt.rcParams.update({'font.size': 17})\n",
    "\n",
    "SMALL_SIZE = 15\n",
    "MEDIUM_SIZE = 18\n",
    "BIGGER_SIZE = 20\n",
    "\n",
    "#plt.rc('font', size=SMALL_SIZE)          # controls default text sizes\n",
    "plt.rc('axes', titlesize=BIGGER_SIZE)     # fontsize of the axes title\n",
    "plt.rc('axes', labelsize=BIGGER_SIZE)    # fontsize of the x and y labels\n",
    "plt.rc('xtick', labelsize=BIGGER_SIZE)    # fontsize of the tick labels\n",
    "plt.rc('ytick', labelsize=BIGGER_SIZE)    # fontsize of the tick labels\n",
    "plt.rc('legend', fontsize=SMALL_SIZE)    # legend fontsize\n",
    "plt.rc('figure', titlesize=BIGGER_SIZE)  # fontsize of the figure title\n",
    "\n",
    "def savefig(filename):\n",
    "    plt.savefig(\"plots/\"+filename, dpi=70, bbox_inches = 'tight', pad_inches = 0.1)"
   ]
  },
  {
   "cell_type": "code",
   "execution_count": null,
   "id": "3d8126a3",
   "metadata": {},
   "outputs": [],
   "source": [
    "from astropy.nddata import CCDData, Cutout2D\n",
    "from astropy.io import fits \n",
    "from astropy import units as u "
   ]
  },
  {
   "cell_type": "code",
   "execution_count": null,
   "id": "91575418",
   "metadata": {},
   "outputs": [],
   "source": [
    "url = 'https://archive.stsci.edu/pub/hlsp/frontier/abell2744/images/hst/v1.0/hlsp_frontier_hst_wfc3-60mas_abell2744_f105w_v1.0_drz.fits'\n",
    "image_data = CCDData.read(url, cache=True)\n",
    "rms_data = fits.getdata(url.replace('drz', 'rms'))"
   ]
  },
  {
   "cell_type": "code",
   "execution_count": null,
   "id": "7aca84a3",
   "metadata": {},
   "outputs": [],
   "source": [
    "from astropy.coordinates import SkyCoord\n",
    "\n",
    "targ_x, targ_y = image_data.wcs.world_to_pixel(SkyCoord(3.596248*u.deg,  -30.388517*u.deg))"
   ]
  },
  {
   "cell_type": "code",
   "execution_count": null,
   "id": "61dd85a2",
   "metadata": {},
   "outputs": [],
   "source": [
    "from astropy import units as u \n",
    "\n",
    "image = Cutout2D(image_data, position=(targ_x-1, targ_y), size=150, copy=True, wcs=image_data.wcs)\n",
    "rms =  Cutout2D(rms_data, position=(targ_x-1, targ_y), size=150, copy=True)"
   ]
  },
  {
   "cell_type": "code",
   "execution_count": null,
   "id": "ffb27660",
   "metadata": {
    "scrolled": false
   },
   "outputs": [],
   "source": [
    "import numpy as np\n",
    "\n",
    "vmax = 0.05 # Use the image std as max and min of all plots \n",
    "vmin = - vmax \n",
    "\n",
    "plt.imshow(image.data, vmin=vmin, vmax=vmax)\n",
    "plt.title(\"Galaxy in Abell 2744\")\n",
    "plt.xlabel(\"Pixels\")\n",
    "plt.ylabel(\"Pixels\")\n",
    "plt.show()"
   ]
  },
  {
   "cell_type": "code",
   "execution_count": null,
   "id": "c8a14d5d",
   "metadata": {},
   "outputs": [],
   "source": [
    "from petrofit.fitting import fit_background\n",
    "import numpy as np \n",
    "\n",
    "def calc_bg(target_image):\n",
    "    fig, axs = plt.subplots(1,3)\n",
    "    x_arr = np.linspace(0, target_cutout_size, target_cutout_size+1)[:-1]\n",
    "    x_grid, y_grid = np.meshgrid(x_arr, x_arr)\n",
    "    \n",
    "    bg_image = fit_background(target_image, sigma=3.0)[0](x_grid, y_grid)\n",
    "    \n",
    "    plt.sca(axs[0])\n",
    "    plt.imshow(bg_image)\n",
    "    \n",
    "    plt.sca(axs[1])\n",
    "    plt.imshow(bg_image, vmax=vmax, vmin=vmin)\n",
    "    \n",
    "    plt.sca(axs[2])\n",
    "    plt.imshow(target_image-bg_image, vmax=vmax, vmin=vmin)\n",
    "    \n",
    "    return bg_image\n",
    "\n",
    "target_cutout_size = len(image.data)\n",
    "bg = calc_bg(image.data)\n",
    "image.data = image.data - bg "
   ]
  },
  {
   "cell_type": "markdown",
   "id": "1eb15f4f",
   "metadata": {},
   "source": [
    "## Save Image and RMS "
   ]
  },
  {
   "cell_type": "code",
   "execution_count": null,
   "id": "19daf6dc",
   "metadata": {},
   "outputs": [],
   "source": [
    "image_header = image_data.header.copy()\n",
    "image_header.update(image.wcs.to_header())\n",
    "image_header.update({\n",
    "    'EXPTIME' : 1.0,\n",
    "    'RDNOISE' : image_header['READNSEC'], \n",
    "    'GAIN' : image_header['CCDGAIN']})\n",
    "fits.writeto('./bg_subtracted_abell2744_test_image.fits', image.data, header=image_header, overwrite=True)\n",
    "\n",
    "rms_header = fits.getheader(url.replace('drz', 'rms'))\n",
    "rms_header.update(image.wcs.to_header())\n",
    "fits.writeto('./bg_subtracted_abell2744_test_rms.fits', rms.data, header=rms_header, overwrite=True)"
   ]
  },
  {
   "cell_type": "markdown",
   "id": "2b76dbf6",
   "metadata": {},
   "source": [
    "## Make Source Catalog \n",
    "\n",
    "We will use the sigma clipped std as a threshold at the segmentation and deblending steps.\n"
   ]
  },
  {
   "cell_type": "code",
   "execution_count": null,
   "id": "b5d8bba9",
   "metadata": {},
   "outputs": [],
   "source": [
    "from astropy.stats import sigma_clipped_stats\n",
    "image_mean, image_median, image_stddev = sigma_clipped_stats(image.data, sigma=3)"
   ]
  },
  {
   "cell_type": "markdown",
   "id": "14f99306",
   "metadata": {},
   "source": [
    "Here we identity sources in the input image."
   ]
  },
  {
   "cell_type": "code",
   "execution_count": null,
   "id": "648a41a2",
   "metadata": {},
   "outputs": [],
   "source": [
    "from petrofit.segmentation import make_catalog, plot_segments\n",
    "\n",
    "threshold = image_stddev * 2\n",
    "\n",
    "# Define smoothing kernel\n",
    "kernel_size = 3\n",
    "fwhm = 3\n",
    "\n",
    "# Min Source size (area)\n",
    "npixels = 2**2\n",
    "\n",
    "\n",
    "cat, segm, segm_deblend = make_catalog(    \n",
    "    image.data, \n",
    "    threshold=threshold, \n",
    "    deblend=True,                 \n",
    "    kernel_size=kernel_size,                  \n",
    "    fwhm=fwhm, \n",
    "    npixels=npixels,\n",
    "    contrast=0.00,\n",
    "    plot=True, vmax=vmax, vmin=vmin\n",
    ")\n",
    "\n",
    "plt.show()\n",
    "\n",
    "# Display source properties\n",
    "print(\"Num of Targets:\", len(cat))"
   ]
  },
  {
   "cell_type": "code",
   "execution_count": null,
   "id": "c287e03c",
   "metadata": {},
   "outputs": [],
   "source": [
    "from petrofit.photometry import order_cat\n",
    "from petrofit.utils import plot_target\n",
    "# Sort and select object of interest in the catalog\n",
    "sorted_idx_list = order_cat(cat, key='area', reverse=True)\n",
    "idx = sorted_idx_list[2] # index 0 is largest \n",
    "source = cat[idx]  # get source from the catalog \n",
    "\n",
    "plot_target(\n",
    "    position=(source.maxval_xindex, source.maxval_yindex), \n",
    "    image=image.data, \n",
    "    size=max(image.data.shape)//2, \n",
    "    vmax=vmax, \n",
    "    vmin=vmin\n",
    ")"
   ]
  },
  {
   "cell_type": "markdown",
   "id": "199121a2",
   "metadata": {},
   "source": [
    "## Save Mask"
   ]
  },
  {
   "cell_type": "code",
   "execution_count": null,
   "id": "c3502f81",
   "metadata": {},
   "outputs": [],
   "source": [
    "from petrofit.segmentation import masked_segm_image\n",
    "pixel_mask = masked_segm_image(source, np.zeros_like(image.data), segm_deblend)\n",
    "pixel_mask[np.where(np.isnan(pixel_mask))] = 1\n",
    "plt.imshow(pixel_mask)\n",
    "\n",
    "fits.writeto('./bg_subtracted_abell2744_test_mask.fits', pixel_mask, overwrite=True)"
   ]
  },
  {
   "cell_type": "code",
   "execution_count": null,
   "id": "542f07da",
   "metadata": {},
   "outputs": [],
   "source": [
    "segm_deblend"
   ]
  },
  {
   "cell_type": "code",
   "execution_count": null,
   "id": "986f45d7",
   "metadata": {},
   "outputs": [],
   "source": [
    "import pickle"
   ]
  },
  {
   "cell_type": "code",
   "execution_count": null,
   "id": "34aa41f3",
   "metadata": {},
   "outputs": [],
   "source": [
    "pickle.dump(segm_deblend, open( \"bg_subtracted_abell2744_test_segm_deblend.p\", \"wb\" ))"
   ]
  }
 ],
 "metadata": {
  "kernelspec": {
   "display_name": "Python 3 (ipykernel)",
   "language": "python",
   "name": "python3"
  },
  "language_info": {
   "codemirror_mode": {
    "name": "ipython",
    "version": 3
   },
   "file_extension": ".py",
   "mimetype": "text/x-python",
   "name": "python",
   "nbconvert_exporter": "python",
   "pygments_lexer": "ipython3",
   "version": "3.7.11"
  }
 },
 "nbformat": 4,
 "nbformat_minor": 5
}
