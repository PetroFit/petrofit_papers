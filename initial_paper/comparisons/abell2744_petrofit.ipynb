{
 "cells": [
  {
   "cell_type": "code",
   "execution_count": null,
   "id": "f1bedfcd",
   "metadata": {},
   "outputs": [],
   "source": [
    "%matplotlib inline\n",
    "\n",
    "from matplotlib import pyplot as plt\n",
    "\n",
    "plt.rcParams['figure.figsize'] = [10, 10]\n",
    "plt.rcParams['image.origin'] = 'lower'\n",
    "#plt.rcParams.update({'font.size': 17})\n",
    "\n",
    "SMALL_SIZE = 15\n",
    "MEDIUM_SIZE = 18\n",
    "BIGGER_SIZE = 20\n",
    "\n",
    "#plt.rc('font', size=SMALL_SIZE)          # controls default text sizes\n",
    "plt.rc('axes', titlesize=BIGGER_SIZE)     # fontsize of the axes title\n",
    "plt.rc('axes', labelsize=BIGGER_SIZE)    # fontsize of the x and y labels\n",
    "plt.rc('xtick', labelsize=BIGGER_SIZE)    # fontsize of the tick labels\n",
    "plt.rc('ytick', labelsize=BIGGER_SIZE)    # fontsize of the tick labels\n",
    "plt.rc('legend', fontsize=SMALL_SIZE)    # legend fontsize\n",
    "plt.rc('figure', titlesize=BIGGER_SIZE)  # fontsize of the figure title\n",
    "\n",
    "def savefig(filename):\n",
    "    plt.savefig(\"plots/\"+filename, dpi=70, bbox_inches = 'tight', pad_inches = 0.1)"
   ]
  },
  {
   "cell_type": "code",
   "execution_count": null,
   "id": "79c75e42",
   "metadata": {},
   "outputs": [],
   "source": [
    "from time import time "
   ]
  },
  {
   "cell_type": "markdown",
   "id": "e0e45391",
   "metadata": {},
   "source": [
    "# Load Time"
   ]
  },
  {
   "cell_type": "code",
   "execution_count": null,
   "id": "61dd85a2",
   "metadata": {},
   "outputs": [],
   "source": [
    "%%time\n",
    "t_load_start = time()\n",
    "\n",
    "from astropy.io import fits \n",
    "\n",
    "image = fits.getdata('./bg_subtracted_abell2744_test_image.fits')\n",
    "header = fits.getheader('./bg_subtracted_abell2744_test_image.fits')\n",
    "rms =  fits.getdata('./bg_subtracted_abell2744_test_rms.fits')\n",
    "\n",
    "# Load PSF image (2D array)\n",
    "PSF = fits.getdata('f105w_psf.fits.gz')\n",
    "\n",
    "# Normalize PSF \n",
    "PSF = PSF / PSF.sum()\n",
    "\n",
    "t_load_end = time()"
   ]
  },
  {
   "cell_type": "code",
   "execution_count": null,
   "id": "c1ac9322",
   "metadata": {},
   "outputs": [],
   "source": [
    "load_time = t_load_end - t_load_start # Seconds\n",
    "load_time"
   ]
  },
  {
   "cell_type": "code",
   "execution_count": null,
   "id": "dbd60383",
   "metadata": {},
   "outputs": [],
   "source": [
    "# Note that the PSF shape is odd on all sides\n",
    "print(\"PSF Shape = {}\".format(PSF.shape))\n",
    "\n",
    "# Plot PSF and use vmax and vmin to show difraction spikes\n",
    "plt.imshow(PSF, vmin=0, vmax=PSF.std()/10)\n",
    "plt.show()"
   ]
  },
  {
   "cell_type": "code",
   "execution_count": null,
   "id": "ffb27660",
   "metadata": {
    "scrolled": false
   },
   "outputs": [],
   "source": [
    "import numpy as np\n",
    "\n",
    "\n",
    "vmax = 0.05 # Use the image std as max and min of all plots \n",
    "vmin = - vmax \n",
    "\n",
    "plt.imshow(image, vmin=vmin, vmax=vmax)\n",
    "plt.title(\"Galaxy in Abell 2744\")\n",
    "plt.xlabel(\"Pixels\")\n",
    "plt.ylabel(\"Pixels\")\n",
    "plt.show()"
   ]
  },
  {
   "cell_type": "markdown",
   "id": "2b76dbf6",
   "metadata": {},
   "source": [
    "## Make Source Catalog \n",
    "\n",
    "We will use the sigma clipped std as a threshold at the segmentation and deblending steps.\n"
   ]
  },
  {
   "cell_type": "code",
   "execution_count": null,
   "id": "b5d8bba9",
   "metadata": {},
   "outputs": [],
   "source": [
    "from astropy.stats import sigma_clipped_stats\n",
    "image_mean, image_median, image_stddev = sigma_clipped_stats(image.data, sigma=3)"
   ]
  },
  {
   "cell_type": "markdown",
   "id": "14f99306",
   "metadata": {},
   "source": [
    "Here we identity sources in the input image."
   ]
  },
  {
   "cell_type": "code",
   "execution_count": null,
   "id": "648a41a2",
   "metadata": {},
   "outputs": [],
   "source": [
    "from petrofit.segmentation import make_catalog, plot_segments\n",
    "\n",
    "threshold = image_stddev * 2\n",
    "\n",
    "# Define smoothing kernel\n",
    "kernel_size = 3\n",
    "fwhm = 3\n",
    "\n",
    "# Min Source size (area)\n",
    "npixels = 2**2\n",
    "\n",
    "\n",
    "cat, segm, segm_deblend = make_catalog(    \n",
    "    image, \n",
    "    threshold=threshold, \n",
    "    deblend=True,                 \n",
    "    kernel_size=kernel_size,                  \n",
    "    fwhm=fwhm, \n",
    "    npixels=npixels,\n",
    "    contrast=0.00,\n",
    "    plot=True, vmax=vmax, vmin=vmin\n",
    ")\n",
    "\n",
    "plt.show()\n",
    "\n",
    "# Display source properties\n",
    "print(\"Num of Targets:\", len(cat))"
   ]
  },
  {
   "cell_type": "code",
   "execution_count": null,
   "id": "c287e03c",
   "metadata": {
    "scrolled": false
   },
   "outputs": [],
   "source": [
    "from petrofit.photometry import order_cat\n",
    "from petrofit.utils import plot_target\n",
    "# Sort and select object of interest in the catalog\n",
    "sorted_idx_list = order_cat(cat, key='area', reverse=True)\n",
    "idx = sorted_idx_list[2] # index 0 is largest \n",
    "source = cat[idx]  # get source from the catalog \n",
    "\n",
    "plot_target(\n",
    "    position=(source.maxval_xindex, source.maxval_yindex), \n",
    "    image=image, \n",
    "    size=max(image.data.shape)//2, \n",
    "    vmax=vmax, \n",
    "    vmin=vmin\n",
    ")"
   ]
  },
  {
   "cell_type": "code",
   "execution_count": null,
   "id": "4fd9e7e3",
   "metadata": {},
   "outputs": [],
   "source": [
    "source.label"
   ]
  },
  {
   "cell_type": "markdown",
   "id": "3901242f",
   "metadata": {},
   "source": [
    "# PetroFit"
   ]
  },
  {
   "cell_type": "markdown",
   "id": "5ef87208",
   "metadata": {},
   "source": [
    "# Run Time"
   ]
  },
  {
   "cell_type": "code",
   "execution_count": null,
   "id": "5f1891bf",
   "metadata": {},
   "outputs": [],
   "source": [
    "run_time_start = time()\n",
    "\n",
    "\n",
    "from petrofit.photometry import make_radius_list\n",
    "from petrofit.photometry import source_photometry\n",
    "\n",
    "max_pix = 70\n",
    "\n",
    "r_list = make_radius_list(\n",
    "    max_pix=max_pix, # Max pixel to go up to\n",
    "    n=max_pix # the number of radii to produce \n",
    ")\n",
    "\n",
    "print(\"len(r_list) = {}\".format(len(r_list)))\n",
    "\n",
    "\n",
    "# Photomerty \n",
    "flux_arr, area_arr, error_arr = source_photometry(\n",
    "    \n",
    "    # Inputs \n",
    "    source, # Source (`photutils.segmentation.catalog.SourceCatalog`)\n",
    "    image, # Image as 2D array \n",
    "    segm_deblend, # Deblended segmentation map of image\n",
    "    r_list, # list of aperture radii\n",
    "    \n",
    "    error=rms,\n",
    "    \n",
    "    # Options \n",
    "    cutout_size=max(r_list)*2, # Cutout out size, set to double the max radius  \n",
    "    bkg_sub=True, # Subtract background  \n",
    "    sigma=3, sigma_type='clip', # Fit a 2D plane to pixels within 1 sigma of the mean\n",
    "    plot=False, vmax=vmax, vmin=vmin, # Show plot with max and min defined above\n",
    ")\n",
    "\n",
    "from petrofit.petrosian import Petrosian, PetrosianCorrection\n",
    "\n",
    "p = Petrosian(r_list, area_arr, flux_arr)\n",
    "\n",
    "pc = PetrosianCorrection(\"../example_correction_gid.yaml\")\n",
    "\n",
    "corrected_epsilon = pc.estimate_epsilon(\n",
    "    p.r_half_light,\n",
    "    p.concentration_index()[-1]\n",
    "\n",
    ")\n",
    "\n",
    "corrected_p = Petrosian(r_list, area_arr, flux_arr, uncertainties=error_arr,\n",
    "                        epsilon=corrected_epsilon)\n",
    "\n",
    "\n",
    "from petrofit import segmentation \n",
    "\n",
    "image_x_0, image_y_0 = segmentation.get_source_position(source)\n",
    "ellip = segmentation.get_source_ellip(source)\n",
    "elong = segmentation.get_source_elong(source)\n",
    "theta = segmentation.get_source_theta(source)\n",
    "n = pc.estimate_n(\n",
    "    p.r_half_light,\n",
    "    p.concentration_index()[-1]\n",
    ")\n",
    "r_eff = corrected_p.r_half_light\n",
    "\n",
    "from photutils.isophote import EllipseGeometry, Ellipse\n",
    "\n",
    "# Define EllipseGeometry using ellip and theta\n",
    "g = EllipseGeometry(image_x_0, image_y_0, 1., ellip, theta)\n",
    "\n",
    "# Create Ellipse model \n",
    "ellipse = Ellipse(image, geometry=g)\n",
    "\n",
    "# Fit isophote at r_eff\n",
    "iso = ellipse.fit_isophote(r_eff)\n",
    "\n",
    "# Get flux at r_eff\n",
    "amplitude = iso.intens\n",
    "\n",
    "\n",
    "from astropy.nddata import Cutout2D\n",
    "from petrofit.segmentation import masked_segm_image\n",
    "\n",
    "# Define cutout size \n",
    "cutout_size = 150 #max(r_list)*2\n",
    "\n",
    "# Make an image with all sources masked except `source`\n",
    "masked_image = masked_segm_image(source, image, segm_deblend, fill=None, mask_background=False)\n",
    "\n",
    "# Make cutouts \n",
    "fitting_image = Cutout2D(masked_image, (image_x_0, image_y_0), cutout_size, mode='partial', copy=True)\n",
    "fitting_image_unmasked = Cutout2D(image.data, (image_x_0, image_y_0), cutout_size, mode='partial', copy=True)\n",
    "\n",
    "# Define new center \n",
    "x_0 = y_0 = cutout_size / 2\n",
    "\n",
    "from astropy.modeling import models \n",
    "\n",
    "center_slack = 4\n",
    "\n",
    "sersic_model = models.Sersic2D(\n",
    "    \n",
    "        amplitude=amplitude,\n",
    "        r_eff=r_eff,\n",
    "        n=n,\n",
    "        x_0=x_0,\n",
    "        y_0=y_0,\n",
    "        ellip=ellip, \n",
    "        theta=theta,\n",
    "    \n",
    "        bounds = {\n",
    "            'amplitude': (0., None),\n",
    "            'r_eff': (0, None),\n",
    "            'n': (0, 10),\n",
    "            'ellip': (0, 1),\n",
    "            'theta': (-2*np.pi, 2*np.pi),\n",
    "            'x_0': (x_0 - center_slack/2, x_0 + center_slack/2),\n",
    "            'y_0': (y_0 - center_slack/2, y_0 + center_slack/2),\n",
    "        },\n",
    ")\n",
    "\n",
    "from petrofit.models import PSFModel\n",
    "\n",
    "oversample = ('x_0', 'y_0', 20, 5)\n",
    "psf_sersic_model = PSFModel.wrap(sersic_model, psf=PSF, oversample=oversample)\n",
    "\n",
    "# Limit PSF rotation to -5 to 5 degrees\n",
    "psf_sersic_model.bounds['psf_pa'] = (-5, 5)\n",
    "\n",
    "# To disable the PSF rotation, \n",
    "# you can set the psf_pa to fixed.\n",
    "psf_sersic_model.fixed['psf_pa'] = True\n",
    "\n",
    "from petrofit.fitting import fit_model\n",
    "fitted_model, fit_info = fit_model(\n",
    "    fitting_image.data, psf_sersic_model,\n",
    "    maxiter=10000,\n",
    "    epsilon=1.4901161193847656e-08,\n",
    "    acc=1e-09,\n",
    ")\n",
    "run_time_end = time()\n",
    "run_time_end"
   ]
  },
  {
   "cell_type": "code",
   "execution_count": null,
   "id": "f622432a",
   "metadata": {},
   "outputs": [],
   "source": [
    "run_time = run_time_end - run_time_start\n",
    "run_time"
   ]
  },
  {
   "cell_type": "code",
   "execution_count": null,
   "id": "b84c00e3",
   "metadata": {},
   "outputs": [],
   "source": [
    "total_time = load_time + run_time \n",
    "total_time"
   ]
  },
  {
   "cell_type": "code",
   "execution_count": null,
   "id": "ec556002",
   "metadata": {},
   "outputs": [],
   "source": [
    "from astropy.table import Table\n",
    "rows = ['amplitude', 'r_eff', 'n', 'x_0', 'y_0', 'ellip', 'theta', 'r_petro', 'r_20', 'r_80', 'C2080', 'Total Flux']\n",
    "rows"
   ]
  },
  {
   "cell_type": "code",
   "execution_count": null,
   "id": "dd0b7b38",
   "metadata": {},
   "outputs": [],
   "source": [
    "from petrofit.fitting import print_model_params\n",
    "\n",
    "print_model_params(fitted_model)\n",
    "print('{:0.3f} r_petro'.format(corrected_p.r_petrosian))\n",
    "print('{:0.3f} r_20'.format(corrected_p.fraction_flux_to_r(0.2)))\n",
    "print('{:0.3f} r_80'.format(corrected_p.fraction_flux_to_r(0.8)))\n",
    "print('{:0.3f} C2080'.format(corrected_p.c2080))\n",
    "print('{:0.3f} Total Flux'.format(corrected_p.total_flux))"
   ]
  },
  {
   "cell_type": "code",
   "execution_count": null,
   "id": "1f796f3a",
   "metadata": {},
   "outputs": [],
   "source": [
    "from petrofit.photometry import flux_to_abmag\n",
    "flux_to_abmag(float(corrected_p.total_flux), header)"
   ]
  }
 ],
 "metadata": {
  "kernelspec": {
   "display_name": "Python 3 (ipykernel)",
   "language": "python",
   "name": "python3"
  },
  "language_info": {
   "codemirror_mode": {
    "name": "ipython",
    "version": 3
   },
   "file_extension": ".py",
   "mimetype": "text/x-python",
   "name": "python",
   "nbconvert_exporter": "python",
   "pygments_lexer": "ipython3",
   "version": "3.7.11"
  }
 },
 "nbformat": 4,
 "nbformat_minor": 5
}
