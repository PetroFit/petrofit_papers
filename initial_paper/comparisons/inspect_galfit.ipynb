{
 "cells": [
  {
   "cell_type": "code",
   "execution_count": null,
   "id": "d7ebf794",
   "metadata": {},
   "outputs": [],
   "source": [
    "import os \n",
    "from astropy.io import fits \n",
    "import time "
   ]
  },
  {
   "cell_type": "code",
   "execution_count": null,
   "id": "c2b94f0b",
   "metadata": {},
   "outputs": [],
   "source": [
    "from matplotlib import pyplot as plt "
   ]
  },
  {
   "cell_type": "code",
   "execution_count": null,
   "id": "a1b8c455",
   "metadata": {},
   "outputs": [],
   "source": [
    "%%time\n",
    "start = time.time()\n",
    "os.system('./galfit galfit galfit_abell2744_fit.feedme')\n",
    "galfit_time = time.time() - start\n"
   ]
  },
  {
   "cell_type": "code",
   "execution_count": null,
   "id": "49f0ff84",
   "metadata": {},
   "outputs": [],
   "source": [
    "galfit_time"
   ]
  },
  {
   "cell_type": "code",
   "execution_count": null,
   "id": "6d326767",
   "metadata": {},
   "outputs": [],
   "source": [
    "hdul = fits.open('galfit_bg_subtracted_abell2744_test_image.fits')"
   ]
  },
  {
   "cell_type": "code",
   "execution_count": null,
   "id": "b47ef54b",
   "metadata": {},
   "outputs": [],
   "source": [
    "for hdu in hdul[1:]:\n",
    "    data = hdu.data\n",
    "    plt.imshow(data, vmax=0.05)\n",
    "    plt.show()"
   ]
  },
  {
   "cell_type": "code",
   "execution_count": null,
   "id": "183d83e6",
   "metadata": {},
   "outputs": [],
   "source": []
  }
 ],
 "metadata": {
  "kernelspec": {
   "display_name": "Python 3 (ipykernel)",
   "language": "python",
   "name": "python3"
  },
  "language_info": {
   "codemirror_mode": {
    "name": "ipython",
    "version": 3
   },
   "file_extension": ".py",
   "mimetype": "text/x-python",
   "name": "python",
   "nbconvert_exporter": "python",
   "pygments_lexer": "ipython3",
   "version": "3.7.11"
  }
 },
 "nbformat": 4,
 "nbformat_minor": 5
}
