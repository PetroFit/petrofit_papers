{
 "cells": [
  {
   "cell_type": "code",
   "execution_count": null,
   "id": "f1bedfcd",
   "metadata": {},
   "outputs": [],
   "source": [
    "%matplotlib inline\n",
    "\n",
    "from matplotlib import pyplot as plt\n",
    "\n",
    "plt.rcParams['figure.figsize'] = [10, 10]\n",
    "plt.rcParams['image.origin'] = 'lower'\n",
    "#plt.rcParams.update({'font.size': 17})\n",
    "\n",
    "SMALL_SIZE = 15\n",
    "MEDIUM_SIZE = 18\n",
    "BIGGER_SIZE = 20\n",
    "\n",
    "#plt.rc('font', size=SMALL_SIZE)          # controls default text sizes\n",
    "plt.rc('axes', titlesize=BIGGER_SIZE)     # fontsize of the axes title\n",
    "plt.rc('axes', labelsize=BIGGER_SIZE)    # fontsize of the x and y labels\n",
    "plt.rc('xtick', labelsize=BIGGER_SIZE)    # fontsize of the tick labels\n",
    "plt.rc('ytick', labelsize=BIGGER_SIZE)    # fontsize of the tick labels\n",
    "plt.rc('legend', fontsize=SMALL_SIZE)    # legend fontsize\n",
    "plt.rc('figure', titlesize=BIGGER_SIZE)  # fontsize of the figure title\n",
    "\n",
    "def savefig(filename):\n",
    "    plt.savefig(\"plots/\"+filename, dpi=70, bbox_inches = 'tight', pad_inches = 0.1)"
   ]
  },
  {
   "cell_type": "code",
   "execution_count": null,
   "id": "79c75e42",
   "metadata": {},
   "outputs": [],
   "source": [
    "from time import time "
   ]
  },
  {
   "cell_type": "markdown",
   "id": "c87f95b8",
   "metadata": {},
   "source": [
    "# Load Time"
   ]
  },
  {
   "cell_type": "code",
   "execution_count": null,
   "id": "61dd85a2",
   "metadata": {},
   "outputs": [],
   "source": [
    "%%time\n",
    "t_load_start = time()\n",
    "\n",
    "from astropy.io import fits \n",
    "\n",
    "image = fits.getdata('./bg_subtracted_abell2744_test_image.fits')\n",
    "header = fits.getheader('./bg_subtracted_abell2744_test_image.fits')\n",
    "rms =  fits.getdata('./bg_subtracted_abell2744_test_rms.fits')\n",
    "\n",
    "# Load PSF image (2D array)\n",
    "PSF = fits.getdata('f105w_psf.fits.gz')\n",
    "\n",
    "# Normalize PSF \n",
    "PSF = PSF / PSF.sum()\n",
    "\n",
    "t_load_end = time()\n"
   ]
  },
  {
   "cell_type": "code",
   "execution_count": null,
   "id": "c1ac9322",
   "metadata": {},
   "outputs": [],
   "source": [
    "load_time = t_load_end - t_load_start # Seconds\n",
    "load_time"
   ]
  },
  {
   "cell_type": "code",
   "execution_count": null,
   "id": "dbd60383",
   "metadata": {},
   "outputs": [],
   "source": [
    "# Note that the PSF shape is odd on all sides\n",
    "print(\"PSF Shape = {}\".format(PSF.shape))\n",
    "\n",
    "# Plot PSF and use vmax and vmin to show difraction spikes\n",
    "plt.imshow(PSF, vmin=0, vmax=PSF.std()/10)\n",
    "plt.show()"
   ]
  },
  {
   "cell_type": "code",
   "execution_count": null,
   "id": "ffb27660",
   "metadata": {
    "scrolled": false
   },
   "outputs": [],
   "source": [
    "import numpy as np\n",
    "\n",
    "\n",
    "vmax = 0.05 # Use the image std as max and min of all plots \n",
    "vmin = - vmax \n",
    "\n",
    "plt.imshow(image, vmin=vmin, vmax=vmax)\n",
    "plt.title(\"Galaxy in Abell 2744\")\n",
    "plt.xlabel(\"Pixels\")\n",
    "plt.ylabel(\"Pixels\")\n",
    "plt.show()"
   ]
  },
  {
   "cell_type": "markdown",
   "id": "2b76dbf6",
   "metadata": {},
   "source": [
    "## Make Source Catalog \n",
    "\n",
    "We will use the sigma clipped std as a threshold at the segmentation and deblending steps.\n"
   ]
  },
  {
   "cell_type": "code",
   "execution_count": null,
   "id": "b5d8bba9",
   "metadata": {},
   "outputs": [],
   "source": [
    "from astropy.stats import sigma_clipped_stats\n",
    "image_mean, image_median, image_stddev = sigma_clipped_stats(image.data, sigma=3)"
   ]
  },
  {
   "cell_type": "markdown",
   "id": "14f99306",
   "metadata": {},
   "source": [
    "Here we identity sources in the input image."
   ]
  },
  {
   "cell_type": "code",
   "execution_count": null,
   "id": "648a41a2",
   "metadata": {},
   "outputs": [],
   "source": [
    "from petrofit.segmentation import make_catalog, plot_segments\n",
    "\n",
    "threshold = image_stddev * 2\n",
    "\n",
    "# Define smoothing kernel\n",
    "kernel_size = 3\n",
    "fwhm = 3\n",
    "\n",
    "# Min Source size (area)\n",
    "npixels = 2**2\n",
    "\n",
    "\n",
    "cat, segm, segm_deblend = make_catalog(    \n",
    "    image, \n",
    "    threshold=threshold, \n",
    "    deblend=True,                 \n",
    "    kernel_size=kernel_size,                  \n",
    "    fwhm=fwhm, \n",
    "    npixels=npixels,\n",
    "    contrast=0.00,\n",
    "    plot=True, vmax=vmax, vmin=vmin\n",
    ")\n",
    "\n",
    "plt.show()\n",
    "\n",
    "# Display source properties\n",
    "print(\"Num of Targets:\", len(cat))"
   ]
  },
  {
   "cell_type": "code",
   "execution_count": null,
   "id": "c287e03c",
   "metadata": {
    "scrolled": false
   },
   "outputs": [],
   "source": [
    "from petrofit.photometry import order_cat\n",
    "from petrofit.utils import plot_target\n",
    "# Sort and select object of interest in the catalog\n",
    "sorted_idx_list = order_cat(cat, key='area', reverse=True)\n",
    "idx = sorted_idx_list[2] # index 0 is largest \n",
    "source = cat[idx]  # get source from the catalog \n",
    "\n",
    "plot_target(\n",
    "    position=(source.maxval_xindex, source.maxval_yindex), \n",
    "    image=image, \n",
    "    size=max(image.data.shape)//2, \n",
    "    vmax=vmax, \n",
    "    vmin=vmin\n",
    ")"
   ]
  },
  {
   "cell_type": "code",
   "execution_count": null,
   "id": "4fd9e7e3",
   "metadata": {},
   "outputs": [],
   "source": [
    "source.label"
   ]
  },
  {
   "cell_type": "markdown",
   "id": "3901242f",
   "metadata": {},
   "source": [
    "# StatMorph"
   ]
  },
  {
   "cell_type": "code",
   "execution_count": null,
   "id": "97540810",
   "metadata": {},
   "outputs": [],
   "source": [
    "header['BUNIT']"
   ]
  },
  {
   "cell_type": "code",
   "execution_count": null,
   "id": "3eed1ec1",
   "metadata": {},
   "outputs": [],
   "source": [
    "header['EXPTIME']"
   ]
  },
  {
   "cell_type": "markdown",
   "id": "5816ee1f",
   "metadata": {},
   "source": [
    "# Run Time"
   ]
  },
  {
   "cell_type": "code",
   "execution_count": null,
   "id": "5f1891bf",
   "metadata": {},
   "outputs": [],
   "source": [
    "run_time_start = time()\n",
    "import statmorph\n",
    "\n",
    "gain = header['EXPTIME']\n",
    "\n",
    "source_morphs = statmorph.SourceMorphology(\n",
    "    image, segm_deblend, label=5, gain=gain, psf=PSF, weightmap=rms)\n",
    "\n",
    "run_time_end = time()"
   ]
  },
  {
   "cell_type": "code",
   "execution_count": null,
   "id": "f622432a",
   "metadata": {},
   "outputs": [],
   "source": [
    "run_time = run_time_end - run_time_start\n",
    "run_time"
   ]
  },
  {
   "cell_type": "code",
   "execution_count": null,
   "id": "b84c00e3",
   "metadata": {},
   "outputs": [],
   "source": [
    "total_time = load_time + run_time \n",
    "total_time"
   ]
  },
  {
   "cell_type": "code",
   "execution_count": null,
   "id": "a465517c",
   "metadata": {},
   "outputs": [],
   "source": [
    "morph = source_morphs"
   ]
  },
  {
   "cell_type": "code",
   "execution_count": null,
   "id": "a0ec1f67",
   "metadata": {},
   "outputs": [],
   "source": [
    "morph.label"
   ]
  },
  {
   "cell_type": "code",
   "execution_count": null,
   "id": "ec556002",
   "metadata": {},
   "outputs": [],
   "source": [
    "from astropy.table import Table\n",
    "rows = ['amplitude', 'r_eff', 'n', 'x_0', 'y_0', 'ellip', 'theta', 'r_petro', 'r_20', 'r_80', 'C2080', 'Total Flux']\n",
    "\n",
    "sm_results = [morph.sersic_amplitude,  morph.sersic_rhalf,  morph.sersic_n,  morph.sersic_xc, morph.sersic_yc,  morph.sersic_ellip, morph.sersic_theta, morph.rpetro_ellip, morph.r20, morph.r80, morph.concentration, morph.flux_ellip,]\n",
    "\n",
    "sm_results = [float('{:0.3f}'.format(i)) for i in sm_results]\n",
    "\n",
    "t = Table(data=[rows, sm_results], names=['Values', 'statmorph'])\n",
    "t"
   ]
  },
  {
   "cell_type": "code",
   "execution_count": null,
   "id": "5330767b",
   "metadata": {},
   "outputs": [],
   "source": [
    "t.write('statmorph_abell2744.csv', overwrite=True)"
   ]
  },
  {
   "cell_type": "code",
   "execution_count": null,
   "id": "1f796f3a",
   "metadata": {},
   "outputs": [],
   "source": [
    "from petrofit.photometry import flux_to_abmag\n",
    "flux_to_abmag(float(morph.flux_ellip), header)"
   ]
  },
  {
   "cell_type": "code",
   "execution_count": null,
   "id": "7c6b9532",
   "metadata": {},
   "outputs": [],
   "source": [
    "# snp = 100.0\n",
    "# from astropy.visualization import simple_norm\n",
    "# ny, nx = image.data.shape\n",
    "# y, x = np.mgrid[0:ny, 0:nx]\n",
    "# fitted_model = statmorph.ConvolvedSersic2D(\n",
    "#     amplitude=morph.sersic_amplitude,\n",
    "#     r_eff=morph.sersic_rhalf,\n",
    "#     n=morph.sersic_n,\n",
    "#     x_0=morph.sersic_xc,\n",
    "#     y_0=morph.sersic_yc,\n",
    "#     ellip=morph.sersic_ellip,\n",
    "#     theta=morph.sersic_theta)\n",
    "# fitted_model.set_psf(PSF)  # required when using ConvolvedSersic2D\n",
    "# image_model = fitted_model(x, y)\n",
    "\n",
    "# fig = plt.figure(figsize=(15,5))\n",
    "\n",
    "# ax = fig.add_subplot(131)\n",
    "# ax.imshow(image.data, cmap='gray', origin='lower', vmax=0.05)\n",
    "#            #norm=simple_norm(image.data, stretch='log', log_a=10000))\n",
    "# ax.set_title('Original image')\n",
    "\n",
    "# ax = fig.add_subplot(132)\n",
    "# ax.imshow(image_model, cmap='gray', origin='lower', vmax=0.05)\n",
    "#           # norm=simple_norm(image.data, stretch='log', log_a=10000))\n",
    "# ax.set_title('Fitted model')\n",
    "\n",
    "# ax = fig.add_subplot(133)\n",
    "# residual = image.data - image_model\n",
    "# ax.imshow(residual, cmap='gray', origin='lower', vmax=0.05)\n",
    "#          #  norm=simple_norm(residual, stretch='linear'))\n",
    "# ax.set_title('Residual')\n",
    "\n"
   ]
  },
  {
   "cell_type": "code",
   "execution_count": null,
   "id": "1aa88718",
   "metadata": {},
   "outputs": [],
   "source": []
  }
 ],
 "metadata": {
  "kernelspec": {
   "display_name": "Python 3 (ipykernel)",
   "language": "python",
   "name": "python3"
  },
  "language_info": {
   "codemirror_mode": {
    "name": "ipython",
    "version": 3
   },
   "file_extension": ".py",
   "mimetype": "text/x-python",
   "name": "python",
   "nbconvert_exporter": "python",
   "pygments_lexer": "ipython3",
   "version": "3.7.11"
  }
 },
 "nbformat": 4,
 "nbformat_minor": 5
}
