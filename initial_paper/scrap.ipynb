{
 "cells": [
  {
   "cell_type": "code",
   "execution_count": 1,
   "id": "a0ef0482",
   "metadata": {},
   "outputs": [],
   "source": [
    "from astropy.table import Table \n",
    "import numpy as np "
   ]
  },
  {
   "cell_type": "code",
   "execution_count": 2,
   "id": "f9809ea3",
   "metadata": {},
   "outputs": [],
   "source": [
    "t = Table.read('pure_grid_fine.csv')"
   ]
  },
  {
   "cell_type": "code",
   "execution_count": 3,
   "id": "68301477",
   "metadata": {},
   "outputs": [
    {
     "data": {
      "text/html": [
       "<i>Table length=1982</i>\n",
       "<table id=\"table140543611717760\" class=\"table-striped table-bordered table-condensed\">\n",
       "<thead><tr><th>sersic_n</th><th>sersic_r_eff</th><th>sersic_amplitude</th><th>sersic_total_flux_99</th><th>sersic_r_99</th><th>sersic_r_20</th><th>sersic_r_80</th><th>sersic_c2080</th><th>corr_eta</th><th>corr_epsilon</th><th>corr_r_petrosian</th><th>corr_r_half_light</th><th>corr_r_total_flux</th><th>corr_total_flux</th><th>corr_r_20</th><th>corr_r_80</th><th>corr_c2080</th><th>uncorr_eta</th><th>uncorr_epsilon</th><th>uncorr_r_petrosian</th><th>uncorr_r_half_light</th><th>uncorr_r_total_flux</th><th>uncorr_total_flux</th><th>uncorr_r_20</th><th>uncorr_r_80</th><th>uncorr_c2080</th></tr></thead>\n",
       "<thead><tr><th>float64</th><th>int64</th><th>int64</th><th>float64</th><th>float64</th><th>float64</th><th>float64</th><th>float64</th><th>float64</th><th>float64</th><th>float64</th><th>float64</th><th>float64</th><th>float64</th><th>float64</th><th>float64</th><th>float64</th><th>float64</th><th>int64</th><th>float64</th><th>float64</th><th>float64</th><th>float64</th><th>float64</th><th>float64</th><th>float64</th></tr></thead>\n",
       "<tr><td>0.2</td><td>50</td><td>1</td><td>17438.474698863196</td><td>91.63822310693398</td><td>30.88994167338108</td><td>66.8579827657041</td><td>1.676680903439508</td><td>0.2</td><td>1.0794390566496688</td><td>84.8943</td><td>49.72220000000001</td><td>91.63822310693398</td><td>17264.089951870064</td><td>30.8899</td><td>66.858</td><td>1.6766843927086539</td><td>0.2</td><td>2</td><td>84.8943</td><td>50.00000000000001</td><td>169.7886</td><td>17438.474698863196</td><td>31.047</td><td>67.39670000000001</td><td>1.6830949533623558</td></tr>\n",
       "<tr><td>0.21000000000000002</td><td>50</td><td>1</td><td>17612.13423326376</td><td>92.84891346191357</td><td>30.814138624392225</td><td>67.14956531076778</td><td>1.691465868113927</td><td>0.2</td><td>1.0862126411819626</td><td>85.4795</td><td>49.719500000000004</td><td>92.84891346191357</td><td>17436.0128909284</td><td>30.8141</td><td>67.1496</td><td>1.6914697117514443</td><td>0.2</td><td>2</td><td>85.4795</td><td>50.00000000000001</td><td>170.959</td><td>17612.13423326376</td><td>30.9712</td><td>67.70200000000001</td><td>1.698217328753108</td></tr>\n",
       "<tr><td>0.22000000000000003</td><td>50</td><td>1</td><td>17787.679337895373</td><td>94.06154469555015</td><td>30.73559980036752</td><td>67.44117909746507</td><td>1.706417309380256</td><td>0.2</td><td>1.093084312249643</td><td>86.0515</td><td>49.7167</td><td>94.06154469555015</td><td>17609.802544511065</td><td>30.7356</td><td>67.44120000000001</td><td>1.706417968296333</td><td>0.2</td><td>2</td><td>86.0515</td><td>50.00000000000001</td><td>172.103</td><td>17787.679337895373</td><td>30.8926</td><td>68.00720000000001</td><td>1.7135021661137295</td></tr>\n",
       "<tr><td>0.23000000000000004</td><td>50</td><td>1</td><td>17964.671384867328</td><td>95.27603264141473</td><td>30.654656987925723</td><td>67.73257955282403</td><td>1.7215057741369377</td><td>0.2</td><td>1.1000479459999761</td><td>86.6108</td><td>49.7139</td><td>95.27603264141473</td><td>17785.024671014227</td><td>30.654700000000002</td><td>67.7326</td><td>1.721503382835015</td><td>0.2</td><td>2</td><td>86.6108</td><td>50.00000000000001</td><td>173.2216</td><td>17964.671384867328</td><td>30.811600000000002</td><td>68.31230000000001</td><td>1.728923283186767</td></tr>\n",
       "<tr><td>0.24000000000000005</td><td>50</td><td>1</td><td>18142.739258968177</td><td>96.49232980708376</td><td>30.571613887392424</td><td>68.02357030137736</td><td>1.7367052838650463</td><td>0.2</td><td>1.1071017307393016</td><td>87.1576</td><td>49.71110000000001</td><td>96.49232980708376</td><td>17961.311866374566</td><td>30.5716</td><td>68.0236</td><td>1.7367072183231356</td><td>0.2</td><td>2</td><td>87.1576</td><td>50.00000000000001</td><td>174.3152</td><td>18142.739258968177</td><td>30.7285</td><td>68.61680000000001</td><td>1.7444454983168205</td></tr>\n",
       "<tr><td>0.25000000000000006</td><td>50</td><td>1</td><td>18321.568667379608</td><td>97.71041704871264</td><td>30.48674702166199</td><td>68.31399385678677</td><td>1.7519929466186919</td><td>0.2</td><td>1.1142404250392581</td><td>87.6924</td><td>49.70830000000001</td><td>97.71041704871264</td><td>18138.35298070333</td><td>30.486700000000003</td><td>68.31400000000001</td><td>1.7519964910943167</td><td>0.2</td><td>2</td><td>87.6924</td><td>50.00000000000001</td><td>175.3848</td><td>18321.568667379604</td><td>30.643600000000003</td><td>68.9208</td><td>1.7600526257996465</td></tr>\n",
       "<tr><td>0.26000000000000006</td><td>50</td><td>1</td><td>18500.893190373583</td><td>98.93029711712362</td><td>30.400307141002138</td><td>68.6037242447284</td><td>1.7673486059924584</td><td>0.2</td><td>1.1214641577722189</td><td>88.2153</td><td>49.70550000000001</td><td>98.93029711712362</td><td>18315.88425846939</td><td>30.4003</td><td>68.6037</td><td>1.7673483486653063</td><td>0.2</td><td>2</td><td>88.2153</td><td>50.00000000000001</td><td>176.4306</td><td>18500.89319037353</td><td>30.5572</td><td>69.224</td><td>1.775715670027854</td></tr>\n",
       "<tr><td>0.2700000000000001</td><td>50</td><td>1</td><td>18680.48680268622</td><td>100.1519896338712</td><td>30.312520905252917</td><td>68.89266112520717</td><td>1.7827545258057174</td><td>0.2</td><td>1.1287669199968802</td><td>88.7269</td><td>49.70270000000001</td><td>100.15198963387118</td><td>18493.681934657925</td><td>30.3125</td><td>68.8927</td><td>1.7827572486975762</td><td>0.2</td><td>2</td><td>88.7269</td><td>50.00000000000001</td><td>177.4538</td><td>18680.4868026853</td><td>30.4694</td><td>69.52640000000001</td><td>1.7914292022584042</td></tr>\n",
       "<tr><td>0.2800000000000001</td><td>50</td><td>1</td><td>18860.15762592694</td><td>101.37552716573907</td><td>30.223592692744838</td><td>69.18072508532416</td><td>1.7981951084713177</td><td>0.2</td><td>1.136147945202248</td><td>89.2274</td><td>49.6998</td><td>101.37552716573907</td><td>18671.556049664803</td><td>30.2236</td><td>69.1807</td><td>1.7981937960791348</td><td>0.2</td><td>2</td><td>89.2274</td><td>50.00000000000001</td><td>178.4548</td><td>18860.157625916738</td><td>30.3805</td><td>69.8279</td><td>1.8071703205997582</td></tr>\n",
       "<tr><td>0.2900000000000001</td><td>50</td><td>1</td><td>19039.742705968514</td><td>102.60095214736818</td><td>30.13370643452733</td><td>69.46785385068219</td><td>1.8136566445627094</td><td>0.2</td><td>1.1436065867936753</td><td>89.717</td><td>49.697</td><td>102.60095214736816</td><td>18849.34527890542</td><td>30.1337</td><td>69.4679</td><td>1.8136585508084218</td><td>0.2</td><td>2</td><td>89.717</td><td>50.00000000000001</td><td>179.434</td><td>19039.74270588785</td><td>30.2907</td><td>70.12840000000001</td><td>1.8229231036040052</td></tr>\n",
       "<tr><td>...</td><td>...</td><td>...</td><td>...</td><td>...</td><td>...</td><td>...</td><td>...</td><td>...</td><td>...</td><td>...</td><td>...</td><td>...</td><td>...</td><td>...</td><td>...</td><td>...</td><td>...</td><td>...</td><td>...</td><td>...</td><td>...</td><td>...</td><td>...</td><td>...</td><td>...</td></tr>\n",
       "<tr><td>19.920000000000016</td><td>50</td><td>1</td><td>124696.72620507462</td><td>51666.93950194798</td><td>3.1969256796321526</td><td>622.4834916633899</td><td>11.446976491144266</td><td>0.2</td><td>11111.169785365155</td><td>4.65</td><td>48.05099402988424</td><td>51666.93950194797</td><td>123449.75740546588</td><td>3.1978207034790898</td><td>622.4850034173907</td><td>11.446373915897734</td><td>0.2</td><td>2</td><td>4.65</td><td>1.7159501335741456</td><td>9.3</td><td>37437.26997883478</td><td>0.2978921719426203</td><td>5.126379531297964</td><td>6.178758325531941</td></tr>\n",
       "<tr><td>19.930000000000017</td><td>50</td><td>1</td><td>124727.8030402216</td><td>51761.62642693216</td><td>3.1947863639779457</td><td>622.8831541731347</td><td>11.449823817341294</td><td>0.2</td><td>11154.561336723595</td><td>4.6404</td><td>48.05247260571031</td><td>51761.62642693216</td><td>123480.52351873743</td><td>3.1936559994933744</td><td>622.8854557234076</td><td>11.450600277147235</td><td>0.2</td><td>2</td><td>4.6404</td><td>1.7104266575064515</td><td>9.2808</td><td>37424.583181099544</td><td>0.2910684355093963</td><td>5.116886390299384</td><td>6.225053314604743</td></tr>\n",
       "<tr><td>19.940000000000015</td><td>50</td><td>1</td><td>124758.87213525955</td><td>51856.46334409712</td><td>3.192649011211094</td><td>623.282973666825</td><td>11.45267043511459</td><td>0.2</td><td>11198.165186165916</td><td>4.6308</td><td>48.05330063506684</td><td>51856.46334409712</td><td>123511.28197053407</td><td>3.19512663796987</td><td>623.2858965351621</td><td>11.450996119911302</td><td>0.2</td><td>2</td><td>4.6308</td><td>1.7041142069172637</td><td>9.2616</td><td>37411.841866800714</td><td>0.29120242701503257</td><td>5.105042561556303</td><td>6.219021884772134</td></tr>\n",
       "<tr><td>19.950000000000017</td><td>50</td><td>1</td><td>124789.93349596795</td><td>51951.45045963125</td><td>3.190513618911648</td><td>623.6829501918219</td><td>11.455516344992587</td><td>0.2</td><td>11241.982701383027</td><td>4.6212</td><td>48.05477928514694</td><td>51951.45045963125</td><td>123542.03276657274</td><td>3.1909534455828124</td><td>623.6804769215884</td><td>11.45520840718865</td><td>0.2</td><td>2</td><td>4.6212</td><td>1.7056786791533962</td><td>9.2424</td><td>37399.04585151149</td><td>0.2914696910220385</td><td>5.095516303970771</td><td>6.212973974719652</td></tr>\n",
       "<tr><td>19.96000000000002</td><td>50</td><td>1</td><td>124820.98712811955</td><td>52046.587979973614</td><td>3.188380184663557</td><td>624.0830837954875</td><td>11.458361547503042</td><td>0.2</td><td>11286.015261508719</td><td>4.6116</td><td>48.04912522835816</td><td>52046.587979973614</td><td>123572.775912564</td><td>3.1867711032278985</td><td>624.0826057676476</td><td>11.459456038921143</td><td>0.2</td><td>2</td><td>4.6116</td><td>1.7001321287309548</td><td>9.2232</td><td>37386.19494973754</td><td>0.29173731078648174</td><td>5.085970175910597</td><td>6.206909169028219</td></tr>\n",
       "<tr><td>19.970000000000017</td><td>50</td><td>1</td><td>124852.03303747956</td><td>52141.87611180241</td><td>3.186248706054663</td><td>624.4833745251891</td><td>11.461206043173037</td><td>0.2</td><td>11330.018059538561</td><td>4.6021</td><td>48.050558013345906</td><td>52141.87611180241</td><td>123603.51141421088</td><td>3.189699228030666</td><td>624.4851827862808</td><td>11.45886202501111</td><td>0.2</td><td>2</td><td>4.6021</td><td>1.6945745898912912</td><td>9.2042</td><td>37373.57794910227</td><td>0.2920052864938779</td><td>5.076404128539877</td><td>6.20082737304644</td></tr>\n",
       "<tr><td>19.980000000000018</td><td>50</td><td>1</td><td>124883.07122980616</td><td>52237.31506205163</td><td>3.1841191806766247</td><td>624.8838224283072</td><td>11.46404983252906</td><td>0.2</td><td>11374.23574055037</td><td>4.5926</td><td>48.051970936647486</td><td>52237.31506205163</td><td>123634.23927720926</td><td>3.18550505838372</td><td>624.8810815649924</td><td>11.463095387192041</td><td>0.2</td><td>2</td><td>4.5926</td><td>1.6890060376665361</td><td>9.1852</td><td>37360.906722466454</td><td>0.2922736183304978</td><td>5.0668181129996075</td><td>6.194728491325316</td></tr>\n",
       "<tr><td>19.990000000000016</td><td>50</td><td>1</td><td>124914.10171085047</td><td>52332.90503790114</td><td>3.181991606124992</td><td>625.2844275522176</td><td>11.466892916096885</td><td>0.2</td><td>11418.918838730337</td><td>4.583</td><td>48.05336387263573</td><td>52332.90503790113</td><td>123664.95950724832</td><td>3.18130167540382</td><td>625.2845476964136</td><td>11.467364210741174</td><td>0.2</td><td>2</td><td>4.583</td><td>1.6905591862571867</td><td>9.166</td><td>37347.891081229216</td><td>0.29254230648331075</td><td>5.050079341224</td><td>6.185547600789859</td></tr>\n",
       "<tr><td>20.000000000000018</td><td>50</td><td>1</td><td>124945.12448635638</td><td>52428.64624678086</td><td>3.1798659799991627</td><td>625.6851899443102</td><td>11.46973529440167</td><td>0.2</td><td>11463.321288871099</td><td>4.5736</td><td>48.052091443282215</td><td>52428.64624678085</td><td>123695.67211000998</td><td>3.180221384928701</td><td>625.6836227295787</td><td>11.46948716932175</td><td>0.2</td><td>2</td><td>4.5736</td><td>1.6866362850408392</td><td>9.1472</td><td>37335.40085822249</td><td>0.28595360763404054</td><td>5.045416174740815</td><td>6.233007075486849</td></tr>\n",
       "<tr><td>20.010000000000016</td><td>50</td><td>1</td><td>124976.13956206062</td><td>52524.53889636348</td><td>3.177742299902357</td><td>626.0861096519712</td><td>11.472576967967896</td><td>0.2</td><td>11508.191953805457</td><td>4.5641</td><td>48.04894340818503</td><td>52524.53889636348</td><td>123726.37709116898</td><td>3.1800130453067132</td><td>626.0856763248262</td><td>11.4710243323159</td><td>0.2</td><td>2</td><td>4.5641</td><td>1.6793799228024215</td><td>9.1282</td><td>37322.56585147897</td><td>0.2859348804770079</td><td>5.030793896395339</td><td>6.2268469412821394</td></tr>\n",
       "</table>"
      ],
      "text/plain": [
       "<Table length=1982>\n",
       "      sersic_n      sersic_r_eff ...    uncorr_r_80        uncorr_c2080   \n",
       "      float64          int64     ...      float64            float64      \n",
       "------------------- ------------ ... ------------------ ------------------\n",
       "                0.2           50 ...  67.39670000000001 1.6830949533623558\n",
       "0.21000000000000002           50 ...  67.70200000000001  1.698217328753108\n",
       "0.22000000000000003           50 ...  68.00720000000001 1.7135021661137295\n",
       "0.23000000000000004           50 ...  68.31230000000001  1.728923283186767\n",
       "0.24000000000000005           50 ...  68.61680000000001 1.7444454983168205\n",
       "0.25000000000000006           50 ...            68.9208 1.7600526257996465\n",
       "0.26000000000000006           50 ...             69.224  1.775715670027854\n",
       " 0.2700000000000001           50 ...  69.52640000000001 1.7914292022584042\n",
       " 0.2800000000000001           50 ...            69.8279 1.8071703205997582\n",
       " 0.2900000000000001           50 ...  70.12840000000001 1.8229231036040052\n",
       "                ...          ... ...                ...                ...\n",
       " 19.920000000000016           50 ...  5.126379531297964  6.178758325531941\n",
       " 19.930000000000017           50 ...  5.116886390299384  6.225053314604743\n",
       " 19.940000000000015           50 ...  5.105042561556303  6.219021884772134\n",
       " 19.950000000000017           50 ...  5.095516303970771  6.212973974719652\n",
       "  19.96000000000002           50 ...  5.085970175910597  6.206909169028219\n",
       " 19.970000000000017           50 ...  5.076404128539877   6.20082737304644\n",
       " 19.980000000000018           50 ... 5.0668181129996075  6.194728491325316\n",
       " 19.990000000000016           50 ...     5.050079341224  6.185547600789859\n",
       " 20.000000000000018           50 ...  5.045416174740815  6.233007075486849\n",
       " 20.010000000000016           50 ...  5.030793896395339 6.2268469412821394"
      ]
     },
     "execution_count": 3,
     "metadata": {},
     "output_type": "execute_result"
    }
   ],
   "source": [
    "t"
   ]
  },
  {
   "cell_type": "code",
   "execution_count": 4,
   "id": "3f04d3e0",
   "metadata": {},
   "outputs": [],
   "source": [
    "%matplotlib inline\n",
    "\n",
    "from matplotlib import pyplot as plt\n",
    "\n",
    "plt.rcParams['figure.figsize'] = [10, 10]\n",
    "plt.rcParams['image.origin'] = 'lower'\n",
    "#plt.rcParams.update({'font.size': 17})\n",
    "\n",
    "\n",
    "import matplotlib.pyplot as plt\n",
    "\n",
    "SMALL_SIZE = 12\n",
    "MEDIUM_SIZE = 15\n",
    "BIGGER_SIZE = 20\n",
    "\n",
    "#plt.rc('font', size=SMALL_SIZE)          # controls default text sizes\n",
    "plt.rc('axes', titlesize=BIGGER_SIZE)     # fontsize of the axes title\n",
    "plt.rc('axes', labelsize=BIGGER_SIZE)    # fontsize of the x and y labels\n",
    "plt.rc('xtick', labelsize=MEDIUM_SIZE)    # fontsize of the tick labels\n",
    "plt.rc('ytick', labelsize=MEDIUM_SIZE)    # fontsize of the tick labels\n",
    "plt.rc('legend', fontsize=SMALL_SIZE)    # legend fontsize\n",
    "plt.rc('figure', titlesize=BIGGER_SIZE)  # fontsize of the figure title\n",
    "\n",
    "\n",
    "def savefig(filename):\n",
    "    plt.savefig(\"plots/\"+filename, dpi=70, bbox_inches = 'tight', pad_inches = 0.1)"
   ]
  },
  {
   "cell_type": "code",
   "execution_count": 23,
   "id": "03f2fd07",
   "metadata": {},
   "outputs": [
    {
     "data": {
      "text/plain": [
       "[<matplotlib.lines.Line2D at 0x7fd2d2fce310>]"
      ]
     },
     "execution_count": 23,
     "metadata": {},
     "output_type": "execute_result"
    },
    {
     "data": {
      "image/png": "[encoded data removed]",
      "text/plain": [
       "<Figure size 720x720 with 1 Axes>"
      ]
     },
     "metadata": {
      "needs_background": "light"
     },
     "output_type": "display_data"
    }
   ],
   "source": [
    "plt.plot(t['sersic_n'],t['sersic_c2080']- t['corr_c2080'])"
   ]
  },
  {
   "cell_type": "code",
   "execution_count": 21,
   "id": "aa6f94f5",
   "metadata": {},
   "outputs": [
    {
     "data": {
      "text/plain": [
       "True"
      ]
     },
     "execution_count": 21,
     "metadata": {},
     "output_type": "execute_result"
    }
   ],
   "source": [
    "np.any(100*abs(t['sersic_c2080'] - t['corr_c2080'])/t['sersic_c2080'] > 0.01)"
   ]
  },
  {
   "cell_type": "code",
   "execution_count": 2,
   "id": "73a38349",
   "metadata": {},
   "outputs": [],
   "source": [
    "import multiprocessing as mp\n",
    "import numpy as np \n",
    "from scipy.special import gammaincinv, gamma, factorial, lambertw\n",
    "\n",
    "from astropy.modeling import models \n",
    "from astropy.table import Table\n",
    "from astropy.modeling import models, fitting\n",
    "from astropy.modeling import custom_model, powerlaws, functional_models\n",
    "from astropy.utils.console import ProgressBar\n",
    "from astropy.convolution import convolve\n",
    "\n",
    "from petrofit.models import sersic_enclosed, sersic_enclosed_inv, petrosian_profile, sersic_enclosed, make_grid, PSFModel\n",
    "from petrofit.petrosian import Petrosian, PetrosianCorrection, calculate_petrosian,discrete_petrosian_r\n",
    "from petrofit.fitting import model_to_image, fit_model\n",
    "from petrofit.photometry import calculate_photometic_density,  make_radius_list\n",
    "from petrofit.petrosian import Petrosian\n",
    "from petrofit.utils import closest_value_index, get_interpolated_values\n",
    "from scipy.interpolate import interp1d\n",
    "from petrofit.petrosian import fraction_flux_to_r\n",
    "\n",
    "%matplotlib inline\n",
    "\n",
    "from matplotlib import pyplot as plt\n",
    "\n",
    "plt.rcParams['figure.figsize'] = [10, 10]\n",
    "plt.rcParams['image.origin'] = 'lower'\n",
    "#plt.rcParams.update({'font.size': 17})\n",
    "\n",
    "\n",
    "import matplotlib.pyplot as plt\n",
    "\n",
    "SMALL_SIZE = 12\n",
    "MEDIUM_SIZE = 15\n",
    "BIGGER_SIZE = 20\n",
    "\n",
    "#plt.rc('font', size=SMALL_SIZE)          # controls default text sizes\n",
    "plt.rc('axes', titlesize=BIGGER_SIZE)     # fontsize of the axes title\n",
    "plt.rc('axes', labelsize=BIGGER_SIZE)    # fontsize of the x and y labels\n",
    "plt.rc('xtick', labelsize=MEDIUM_SIZE)    # fontsize of the tick labels\n",
    "plt.rc('ytick', labelsize=MEDIUM_SIZE)    # fontsize of the tick labels\n",
    "plt.rc('legend', fontsize=SMALL_SIZE)    # legend fontsize\n",
    "plt.rc('figure', titlesize=BIGGER_SIZE)  # fontsize of the figure title\n",
    "\n",
    "\n",
    "def savefig(filename):\n",
    "    plt.savefig(\"plots/\"+filename, dpi=70, bbox_inches = 'tight', pad_inches = 0.1)"
   ]
  },
  {
   "cell_type": "code",
   "execution_count": 3,
   "id": "1cf5fc4e",
   "metadata": {},
   "outputs": [],
   "source": [
    "import multiprocessing as mp\n",
    "from multiprocessing import Pool, cpu_count"
   ]
  },
  {
   "cell_type": "code",
   "execution_count": 37,
   "id": "7769c1c1",
   "metadata": {},
   "outputs": [],
   "source": [
    "delta = 20\n",
    "r_eff_list = [50]#np.arange(delta, 100 + delta, delta)\n",
    "delta = 0.01\n",
    "n_list = np.arange(0.02, 20 + delta, delta)\n",
    "\n",
    "# delta = 0.5\n",
    "# n_list = np.arange(0.5, 20 + delta, delta)\n",
    "\n",
    "names = [\n",
    "    \"sersic_n\", \"sersic_r_eff\", \"sersic_amplitude\", \"sersic_total_flux_99\", \"sersic_r_99\", \"sersic_r_20\", \"sersic_r_80\", \"sersic_r_50\", \"sersic_r_90\", \"sersic_c2080\", \"sersic_c5090\", \"sersic_petro_0502\",\n",
    "    \"corr_eta\", \"corr_epsilon\", \"corr_r_petrosian\", \"corr_r_half_light\", \"corr_r_total_flux\", \"corr_total_flux\", \"corr_r_20\", \"corr_r_80\", \"corr_r_50\", \"corr_r_90\", \"corr_c2080\", \"corr_c5090\",\n",
    "    'uncorr_eta', 'uncorr_epsilon', 'uncorr_r_petrosian', 'uncorr_r_half_light', 'uncorr_r_total_flux', 'uncorr_total_flux', 'uncorr_r_20', 'uncorr_r_80',  \"uncorr_r_50\", \"uncorr_r_90\", \"uncorr_c2080\", \"uncorr_c5090\",\n",
    "]\n",
    "\n",
    "def process_image(n):\n",
    "    rows = []\n",
    "    n = np.round(n, 4)\n",
    "    #with ProgressBar(len(r_eff_list), ipython_widget=True) as bar:\n",
    "    if True:\n",
    "        for r_eff_idx, r_eff in enumerate(r_eff_list):\n",
    "            \n",
    "            b_n = gammaincinv(2. * n, 0.5)\n",
    "            amplitude=1 #/np.exp(b_n)\n",
    "\n",
    "            total_flux = sersic_enclosed(np.inf, amplitude, r_eff, n)\n",
    "            enclosed_99 = total_flux*.99\n",
    "\n",
    "            r_99 = sersic_enclosed_inv(enclosed_99, amplitude, r_eff, n)\n",
    "            r_20 = sersic_enclosed_inv(enclosed_99*0.2, amplitude, r_eff, n)\n",
    "            r_80 = sersic_enclosed_inv(enclosed_99*0.8, amplitude, r_eff, n)\n",
    "            r_90 = sersic_enclosed_inv(enclosed_99*0.9, amplitude, r_eff, n)\n",
    "            r_50 = sersic_enclosed_inv(enclosed_99*0.5, amplitude, r_eff, n)\n",
    "\n",
    "            oversample = 10000\n",
    "            compute_r_cutoff = 2000\n",
    "\n",
    "            if r_99 > compute_r_cutoff: \n",
    "                max_pix=int(r_90)*oversample\n",
    "            else:\n",
    "                max_pix=int(r_99*2)*oversample\n",
    "\n",
    "            r_list = make_radius_list(\n",
    "                        max_pix=max_pix, # Max pixel to go up to\n",
    "                        n=max_pix,# the number of radii to produce\n",
    "            )\n",
    "            r_list /=oversample\n",
    "\n",
    "            if r_99 > compute_r_cutoff: \n",
    "                delta = ((3*r_99)-r_90)\n",
    "                if delta > 1000:\n",
    "                    delta /= 1000\n",
    "                else:\n",
    "                    delta = 1\n",
    "\n",
    "                r_list = list(r_list) + list(np.arange(r_90+delta, (3*r_99)+delta, delta))\n",
    "                r_list = np.array(r_list)\n",
    "\n",
    "            flux_arr = sersic_enclosed(r_list, amplitude, r_eff, n)\n",
    "            #area_arr = np.pi*(r_list**2)\n",
    "\n",
    "            petrosian_list = petrosian_profile(r_list, r_eff, n)\n",
    "\n",
    "            # Interpolate values\n",
    "\n",
    "            eta = 0.2 \n",
    "            idx = closest_value_index(eta, petrosian_list)\n",
    "            r_petrosian = r_list[idx]\n",
    "\n",
    "            idx = closest_value_index(0.2, petrosian_list)\n",
    "            r_pertro_02 = r_list[idx]\n",
    "\n",
    "            idx = closest_value_index(0.5, petrosian_list)\n",
    "            r_pertro_05 = r_list[idx]\n",
    "\n",
    "            c_petro_0502 = 5 * np.log10(r_pertro_02/r_pertro_05)\n",
    "            \n",
    "            #r_list_new, petrosian_list_new = get_interpolated_values(r_list, petrosian_list, num=len(r_list)*10, kind='linear')\n",
    "            #idx = closest_value_index(eta, petrosian_list_new)\n",
    "            #r_petrosian = r_list_new[idx]\n",
    "\n",
    "            #f = interp1d(petrosian_list, r_list, kind='linear')\n",
    "            #r_petrosian = f(eta)\n",
    "\n",
    "            idx_list = np.where(petrosian_list <= eta)[0]\n",
    "\n",
    "            #print(total_flux)\n",
    "            epsilon = r_99 / r_petrosian\n",
    "            p_corr = None#Petrosian(r_list, area_arr, flux_arr, epsilon=epsilon)\n",
    "\n",
    "            p_corr_eta = eta\n",
    "            p_corr_epsilon = epsilon\n",
    "            p_corr_r_petrosian = r_petrosian\n",
    "            p_corr_r_total_flux = r_petrosian * p_corr_epsilon\n",
    "            f = interp1d(r_list, flux_arr, kind='linear')\n",
    "            p_corr_total_flux = f(p_corr_r_total_flux)\n",
    "            p_corr_r_20 = fraction_flux_to_r(r_list, flux_arr, p_corr_r_total_flux, fraction=0.2)\n",
    "            p_corr_r_80 = fraction_flux_to_r(r_list, flux_arr, p_corr_r_total_flux, fraction=0.8)\n",
    "            p_corr_r_50 = fraction_flux_to_r(r_list, flux_arr, p_corr_r_total_flux, fraction=0.5)\n",
    "            p_corr_r_90 = fraction_flux_to_r(r_list, flux_arr, p_corr_r_total_flux, fraction=0.9)\n",
    "            p_corr_r_half_light = fraction_flux_to_r(r_list, flux_arr, p_corr_r_total_flux, fraction=0.5)\n",
    "\n",
    "\n",
    "            p_uncorr_eta = eta\n",
    "            p_uncorr_epsilon = 2\n",
    "            p_uncorr_r_petrosian = r_petrosian\n",
    "            p_uncorr_r_total_flux = r_petrosian * p_uncorr_epsilon\n",
    "            f = interp1d(r_list, flux_arr, kind='linear')\n",
    "            p_uncorr_total_flux = f(p_uncorr_r_total_flux)\n",
    "            p_uncorr_r_20 = fraction_flux_to_r(r_list, flux_arr, p_uncorr_r_total_flux, fraction=0.2)\n",
    "            p_uncorr_r_80 = fraction_flux_to_r(r_list, flux_arr, p_uncorr_r_total_flux, fraction=0.8)\n",
    "            p_uncorr_r_50 = fraction_flux_to_r(r_list, flux_arr, p_uncorr_r_total_flux, fraction=0.5)\n",
    "            p_uncorr_r_90 = fraction_flux_to_r(r_list, flux_arr, p_uncorr_r_total_flux, fraction=0.9)\n",
    "            p_uncorr_r_half_light = fraction_flux_to_r(r_list, flux_arr, p_uncorr_r_total_flux, fraction=0.5)\n",
    "\n",
    "            row = [\n",
    "                n, r_eff, amplitude, total_flux, r_99, r_20, r_80, r_50, r_90, 5 *np.log10(r_80 / r_20), 5 *np.log10(r_90 / r_50), c_petro_0502,\n",
    "                p_corr_eta, p_corr_epsilon, p_corr_r_petrosian, p_corr_r_half_light, p_corr_r_total_flux, p_corr_total_flux, p_corr_r_20, p_corr_r_80, p_corr_r_50, p_corr_r_90, 5 *np.log10(p_corr_r_80 / p_corr_r_20), 5 *np.log10(p_corr_r_90 / p_corr_r_50), \n",
    "                p_uncorr_eta, p_uncorr_epsilon, p_uncorr_r_petrosian, p_uncorr_r_half_light, p_uncorr_r_total_flux, p_uncorr_total_flux, p_uncorr_r_20, p_uncorr_r_80, p_uncorr_r_50, p_uncorr_r_90, 5 *np.log10(p_uncorr_r_80 / p_uncorr_r_20), 5 *np.log10(p_uncorr_r_90 / p_uncorr_r_50),\n",
    "            ]\n",
    "            assert not np.any(np.isnan(np.array(row))), \"{}\".format(n)\n",
    "            #plt.plot(r_list, petrosian_list)\n",
    "            #plt.show()\n",
    "            del petrosian_list\n",
    "            del flux_arr\n",
    "            del r_list\n",
    "            \n",
    "            rows.append(row)\n",
    "            #bar.update()\n",
    "            \n",
    "    #print(\"done\")\n",
    "    print(n)\n",
    "    return Table(rows=rows, names=names)\n",
    "    \n",
    "\n",
    "\n",
    "# t = Table(rows=rows, names=names)\n",
    "\n",
    "# plt.show()\n"
   ]
  },
  {
   "cell_type": "code",
   "execution_count": null,
   "id": "da5d9a46",
   "metadata": {
    "scrolled": true
   },
   "outputs": [
    {
     "name": "stdout",
     "output_type": "stream",
     "text": [
      "Starting MP\n",
      "0.36\n",
      "0.7\n",
      "1.04\n",
      "0.37\n",
      "1.38\n",
      "0.71\n",
      "1.72\n",
      "0.38\n",
      "2.06\n",
      "1.05\n",
      "0.72\n",
      "0.39\n",
      "2.4\n",
      "1.39\n",
      "2.74\n",
      "0.4\n",
      "1.06\n",
      "0.73\n",
      "3.08\n",
      "1.73\n",
      "0.41\n",
      "2.07\n",
      "3.42\n",
      "0.74\n",
      "1.4\n",
      "0.42\n",
      "1.07\n",
      "3.76\n",
      "0.43\n",
      "0.75\n",
      "2.41\n",
      "1.74\n",
      "4.1\n",
      "1.08\n",
      "0.44\n",
      "1.41\n",
      "6.14\n",
      "2.75\n",
      "0.76\n",
      "4.44\n",
      "2.08\n",
      "0.45\n",
      "1.09\n",
      "0.77\n",
      "4.78\n",
      "3.09\n",
      "6.15\n",
      "1.75\n",
      "0.46\n",
      "1.42\n",
      "2.42\n",
      "0.47\n",
      "0.78\n",
      "1.1\n",
      "6.16\n",
      "3.43\n",
      "0.48\n",
      "2.09\n",
      "1.43\n",
      "0.79\n",
      "1.76\n",
      "2.76\n",
      "1.11\n",
      "0.49\n",
      "6.17\n",
      "3.77\n",
      "0.8\n",
      "0.5\n",
      "1.44\n",
      "2.43\n",
      "6.18\n",
      "1.12\n",
      "3.1\n",
      "0.51\n",
      "0.81\n",
      "1.77\n",
      "2.1\n",
      "4.11\n",
      "0.52\n",
      "6.19\n",
      "1.13\n",
      "0.82\n",
      "1.45\n",
      "0.53\n",
      "2.77\n",
      "4.45\n",
      "0.83\n",
      "1.78\n",
      "3.44\n",
      "6.2\n",
      "1.14\n",
      "0.54\n",
      "2.44\n",
      "2.11\n",
      "1.46\n",
      "0.84\n",
      "0.55\n",
      "6.21\n",
      "4.79\n",
      "1.15\n",
      "3.11\n",
      "0.56\n",
      "1.79\n",
      "3.78\n",
      "0.85\n",
      "6.22\n",
      "1.47\n",
      "0.57\n",
      "2.12\n",
      "2.78\n",
      "1.16\n",
      "2.45\n",
      "0.86\n",
      "6.23\n",
      "0.58\n",
      "1.8\n",
      "1.48\n",
      "4.12\n",
      "0.87\n",
      "1.17\n",
      "0.59\n",
      "3.45\n",
      "6.24\n",
      "0.6\n",
      "2.13\n",
      "0.88\n",
      "1.18\n",
      "1.49\n",
      "3.12\n",
      "6.25\n",
      "1.81\n",
      "0.61\n",
      "2.46\n",
      "2.79\n"
     ]
    }
   ],
   "source": [
    "# Start multiprocessing photometry (a core per filter)\n",
    "if __name__ == '__main__':\n",
    "    with Pool(processes=5) as pool: \n",
    "        print(\"Starting MP\")\n",
    "        try:\n",
    "            grid_tables = pool.map(process_image, list(n_list))\n",
    "        except Exception as e:\n",
    "            pool.close()\n",
    "            raise e \n",
    "            \n",
    "    print(\"Done\")"
   ]
  },
  {
   "cell_type": "code",
   "execution_count": 25,
   "id": "07acf14c",
   "metadata": {},
   "outputs": [],
   "source": [
    "from astropy.table import vstack"
   ]
  },
  {
   "cell_type": "code",
   "execution_count": 33,
   "id": "05e922bf",
   "metadata": {},
   "outputs": [],
   "source": [
    "t = vstack(grid_tables)"
   ]
  },
  {
   "cell_type": "code",
   "execution_count": 36,
   "id": "d8979843",
   "metadata": {},
   "outputs": [],
   "source": [
    "t.write('fine_petro_table_no_psf.csv', overwrite=True)"
   ]
  },
  {
   "cell_type": "code",
   "execution_count": 86,
   "id": "92eb40f6",
   "metadata": {},
   "outputs": [
    {
     "name": "stdout",
     "output_type": "stream",
     "text": [
      "1\n"
     ]
    },
    {
     "data": {
      "text/html": [
       "<i>Table length=1</i>\n",
       "<table id=\"table140543255338720\" class=\"table-striped table-bordered table-condensed\">\n",
       "<thead><tr><th>sersic_n</th><th>sersic_r_eff</th><th>sersic_amplitude</th><th>sersic_total_flux_99</th><th>sersic_r_99</th><th>sersic_r_20</th><th>sersic_r_80</th><th>sersic_c2080</th><th>sersic_petro_0205</th><th>corr_eta</th><th>corr_epsilon</th><th>corr_r_petrosian</th><th>corr_r_half_light</th><th>corr_r_total_flux</th><th>corr_total_flux</th><th>corr_r_20</th><th>corr_r_80</th><th>corr_c2080</th><th>uncorr_eta</th><th>uncorr_epsilon</th><th>uncorr_r_petrosian</th><th>uncorr_r_half_light</th><th>uncorr_r_total_flux</th><th>uncorr_total_flux</th><th>uncorr_r_20</th><th>uncorr_r_80</th><th>uncorr_c2080</th></tr></thead>\n",
       "<thead><tr><th>int64</th><th>int64</th><th>int64</th><th>float64</th><th>float64</th><th>float64</th><th>float64</th><th>float64</th><th>float64</th><th>float64</th><th>float64</th><th>float64</th><th>float64</th><th>float64</th><th>float64</th><th>float64</th><th>float64</th><th>float64</th><th>float64</th><th>int64</th><th>float64</th><th>float64</th><th>float64</th><th>float64</th><th>float64</th><th>float64</th><th>float64</th></tr></thead>\n",
       "<tr><td>1</td><td>50</td><td>1</td><td>29871.236853659997</td><td>197.76458942879003</td><td>24.39461142123563</td><td>87.64198561276176</td><td>2.7770915183788345</td><td>1.5267230021872105</td><td>0.2</td><td>1.8325959266903584</td><td>107.915</td><td>49.52610000000001</td><td>197.76458942879003</td><td>29572.52448512328</td><td>24.3946</td><td>87.64200000000001</td><td>2.777092891500987</td><td>0.2</td><td>2</td><td>107.915</td><td>49.72070000000001</td><td>215.83</td><td>29695.414232465737</td><td>24.462500000000002</td><td>88.27810000000001</td><td>2.7867606932548936</td></tr>\n",
       "</table>"
      ],
      "text/plain": [
       "<Table length=1>\n",
       "sersic_n sersic_r_eff sersic_amplitude ...    uncorr_r_80       uncorr_c2080   \n",
       " int64      int64          int64       ...      float64           float64      \n",
       "-------- ------------ ---------------- ... ----------------- ------------------\n",
       "       1           50                1 ... 88.27810000000001 2.7867606932548936"
      ]
     },
     "execution_count": 86,
     "metadata": {},
     "output_type": "execute_result"
    }
   ],
   "source": [
    "process_image(1)"
   ]
  },
  {
   "cell_type": "code",
   "execution_count": 87,
   "id": "d48c6b0b",
   "metadata": {},
   "outputs": [],
   "source": [
    "r_pertro_05, r_pertro_02, r_pertro_05 / r_pertro_02, c_petro_0205"
   ]
  },
  {
   "cell_type": "code",
   "execution_count": 91,
   "id": "7bf89048",
   "metadata": {},
   "outputs": [
    {
     "data": {
      "text/plain": [
       "8"
      ]
     },
     "execution_count": 91,
     "metadata": {},
     "output_type": "execute_result"
    }
   ],
   "source": [
    "t.colnames.index('sersic_petro_0205')"
   ]
  },
  {
   "cell_type": "code",
   "execution_count": 93,
   "id": "f7d47903",
   "metadata": {},
   "outputs": [],
   "source": [
    "t.colnames[8] = 'sersic_petro_0502'"
   ]
  },
  {
   "cell_type": "code",
   "execution_count": 96,
   "id": "ec033a0d",
   "metadata": {},
   "outputs": [],
   "source": [
    "t.rename_column('sersic_petro_0205', 'sersic_petro_0502')"
   ]
  },
  {
   "cell_type": "code",
   "execution_count": 34,
   "id": "188d660c",
   "metadata": {},
   "outputs": [
    {
     "data": {
      "text/html": [
       "<i>Table length=2000</i>\n",
       "<table id=\"table140039302894544\" class=\"table-striped table-bordered table-condensed\">\n",
       "<thead><tr><th>sersic_n</th><th>sersic_r_eff</th><th>sersic_amplitude</th><th>sersic_total_flux_99</th><th>sersic_r_99</th><th>sersic_r_20</th><th>sersic_r_80</th><th>sersic_r_50</th><th>sersic_r_90</th><th>sersic_c2080</th><th>sersic_c5090</th><th>sersic_petro_0502</th><th>corr_eta</th><th>corr_epsilon</th><th>corr_r_petrosian</th><th>corr_r_half_light</th><th>corr_r_total_flux</th><th>corr_total_flux</th><th>corr_r_20</th><th>corr_r_80</th><th>corr_r_50</th><th>corr_r_90</th><th>corr_c2080</th><th>corr_c5090</th><th>uncorr_eta</th><th>uncorr_epsilon</th><th>uncorr_r_petrosian</th><th>uncorr_r_half_light</th><th>uncorr_r_total_flux</th><th>uncorr_total_flux</th><th>uncorr_r_20</th><th>uncorr_r_80</th><th>uncorr_r_50</th><th>uncorr_r_90</th><th>uncorr_c2080</th><th>uncorr_c5090</th></tr></thead>\n",
       "<thead><tr><th>float64</th><th>int64</th><th>int64</th><th>float64</th><th>float64</th><th>float64</th><th>float64</th><th>float64</th><th>float64</th><th>float64</th><th>float64</th><th>float64</th><th>float64</th><th>float64</th><th>float64</th><th>float64</th><th>float64</th><th>float64</th><th>float64</th><th>float64</th><th>float64</th><th>float64</th><th>float64</th><th>float64</th><th>float64</th><th>int64</th><th>float64</th><th>float64</th><th>float64</th><th>float64</th><th>float64</th><th>float64</th><th>float64</th><th>float64</th><th>float64</th><th>float64</th></tr></thead>\n",
       "<tr><td>0.02</td><td>50</td><td>1</td><td>15707.963528967697</td><td>71.40516830043747</td><td>31.464265434647732</td><td>62.93059555384164</td><td>49.749371851657564</td><td>66.78837319393094</td><td>1.505221223141862</td><td>0.6395663180461293</td><td>0.0363436477752976</td><td>0.2</td><td>0.9888638762657644</td><td>72.2093</td><td>49.74937185165756</td><td>71.40516830043747</td><td>15550.883893678014</td><td>31.46426543464772</td><td>62.93059555384162</td><td>49.74937185165756</td><td>66.78837319393094</td><td>1.505221223141862</td><td>0.6395663180461297</td><td>0.2</td><td>2</td><td>72.2093</td><td>49.74937185165756</td><td>144.4186</td><td>15550.883893678014</td><td>31.46426543464772</td><td>62.93059555384162</td><td>49.74937185165756</td><td>66.78837319393094</td><td>1.505221223141862</td><td>0.6395663180461297</td></tr>\n",
       "<tr><td>0.03</td><td>50</td><td>1</td><td>15708.047175054557</td><td>72.2551772778192</td><td>31.46426040295366</td><td>62.950235415439636</td><td>49.7493706257674</td><td>66.91953762642379</td><td>1.5058991543900548</td><td>0.6438267034354574</td><td>0.05433778215930992</td><td>0.2</td><td>0.9902622366100675</td><td>72.9657</td><td>49.7493706257674</td><td>72.2551772778192</td><td>15550.966703304013</td><td>31.464260402953652</td><td>62.950235415439636</td><td>49.7493706257674</td><td>66.91953762642379</td><td>1.5058991543900553</td><td>0.6438267034354574</td><td>0.2</td><td>2</td><td>72.9657</td><td>49.7493706257674</td><td>145.9314</td><td>15550.966703304013</td><td>31.464260402953652</td><td>62.950235415439636</td><td>49.7493706257674</td><td>66.91953762642379</td><td>1.5058991543900553</td><td>0.6438267034354574</td></tr>\n",
       "<tr><td>0.04</td><td>50</td><td>1</td><td>15709.465445009302</td><td>73.19186495159643</td><td>31.46414509612959</td><td>63.00569596523017</td><td>49.74934938853548</td><td>67.13679713322007</td><td>1.5078193851518464</td><td>0.6508660659775783</td><td>0.07221964368253292</td><td>0.2</td><td>0.9927470540021706</td><td>73.7266</td><td>49.74934938853548</td><td>73.19186495159643</td><td>15552.37079055921</td><td>31.46414509612959</td><td>63.00569596523017</td><td>49.74934938853548</td><td>67.13679713322007</td><td>1.5078193851518464</td><td>0.6508660659775783</td><td>0.2</td><td>2</td><td>73.7266</td><td>49.74934938853548</td><td>147.4532</td><td>15552.37079055921</td><td>31.46414509612959</td><td>63.00569596523017</td><td>49.74934938853548</td><td>67.13679713322007</td><td>1.5078193851518464</td><td>0.6508660659775783</td></tr>\n",
       "<tr><td>0.05</td><td>50</td><td>1</td><td>15716.439267926888</td><td>74.1911342106297</td><td>31.463416981643544</td><td>63.10308651247255</td><td>49.74924351878205</td><td>67.42440748041399</td><td>1.5112235804570961</td><td>0.6601532865030911</td><td>0.08999417782933855</td><td>0.2</td><td>0.9959731325034762</td><td>74.4911</td><td>49.74924351878205</td><td>74.1911342106297</td><td>15559.274875247616</td><td>31.463416981643537</td><td>63.10308651247254</td><td>49.74924351878205</td><td>67.42440748041398</td><td>1.5112235804570961</td><td>0.6601532865030907</td><td>0.2</td><td>2</td><td>74.4911</td><td>49.74924351878205</td><td>148.9822</td><td>15559.274875247616</td><td>31.463416981643537</td><td>63.10308651247254</td><td>49.74924351878205</td><td>67.42440748041398</td><td>1.5112235804570961</td><td>0.6601532865030907</td></tr>\n",
       "<tr><td>0.06</td><td>50</td><td>1</td><td>15734.83617139153</td><td>75.23813078580307</td><td>31.461041546469026</td><td>63.240135600013595</td><td>49.74896162694044</td><td>67.76756106372022</td><td>1.5160984811940974</td><td>0.6711891765451126</td><td>0.10766356884316473</td><td>0.2</td><td>0.9997545834624878</td><td>75.2566</td><td>49.74896162694044</td><td>75.23813078580307</td><td>15577.487809677614</td><td>31.461041546469026</td><td>63.240135600013595</td><td>49.74896162694044</td><td>67.76756106372022</td><td>1.5160984811940974</td><td>0.6711891765451126</td><td>0.2</td><td>2</td><td>75.2566</td><td>49.74896162694044</td><td>150.5132</td><td>15577.487809677614</td><td>31.461041546469026</td><td>63.240135600013595</td><td>49.74896162694044</td><td>67.76756106372022</td><td>1.5160984811940974</td><td>0.6711891765451126</td></tr>\n",
       "<tr><td>0.07</td><td>50</td><td>1</td><td>15769.31121006319</td><td>76.32197020211765</td><td>31.455701781583027</td><td>63.41125854727115</td><td>49.74842990338771</td><td>68.15384485463343</td><td>1.5223349703664284</td><td>0.6835549132640346</td><td>0.12523339778541492</td><td>0.2</td><td>1.0039735674753274</td><td>76.0199</td><td>49.74842990338771</td><td>76.32197020211765</td><td>15611.618097962555</td><td>31.455701781583027</td><td>63.411258547271146</td><td>49.74842990338771</td><td>68.15384485463345</td><td>1.522334970366428</td><td>0.6835549132640351</td><td>0.2</td><td>2</td><td>76.0199</td><td>49.74842990338771</td><td>152.0398</td><td>15611.618097962555</td><td>31.455701781583027</td><td>63.411258547271146</td><td>49.74842990338771</td><td>68.15384485463345</td><td>1.522334970366428</td><td>0.6835549132640351</td></tr>\n",
       "<tr><td>0.08</td><td>50</td><td>1</td><td>15822.118616440282</td><td>77.43422520236713</td><td>31.446134579471718</td><td>63.610258025045866</td><td>49.7476115403318</td><td>68.57323129211778</td><td>1.5297994424746195</td><td>0.6969119011968774</td><td>0.14270602041121588</td><td>0.2</td><td>1.0085496745461204</td><td>76.7778</td><td>49.7476115403318</td><td>77.43422520236713</td><td>15663.897430275878</td><td>31.446134579471714</td><td>63.610258025045866</td><td>49.7476115403318</td><td>68.57323129211778</td><td>1.5297994424746195</td><td>0.6969119011968774</td><td>0.2</td><td>2</td><td>76.7778</td><td>49.7476115403318</td><td>153.5556</td><td>15663.897430275878</td><td>31.446134579471714</td><td>63.610258025045866</td><td>49.7476115403318</td><td>68.57323129211778</td><td>1.5297994424746195</td><td>0.6969119011968774</td></tr>\n",
       "<tr><td>0.09</td><td>50</td><td>1</td><td>15893.431627152255</td><td>78.56835272202333</td><td>31.43133929265219</td><td>63.83146835634727</td><td>49.7465024461867</td><td>69.0178165985314</td><td>1.5383597407753702</td><td>0.7109933207061443</td><td>0.16008007484932876</td><td>0.2</td><td>1.013428208154074</td><td>77.5273</td><td>49.74650244618671</td><td>78.56835272202333</td><td>15734.49731088073</td><td>31.431339292652183</td><td>63.83146835634725</td><td>49.74650244618671</td><td>69.01781659853137</td><td>1.5383597407753697</td><td>0.7109933207061434</td><td>0.2</td><td>2</td><td>77.5273</td><td>49.74650244618671</td><td>155.0546</td><td>15734.49731088073</td><td>31.431339292652183</td><td>63.83146835634725</td><td>49.74650244618671</td><td>69.01781659853137</td><td>1.5383597407753697</td><td>0.7109933207061434</td></tr>\n",
       "<tr><td>0.1</td><td>50</td><td>1</td><td>15982.109835445623</td><td>79.71932279635051</td><td>31.41064769740394</td><td>64.07011469049148</td><td>49.74511951315037</td><td>69.48147011783308</td><td>1.5478930481712825</td><td>0.7255926012787439</td><td>0.17736082340457393</td><td>0.2</td><td>1.0185664155963943</td><td>78.2662</td><td>49.74511951315037</td><td>79.71932279635051</td><td>15822.288737091167</td><td>31.41064769740394</td><td>64.07011469049148</td><td>49.74511951315037</td><td>69.48147011783308</td><td>1.5478930481712825</td><td>0.7255926012787439</td><td>0.2</td><td>2</td><td>78.2662</td><td>49.74511951315037</td><td>156.5324</td><td>15822.288737091167</td><td>31.41064769740394</td><td>64.07011469049148</td><td>49.74511951315037</td><td>69.48147011783308</td><td>1.5478930481712825</td><td>0.7255926012787439</td></tr>\n",
       "<tr><td>0.11</td><td>50</td><td>1</td><td>16086.364138549168</td><td>80.88330475984728</td><td>31.38370915840082</td><td>64.32232712103834</td><td>49.743490210390455</td><td>69.9594776202488</td><td>1.5582873898845584</td><td>0.7405515203867087</td><td>0.19455364920934065</td><td>0.2</td><td>1.023931324965247</td><td>78.9929</td><td>49.743490210390455</td><td>80.88330475984728</td><td>15925.500497163677</td><td>31.38370915840082</td><td>64.32232712103834</td><td>49.743490210390455</td><td>69.9594776202488</td><td>1.5582873898845584</td><td>0.7405515203867087</td><td>0.2</td><td>2</td><td>78.9929</td><td>49.743490210390455</td><td>157.9858</td><td>15925.500497163677</td><td>31.38370915840082</td><td>64.32232712103834</td><td>49.743490210390455</td><td>69.9594776202488</td><td>1.5582873898845584</td><td>0.7405515203867087</td></tr>\n",
       "<tr><td>...</td><td>...</td><td>...</td><td>...</td><td>...</td><td>...</td><td>...</td><td>...</td><td>...</td><td>...</td><td>...</td><td>...</td><td>...</td><td>...</td><td>...</td><td>...</td><td>...</td><td>...</td><td>...</td><td>...</td><td>...</td><td>...</td><td>...</td><td>...</td><td>...</td><td>...</td><td>...</td><td>...</td><td>...</td><td>...</td><td>...</td><td>...</td><td>...</td><td>...</td><td>...</td><td>...</td></tr>\n",
       "<tr><td>19.92</td><td>50</td><td>1</td><td>124696.72620507453</td><td>51666.93950194836</td><td>3.196925679632151</td><td>622.4834916633888</td><td>48.05357808903909</td><td>2186.7851515893876</td><td>11.44697649114426</td><td>8.290401926946746</td><td>21.832114786129864</td><td>0.2</td><td>11111.169785365239</td><td>4.65</td><td>48.05357808903887</td><td>51666.93950194836</td><td>123449.75894302377</td><td>3.196925679632151</td><td>622.4834916633864</td><td>48.05357808903887</td><td>2186.7851515893876</td><td>11.446976491144254</td><td>8.290401926946757</td><td>0.2</td><td>2</td><td>4.65</td><td>48.05357808903887</td><td>9.3</td><td>123449.75894302377</td><td>3.196925679632151</td><td>622.4834916633864</td><td>48.05357808903887</td><td>2186.7851515893876</td><td>11.446976491144254</td><td>8.290401926946757</td></tr>\n",
       "<tr><td>19.93</td><td>50</td><td>1</td><td>124727.8030402216</td><td>51761.62642693184</td><td>3.1947863639779457</td><td>622.8831541731333</td><td>48.05310273167071</td><td>2188.910928521603</td><td>11.44982381734129</td><td>8.292533273830255</td><td>21.827627112283547</td><td>0.2</td><td>11154.561336723526</td><td>4.6404</td><td>48.05310273167071</td><td>51761.62642693184</td><td>123480.52500981936</td><td>3.1947863639779457</td><td>622.8831541731333</td><td>48.05310273167071</td><td>2188.910928521595</td><td>11.44982381734129</td><td>8.292533273830248</td><td>0.2</td><td>2</td><td>4.6404</td><td>48.05310273167071</td><td>9.2808</td><td>123480.52500981936</td><td>3.1947863639779457</td><td>622.8831541731333</td><td>48.05310273167071</td><td>2188.910928521595</td><td>11.44982381734129</td><td>8.292533273830248</td></tr>\n",
       "<tr><td>19.94</td><td>50</td><td>1</td><td>124758.87213525949</td><td>51856.463344095246</td><td>3.192649011211092</td><td>623.2829736668239</td><td>48.05262749739591</td><td>2191.038242209043</td><td>11.452670435114587</td><td>8.294664090378586</td><td>21.823130144775202</td><td>0.2</td><td>11198.16518616551</td><td>4.6308</td><td>48.05262749739591</td><td>51856.46334409524</td><td>123511.2834139069</td><td>3.192649011211092</td><td>623.2829736668239</td><td>48.05262749739591</td><td>2191.038242209043</td><td>11.452670435114587</td><td>8.294664090378586</td><td>0.2</td><td>2</td><td>4.6308</td><td>48.05262749739591</td><td>9.2616</td><td>123511.2834139069</td><td>3.192649011211092</td><td>623.2829736668239</td><td>48.05262749739591</td><td>2191.038242209043</td><td>11.452670435114587</td><td>8.294664090378586</td></tr>\n",
       "<tr><td>19.95</td><td>50</td><td>1</td><td>124789.93349596793</td><td>51951.450459631575</td><td>3.190513618911648</td><td>623.6829501918205</td><td>48.0521523861226</td><td>2193.1670935118086</td><td>11.455516344992581</td><td>8.296794376987535</td><td>21.818623845031873</td><td>0.2</td><td>11241.982701383098</td><td>4.6212</td><td>48.0521523861226</td><td>51951.450459631575</td><td>123542.0341610082</td><td>3.190513618911648</td><td>623.6829501918181</td><td>48.0521523861226</td><td>2193.1670935117927</td><td>11.455516344992574</td><td>8.296794376987519</td><td>0.2</td><td>2</td><td>4.6212</td><td>48.0521523861226</td><td>9.2424</td><td>123542.0341610082</td><td>3.190513618911648</td><td>623.6829501918181</td><td>48.0521523861226</td><td>2193.1670935117927</td><td>11.455516344992574</td><td>8.296794376987519</td></tr>\n",
       "<tr><td>19.96</td><td>50</td><td>1</td><td>124820.98712811951</td><td>52046.58797997183</td><td>3.188380184663557</td><td>624.0830837954861</td><td>48.051677397758965</td><td>2195.2974832903765</td><td>11.458361547503038</td><td>8.29892413405239</td><td>21.814108174239962</td><td>0.2</td><td>11286.015261508333</td><td>4.6116</td><td>48.051677397758965</td><td>52046.58797997183</td><td>123572.77725683828</td><td>3.188380184663557</td><td>624.0830837954861</td><td>48.051677397758965</td><td>2195.29748329036</td><td>11.458361547503038</td><td>8.298924134052374</td><td>0.2</td><td>2</td><td>4.6116</td><td>48.051677397758965</td><td>9.2232</td><td>123572.77725683828</td><td>3.188380184663557</td><td>624.0830837954861</td><td>48.051677397758965</td><td>2195.29748329036</td><td>11.458361547503038</td><td>8.298924134052374</td></tr>\n",
       "<tr><td>19.97</td><td>50</td><td>1</td><td>124852.0330374795</td><td>52141.87611179948</td><td>3.186248706054663</td><td>624.4833745251901</td><td>48.051202532213374</td><td>2197.429412405589</td><td>11.46120604317304</td><td>8.301053361967936</td><td>21.809630278237115</td><td>0.2</td><td>11330.018059537924</td><td>4.6021</td><td>48.051202532213374</td><td>52141.87611179948</td><td>123603.51270710467</td><td>3.186248706054663</td><td>624.4833745251901</td><td>48.051202532213374</td><td>2197.4294124055814</td><td>11.46120604317304</td><td>8.301053361967929</td><td>0.2</td><td>2</td><td>4.6021</td><td>48.051202532213374</td><td>9.2042</td><td>123603.51270710467</td><td>3.186248706054663</td><td>624.4833745251901</td><td>48.051202532213374</td><td>2197.4294124055814</td><td>11.46120604317304</td><td>8.301053361967929</td></tr>\n",
       "<tr><td>19.98</td><td>50</td><td>1</td><td>124883.07122980614</td><td>52237.31506205278</td><td>3.1841191806766243</td><td>624.8838224283058</td><td>48.05072778939385</td><td>2199.5628817186744</td><td>11.464049832529055</td><td>8.303182061128489</td><td>21.805143129068362</td><td>0.2</td><td>11374.23574055062</td><td>4.5926</td><td>48.05072778939385</td><td>52237.31506205278</td><td>123634.2405175081</td><td>3.1841191806766243</td><td>624.8838224283058</td><td>48.05072778939385</td><td>2199.562881718682</td><td>11.464049832529055</td><td>8.303182061128496</td><td>0.2</td><td>2</td><td>4.5926</td><td>48.05072778939385</td><td>9.1852</td><td>123634.2405175081</td><td>3.1841191806766243</td><td>624.8838224283058</td><td>48.05072778939385</td><td>2199.562881718682</td><td>11.464049832529055</td><td>8.303182061128496</td></tr>\n",
       "<tr><td>19.99</td><td>50</td><td>1</td><td>124914.10171085042</td><td>52332.90503790049</td><td>3.1819916061249827</td><td>625.2844275522162</td><td>48.05025316920923</td><td>2201.6978920912516</td><td>11.466892916096887</td><td>8.30531023192785</td><td>21.800599307904026</td><td>0.2</td><td>11418.918838730197</td><td>4.583</td><td>48.05025316920923</td><td>52332.90503790049</td><td>123664.96069374192</td><td>3.1819916061249827</td><td>625.2844275522162</td><td>48.05025316920923</td><td>2201.6978920912516</td><td>11.466892916096887</td><td>8.30531023192785</td><td>0.2</td><td>2</td><td>4.583</td><td>48.05025316920923</td><td>9.166</td><td>123664.96069374192</td><td>3.1819916061249827</td><td>625.2844275522162</td><td>48.05025316920923</td><td>2201.6978920912516</td><td>11.466892916096887</td><td>8.30531023192785</td></tr>\n",
       "<tr><td>20.0</td><td>50</td><td>1</td><td>124945.12448635636</td><td>52428.64624678201</td><td>3.1798659799991706</td><td>625.6851899443088</td><td>48.0497786715683</td><td>2203.834444385326</td><td>11.469735294401657</td><td>8.307437874759351</td><td>21.796140917711174</td><td>0.2</td><td>11463.321288871351</td><td>4.5736</td><td>48.0497786715683</td><td>52428.64624678201</td><td>123695.6732414928</td><td>3.1798659799991706</td><td>625.6851899443088</td><td>48.0497786715683</td><td>2203.834444385326</td><td>11.469735294401657</td><td>8.307437874759351</td><td>0.2</td><td>2</td><td>4.5736</td><td>48.0497786715683</td><td>9.1472</td><td>123695.6732414928</td><td>3.1798659799991706</td><td>625.6851899443088</td><td>48.0497786715683</td><td>2203.834444385326</td><td>11.469735294401657</td><td>8.307437874759351</td></tr>\n",
       "<tr><td>20.01</td><td>50</td><td>1</td><td>124976.13956206059</td><td>52524.53889636521</td><td>3.1777422999023712</td><td>626.0861096519701</td><td>48.04930429637906</td><td>2205.9725394632446</td><td>11.472576967967882</td><td>8.309564990015833</td><td>21.791625778163404</td><td>0.2</td><td>11508.191953805834</td><td>4.5641</td><td>48.04930429637906</td><td>52524.5388963652</td><td>123726.37816643999</td><td>3.1777422999023712</td><td>626.0861096519701</td><td>48.04930429637906</td><td>2205.9725394632446</td><td>11.472576967967882</td><td>8.309564990015833</td><td>0.2</td><td>2</td><td>4.5641</td><td>48.04930429637906</td><td>9.1282</td><td>123726.37816643999</td><td>3.1777422999023712</td><td>626.0861096519701</td><td>48.04930429637906</td><td>2205.9725394632446</td><td>11.472576967967882</td><td>8.309564990015833</td></tr>\n",
       "</table>"
      ],
      "text/plain": [
       "<Table length=2000>\n",
       "sersic_n sersic_r_eff sersic_amplitude ...    uncorr_c2080       uncorr_c5090   \n",
       "float64     int64          int64       ...      float64            float64      \n",
       "-------- ------------ ---------------- ... ------------------ ------------------\n",
       "    0.02           50                1 ...  1.505221223141862 0.6395663180461297\n",
       "    0.03           50                1 ... 1.5058991543900553 0.6438267034354574\n",
       "    0.04           50                1 ... 1.5078193851518464 0.6508660659775783\n",
       "    0.05           50                1 ... 1.5112235804570961 0.6601532865030907\n",
       "    0.06           50                1 ... 1.5160984811940974 0.6711891765451126\n",
       "    0.07           50                1 ...  1.522334970366428 0.6835549132640351\n",
       "    0.08           50                1 ... 1.5297994424746195 0.6969119011968774\n",
       "    0.09           50                1 ... 1.5383597407753697 0.7109933207061434\n",
       "     0.1           50                1 ... 1.5478930481712825 0.7255926012787439\n",
       "    0.11           50                1 ... 1.5582873898845584 0.7405515203867087\n",
       "     ...          ...              ... ...                ...                ...\n",
       "   19.92           50                1 ... 11.446976491144254  8.290401926946757\n",
       "   19.93           50                1 ...  11.44982381734129  8.292533273830248\n",
       "   19.94           50                1 ... 11.452670435114587  8.294664090378586\n",
       "   19.95           50                1 ... 11.455516344992574  8.296794376987519\n",
       "   19.96           50                1 ... 11.458361547503038  8.298924134052374\n",
       "   19.97           50                1 ...  11.46120604317304  8.301053361967929\n",
       "   19.98           50                1 ... 11.464049832529055  8.303182061128496\n",
       "   19.99           50                1 ... 11.466892916096887   8.30531023192785\n",
       "    20.0           50                1 ... 11.469735294401657  8.307437874759351\n",
       "   20.01           50                1 ... 11.472576967967882  8.309564990015833"
      ]
     },
     "execution_count": 34,
     "metadata": {},
     "output_type": "execute_result"
    }
   ],
   "source": [
    "t"
   ]
  },
  {
   "cell_type": "code",
   "execution_count": null,
   "id": "a5c1c9c9",
   "metadata": {},
   "outputs": [],
   "source": [
    "len(np.arange(0.5,5.5,0.5))"
   ]
  },
  {
   "cell_type": "code",
   "execution_count": 105,
   "id": "7938c56d",
   "metadata": {},
   "outputs": [
    {
     "data": {
      "text/plain": [
       "10"
      ]
     },
     "execution_count": 105,
     "metadata": {},
     "output_type": "execute_result"
    }
   ],
   "source": [
    "len(np.arange(10,101,10))"
   ]
  },
  {
   "cell_type": "markdown",
   "id": "7433c285",
   "metadata": {},
   "source": [
    "# Second Simulation "
   ]
  },
  {
   "cell_type": "code",
   "execution_count": 108,
   "id": "9a1b72fa",
   "metadata": {},
   "outputs": [
    {
     "name": "stdout",
     "output_type": "stream",
     "text": [
      "PSF Shape = (51, 51)\n"
     ]
    },
    {
     "data": {
      "image/png": "[encoded data removed]",
      "text/plain": [
       "<Figure size 720x720 with 1 Axes>"
      ]
     },
     "metadata": {
      "needs_background": "light"
     },
     "output_type": "display_data"
    }
   ],
   "source": [
    "from astropy.io import fits\n",
    "\n",
    "from matplotlib import pyplot as plt\n",
    "\n",
    "# Load PSF image (2D array)\n",
    "PSF = fits.getdata('data/f105w_psf.fits.gz')\n",
    "\n",
    "# Normalize PSF \n",
    "PSF = PSF / PSF.sum()\n",
    "\n",
    "# Note that the PSF shape is odd on all sides\n",
    "print(\"PSF Shape = {}\".format(PSF.shape))\n",
    "\n",
    "# Plot PSF and use vmax and vmin to show difraction spikes\n",
    "plt.imshow(PSF, vmin=0, vmax=5e-4)\n",
    "plt.show()"
   ]
  },
  {
   "cell_type": "code",
   "execution_count": 110,
   "id": "94dccb25",
   "metadata": {},
   "outputs": [
    {
     "data": {
      "text/plain": [
       "[<matplotlib.lines.Line2D at 0x7fd2cba91940>]"
      ]
     },
     "execution_count": 110,
     "metadata": {},
     "output_type": "execute_result"
    },
    {
     "data": {
      "image/png": "[encoded data removed]",
      "text/plain": [
       "<Figure size 720x720 with 1 Axes>"
      ]
     },
     "metadata": {
      "needs_background": "light"
     },
     "output_type": "display_data"
    }
   ],
   "source": [
    "PSF_SLICE = PSF[PSF.shape[0]//2, :]\n",
    "\n",
    "plt.plot(PSF_SLICE)"
   ]
  },
  {
   "cell_type": "code",
   "execution_count": null,
   "id": "49f2627d",
   "metadata": {},
   "outputs": [],
   "source": [
    "run = 0\n",
    "\n",
    "delta = 20\n",
    "r_eff_list = [50]#np.arange(delta, 100 + delta, delta)\n",
    "delta = 0.01\n",
    "n_list = np.arange(0.2, 20 + delta, delta)\n",
    "\n",
    "names = [\n",
    "    \"sersic_n\", \"sersic_r_eff\", \"sersic_amplitude\", \"sersic_total_flux_99\", \"sersic_r_99\", \"sersic_r_20\", \"sersic_r_80\", \"sersic_c2080\", \"sersic_petro_0502\",\n",
    "    \"corr_eta\", \"corr_epsilon\", \"corr_r_petrosian\", \"corr_r_half_light\", \"corr_r_total_flux\", \"corr_total_flux\", \"corr_r_20\", \"corr_r_80\", \"corr_c2080\",\n",
    "    'uncorr_eta', 'uncorr_epsilon', 'uncorr_r_petrosian', 'uncorr_r_half_light', 'uncorr_r_total_flux', 'uncorr_total_flux', 'uncorr_r_20', 'uncorr_r_80', 'uncorr_c2080'\n",
    "]\n",
    "\n",
    "def process_image_2(n):\n",
    "    rows = []\n",
    "    #with ProgressBar(len(r_eff_list), ipython_widget=True) as bar:\n",
    "    if True:\n",
    "        for r_eff_idx, r_eff in enumerate(r_eff_list):\n",
    "            \n",
    "            b_n = gammaincinv(2. * n, 0.5)\n",
    "            amplitude=1 #/np.exp(b_n)\n",
    "\n",
    "            total_flux = sersic_enclosed(np.inf, amplitude, r_eff, n)\n",
    "            enclosed_99 = total_flux*.99\n",
    "\n",
    "            r_99 = sersic_enclosed_inv(enclosed_99, amplitude, r_eff, n)\n",
    "            r_20 = sersic_enclosed_inv(enclosed_99*0.2, amplitude, r_eff, n)\n",
    "            r_80 = sersic_enclosed_inv(enclosed_99*0.8, amplitude, r_eff, n)\n",
    "            r_90 = sersic_enclosed_inv(enclosed_99*0.9, amplitude, r_eff, n)\n",
    "            r_50 = sersic_enclosed_inv(enclosed_99*0.5, amplitude, r_eff, n)\n",
    "\n",
    "            oversample = 10000\n",
    "            compute_r_cutoff = 2000\n",
    "\n",
    "            if r_99 > compute_r_cutoff: \n",
    "                max_pix=int(r_90)*oversample\n",
    "            else:\n",
    "                max_pix=int(r_99*2)*oversample\n",
    "\n",
    "            r_list = make_radius_list(\n",
    "                        max_pix=max_pix, # Max pixel to go up to\n",
    "                        n=max_pix,# the number of radii to produce\n",
    "            )\n",
    "            r_list /=oversample\n",
    "\n",
    "            if r_99 > compute_r_cutoff: \n",
    "                delta = ((3*r_99)-r_90)\n",
    "                if delta > 1000:\n",
    "                    delta /= 1000\n",
    "                else:\n",
    "                    delta = 1\n",
    "\n",
    "                r_list = list(r_list) + list(np.arange(r_90+delta, (3*r_99)+delta, delta))\n",
    "                r_list = np.array(r_list)\n",
    "\n",
    "            flux_arr = sersic_enclosed(r_list, amplitude, r_eff, n)\n",
    "            area_arr = np.pi*(r_list**2)\n",
    "\n",
    "            #petrosian_list = petrosian_profile(r_list, r_eff, n)\n",
    "            \n",
    "            # Interpolate values\n",
    "\n",
    "            eta = 0.2 \n",
    "            idx = closest_value_index(eta, petrosian_list)\n",
    "            r_petrosian = r_list[idx]\n",
    "\n",
    "            idx = closest_value_index(0.2, petrosian_list)\n",
    "            r_pertro_02 = r_list[idx]\n",
    "\n",
    "            idx = closest_value_index(0.5, petrosian_list)\n",
    "            r_pertro_05 = r_list[idx]\n",
    "\n",
    "            c_petro_0502 = 5 * np.log10(r_pertro_02/r_pertro_05)\n",
    "            \n",
    "            #r_list_new, petrosian_list_new = get_interpolated_values(r_list, petrosian_list, num=len(r_list)*10, kind='linear')\n",
    "            #idx = closest_value_index(eta, petrosian_list_new)\n",
    "            #r_petrosian = r_list_new[idx]\n",
    "\n",
    "            #f = interp1d(petrosian_list, r_list, kind='linear')\n",
    "            #r_petrosian = f(eta)\n",
    "\n",
    "            idx_list = np.where(petrosian_list <= eta)[0]\n",
    "\n",
    "            #print(total_flux)\n",
    "            epsilon = r_99 / r_petrosian\n",
    "            p_corr = None#Petrosian(r_list, area_arr, flux_arr, epsilon=epsilon)\n",
    "\n",
    "            p_corr_eta = eta\n",
    "            p_corr_epsilon = epsilon\n",
    "            p_corr_r_petrosian = r_petrosian\n",
    "            p_corr_r_total_flux = r_petrosian * p_corr_epsilon\n",
    "            f = interp1d(r_list, flux_arr, kind='linear')\n",
    "            p_corr_total_flux = f(p_corr_r_total_flux)\n",
    "            p_corr_r_20 = fraction_flux_to_r(r_list, flux_arr, p_corr_r_total_flux, fraction=0.2)\n",
    "            p_corr_r_80 = fraction_flux_to_r(r_list, flux_arr, p_corr_r_total_flux, fraction=0.8)\n",
    "            p_corr_r_half_light = fraction_flux_to_r(r_list, flux_arr, p_corr_r_total_flux, fraction=0.5)\n",
    "\n",
    "\n",
    "            p_uncorr_eta = eta\n",
    "            p_uncorr_epsilon = 2\n",
    "            p_uncorr_r_petrosian = r_petrosian\n",
    "            p_uncorr_r_total_flux = r_petrosian * p_uncorr_epsilon\n",
    "            f = interp1d(r_list, flux_arr, kind='linear')\n",
    "            p_uncorr_total_flux = f(p_uncorr_r_total_flux)\n",
    "            p_uncorr_r_20 = fraction_flux_to_r(r_list, flux_arr, p_uncorr_r_total_flux, fraction=0.2)\n",
    "            p_uncorr_r_80 = fraction_flux_to_r(r_list, flux_arr, p_uncorr_r_total_flux, fraction=0.8)\n",
    "            p_uncorr_r_half_light = fraction_flux_to_r(r_list, flux_arr, p_uncorr_r_total_flux, fraction=0.5)\n",
    "\n",
    "            row = [\n",
    "                n, r_eff, amplitude, total_flux, r_99, r_20, r_80, 5 *np.log10(r_80 / r_20), c_petro_0502,\n",
    "                p_corr_eta, p_corr_epsilon, p_corr_r_petrosian, p_corr_r_half_light, p_corr_r_total_flux, p_corr_total_flux, p_corr_r_20, p_corr_r_80, 5 *np.log10(p_corr_r_80 / p_corr_r_20), \n",
    "                p_uncorr_eta, p_uncorr_epsilon, p_uncorr_r_petrosian, p_uncorr_r_half_light, p_uncorr_r_total_flux, p_uncorr_total_flux, p_uncorr_r_20, p_uncorr_r_80, 5 *np.log10(p_uncorr_r_80 / p_uncorr_r_20),\n",
    "            ]\n",
    "            assert not np.any(np.isnan(np.array(row))), \"{}\".format(n)\n",
    "            #plt.plot(r_list, petrosian_list)\n",
    "            #plt.show()\n",
    "            del petrosian_list\n",
    "            del flux_arr\n",
    "            del r_list\n",
    "            \n",
    "            rows.append(row)\n",
    "            #bar.update()\n",
    "            \n",
    "    #print(\"done\")\n",
    "    print(n)\n",
    "    return Table(rows=rows, names=names)\n",
    "    \n",
    "\n",
    "\n",
    "# t = Table(rows=rows, names=names)\n",
    "\n",
    "# plt.show()\n"
   ]
  }
 ],
 "metadata": {
  "kernelspec": {
   "display_name": "Python 3",
   "language": "python",
   "name": "python3"
  },
  "language_info": {
   "codemirror_mode": {
    "name": "ipython",
    "version": 3
   },
   "file_extension": ".py",
   "mimetype": "text/x-python",
   "name": "python",
   "nbconvert_exporter": "python",
   "pygments_lexer": "ipython3",
   "version": "3.9.4"
  }
 },
 "nbformat": 4,
 "nbformat_minor": 5
}
